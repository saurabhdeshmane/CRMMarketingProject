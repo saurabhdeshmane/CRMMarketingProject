{
 "cells": [
  {
   "cell_type": "markdown",
   "id": "0cb5f9ce",
   "metadata": {},
   "source": [
    "# Import Libraries"
   ]
  },
  {
   "cell_type": "code",
   "execution_count": 50,
   "id": "abe8e327",
   "metadata": {},
   "outputs": [],
   "source": [
    "import numpy as np\n",
    "import pandas as pd\n",
    "from  sklearn.model_selection  import  train_test_split \n",
    "from sklearn.neighbors import KNeighborsClassifier\n",
    "from sklearn.metrics import precision_score\n",
    "from sklearn.metrics import recall_score\n",
    "from sklearn.metrics import f1_score\n",
    "from sklearn.tree import DecisionTreeClassifier\n",
    "#from sklearn.metrics import plot_confusion_matrix\n",
    "from sklearn.ensemble import RandomForestClassifier\n",
    "from sklearn.ensemble import GradientBoostingClassifier\n",
    "import xgboost as xgb\n",
    "import matplotlib.pyplot as plt\n",
    "from sklearn.metrics import roc_curve"
   ]
  },
  {
   "cell_type": "code",
   "execution_count": 51,
   "id": "a27f0d52",
   "metadata": {},
   "outputs": [],
   "source": [
    "df = pd.read_csv('TransformedDataset/transformed_user_summary_segemented_v2.csv')"
   ]
  },
  {
   "cell_type": "code",
   "execution_count": 52,
   "id": "613870ea",
   "metadata": {},
   "outputs": [
    {
     "data": {
      "text/html": [
       "<div>\n",
       "<style scoped>\n",
       "    .dataframe tbody tr th:only-of-type {\n",
       "        vertical-align: middle;\n",
       "    }\n",
       "\n",
       "    .dataframe tbody tr th {\n",
       "        vertical-align: top;\n",
       "    }\n",
       "\n",
       "    .dataframe thead th {\n",
       "        text-align: right;\n",
       "    }\n",
       "</style>\n",
       "<table border=\"1\" class=\"dataframe\">\n",
       "  <thead>\n",
       "    <tr style=\"text-align: right;\">\n",
       "      <th></th>\n",
       "      <th>msno</th>\n",
       "      <th>Monetary</th>\n",
       "      <th>Recency</th>\n",
       "      <th>Frequency</th>\n",
       "      <th>is_auto_renew</th>\n",
       "      <th>is_discount</th>\n",
       "      <th>BestPlan</th>\n",
       "      <th>active_days_per_month</th>\n",
       "      <th>total_usage_time_per_month</th>\n",
       "      <th>total_unique_songs_played_per_month</th>\n",
       "      <th>...</th>\n",
       "      <th>Percent_Songs_Played_100</th>\n",
       "      <th>is_churn</th>\n",
       "      <th>RecencyCluster</th>\n",
       "      <th>FrequencyCluster</th>\n",
       "      <th>MonetaryCluster</th>\n",
       "      <th>SongsPlayedFrequencyCluster</th>\n",
       "      <th>OverallScore</th>\n",
       "      <th>Segment</th>\n",
       "      <th>Plan</th>\n",
       "      <th>drop</th>\n",
       "    </tr>\n",
       "  </thead>\n",
       "  <tbody>\n",
       "    <tr>\n",
       "      <th>0</th>\n",
       "      <td>187</td>\n",
       "      <td>1788</td>\n",
       "      <td>219</td>\n",
       "      <td>410</td>\n",
       "      <td>0</td>\n",
       "      <td>0</td>\n",
       "      <td>410</td>\n",
       "      <td>12</td>\n",
       "      <td>48210.151</td>\n",
       "      <td>364</td>\n",
       "      <td>...</td>\n",
       "      <td>23.739586</td>\n",
       "      <td>1</td>\n",
       "      <td>1</td>\n",
       "      <td>2</td>\n",
       "      <td>2</td>\n",
       "      <td>0</td>\n",
       "      <td>5</td>\n",
       "      <td>Mid-Value</td>\n",
       "      <td>Yearly</td>\n",
       "      <td>0</td>\n",
       "    </tr>\n",
       "    <tr>\n",
       "      <th>1</th>\n",
       "      <td>501</td>\n",
       "      <td>1788</td>\n",
       "      <td>263</td>\n",
       "      <td>410</td>\n",
       "      <td>0</td>\n",
       "      <td>0</td>\n",
       "      <td>410</td>\n",
       "      <td>12</td>\n",
       "      <td>50496.753</td>\n",
       "      <td>167</td>\n",
       "      <td>...</td>\n",
       "      <td>91.490592</td>\n",
       "      <td>1</td>\n",
       "      <td>1</td>\n",
       "      <td>2</td>\n",
       "      <td>2</td>\n",
       "      <td>0</td>\n",
       "      <td>5</td>\n",
       "      <td>Mid-Value</td>\n",
       "      <td>Yearly</td>\n",
       "      <td>0</td>\n",
       "    </tr>\n",
       "    <tr>\n",
       "      <th>2</th>\n",
       "      <td>2184</td>\n",
       "      <td>1788</td>\n",
       "      <td>239</td>\n",
       "      <td>410</td>\n",
       "      <td>0</td>\n",
       "      <td>0</td>\n",
       "      <td>410</td>\n",
       "      <td>14</td>\n",
       "      <td>36132.039</td>\n",
       "      <td>212</td>\n",
       "      <td>...</td>\n",
       "      <td>59.349542</td>\n",
       "      <td>1</td>\n",
       "      <td>1</td>\n",
       "      <td>2</td>\n",
       "      <td>2</td>\n",
       "      <td>0</td>\n",
       "      <td>5</td>\n",
       "      <td>Mid-Value</td>\n",
       "      <td>Yearly</td>\n",
       "      <td>0</td>\n",
       "    </tr>\n",
       "    <tr>\n",
       "      <th>3</th>\n",
       "      <td>3550</td>\n",
       "      <td>1788</td>\n",
       "      <td>210</td>\n",
       "      <td>410</td>\n",
       "      <td>0</td>\n",
       "      <td>0</td>\n",
       "      <td>410</td>\n",
       "      <td>13</td>\n",
       "      <td>42064.803</td>\n",
       "      <td>157</td>\n",
       "      <td>...</td>\n",
       "      <td>54.224399</td>\n",
       "      <td>1</td>\n",
       "      <td>1</td>\n",
       "      <td>2</td>\n",
       "      <td>2</td>\n",
       "      <td>0</td>\n",
       "      <td>5</td>\n",
       "      <td>Mid-Value</td>\n",
       "      <td>Yearly</td>\n",
       "      <td>0</td>\n",
       "    </tr>\n",
       "    <tr>\n",
       "      <th>4</th>\n",
       "      <td>4465</td>\n",
       "      <td>1788</td>\n",
       "      <td>278</td>\n",
       "      <td>410</td>\n",
       "      <td>0</td>\n",
       "      <td>0</td>\n",
       "      <td>410</td>\n",
       "      <td>18</td>\n",
       "      <td>65668.010</td>\n",
       "      <td>312</td>\n",
       "      <td>...</td>\n",
       "      <td>83.163338</td>\n",
       "      <td>1</td>\n",
       "      <td>1</td>\n",
       "      <td>2</td>\n",
       "      <td>2</td>\n",
       "      <td>0</td>\n",
       "      <td>5</td>\n",
       "      <td>Mid-Value</td>\n",
       "      <td>Yearly</td>\n",
       "      <td>0</td>\n",
       "    </tr>\n",
       "  </tbody>\n",
       "</table>\n",
       "<p>5 rows × 22 columns</p>\n",
       "</div>"
      ],
      "text/plain": [
       "   msno  Monetary  Recency  Frequency  is_auto_renew  is_discount  BestPlan  \\\n",
       "0   187      1788      219        410              0            0       410   \n",
       "1   501      1788      263        410              0            0       410   \n",
       "2  2184      1788      239        410              0            0       410   \n",
       "3  3550      1788      210        410              0            0       410   \n",
       "4  4465      1788      278        410              0            0       410   \n",
       "\n",
       "   active_days_per_month  total_usage_time_per_month  \\\n",
       "0                     12                   48210.151   \n",
       "1                     12                   50496.753   \n",
       "2                     14                   36132.039   \n",
       "3                     13                   42064.803   \n",
       "4                     18                   65668.010   \n",
       "\n",
       "   total_unique_songs_played_per_month  ...  Percent_Songs_Played_100  \\\n",
       "0                                  364  ...                 23.739586   \n",
       "1                                  167  ...                 91.490592   \n",
       "2                                  212  ...                 59.349542   \n",
       "3                                  157  ...                 54.224399   \n",
       "4                                  312  ...                 83.163338   \n",
       "\n",
       "   is_churn  RecencyCluster  FrequencyCluster  MonetaryCluster  \\\n",
       "0         1               1                 2                2   \n",
       "1         1               1                 2                2   \n",
       "2         1               1                 2                2   \n",
       "3         1               1                 2                2   \n",
       "4         1               1                 2                2   \n",
       "\n",
       "   SongsPlayedFrequencyCluster  OverallScore    Segment    Plan drop  \n",
       "0                            0             5  Mid-Value  Yearly    0  \n",
       "1                            0             5  Mid-Value  Yearly    0  \n",
       "2                            0             5  Mid-Value  Yearly    0  \n",
       "3                            0             5  Mid-Value  Yearly    0  \n",
       "4                            0             5  Mid-Value  Yearly    0  \n",
       "\n",
       "[5 rows x 22 columns]"
      ]
     },
     "execution_count": 52,
     "metadata": {},
     "output_type": "execute_result"
    }
   ],
   "source": [
    "df.head()"
   ]
  },
  {
   "cell_type": "code",
   "execution_count": 54,
   "id": "99309bbe",
   "metadata": {},
   "outputs": [],
   "source": [
    "df=df.drop('drop',axis=1)"
   ]
  },
  {
   "cell_type": "code",
   "execution_count": 55,
   "id": "1a439669",
   "metadata": {},
   "outputs": [
    {
     "name": "stdout",
     "output_type": "stream",
     "text": [
      "<class 'pandas.core.frame.DataFrame'>\n",
      "RangeIndex: 36403 entries, 0 to 36402\n",
      "Data columns (total 21 columns):\n",
      " #   Column                               Non-Null Count  Dtype  \n",
      "---  ------                               --------------  -----  \n",
      " 0   msno                                 36403 non-null  int64  \n",
      " 1   Monetary                             36403 non-null  int64  \n",
      " 2   Recency                              36403 non-null  int64  \n",
      " 3   Frequency                            36403 non-null  int64  \n",
      " 4   is_auto_renew                        36403 non-null  int64  \n",
      " 5   is_discount                          36403 non-null  int64  \n",
      " 6   BestPlan                             36403 non-null  int64  \n",
      " 7   active_days_per_month                36403 non-null  int64  \n",
      " 8   total_usage_time_per_month           36403 non-null  float64\n",
      " 9   total_unique_songs_played_per_month  36403 non-null  int64  \n",
      " 10  Percent_Songs_Played_25              36403 non-null  float64\n",
      " 11  Percent_Songs_Played_50              36403 non-null  float64\n",
      " 12  Percent_Songs_Played_100             36403 non-null  float64\n",
      " 13  is_churn                             36403 non-null  int64  \n",
      " 14  RecencyCluster                       36403 non-null  int64  \n",
      " 15  FrequencyCluster                     36403 non-null  int64  \n",
      " 16  MonetaryCluster                      36403 non-null  int64  \n",
      " 17  SongsPlayedFrequencyCluster          36403 non-null  int64  \n",
      " 18  OverallScore                         36403 non-null  int64  \n",
      " 19  Segment                              36403 non-null  object \n",
      " 20  Plan                                 36403 non-null  object \n",
      "dtypes: float64(4), int64(15), object(2)\n",
      "memory usage: 5.8+ MB\n"
     ]
    }
   ],
   "source": [
    "df.info()"
   ]
  },
  {
   "cell_type": "code",
   "execution_count": null,
   "id": "7830d302",
   "metadata": {},
   "outputs": [],
   "source": []
  },
  {
   "cell_type": "markdown",
   "id": "9699b756",
   "metadata": {},
   "source": [
    "Drop Columns"
   ]
  },
  {
   "cell_type": "code",
   "execution_count": 60,
   "id": "61b2e9f9",
   "metadata": {},
   "outputs": [],
   "source": [
    "df=df.drop(['BestPlan','is_churn','RecencyCluster','FrequencyCluster','MonetaryCluster','SongsPlayedFrequencyCluster','OverallScore','drop'], axis=1)"
   ]
  },
  {
   "cell_type": "code",
   "execution_count": 61,
   "id": "7a1781c2",
   "metadata": {},
   "outputs": [
    {
     "data": {
      "text/html": [
       "<div>\n",
       "<style scoped>\n",
       "    .dataframe tbody tr th:only-of-type {\n",
       "        vertical-align: middle;\n",
       "    }\n",
       "\n",
       "    .dataframe tbody tr th {\n",
       "        vertical-align: top;\n",
       "    }\n",
       "\n",
       "    .dataframe thead th {\n",
       "        text-align: right;\n",
       "    }\n",
       "</style>\n",
       "<table border=\"1\" class=\"dataframe\">\n",
       "  <thead>\n",
       "    <tr style=\"text-align: right;\">\n",
       "      <th></th>\n",
       "      <th>msno</th>\n",
       "      <th>Monetary</th>\n",
       "      <th>Recency</th>\n",
       "      <th>Frequency</th>\n",
       "      <th>is_auto_renew</th>\n",
       "      <th>is_discount</th>\n",
       "      <th>active_days_per_month</th>\n",
       "      <th>total_usage_time_per_month</th>\n",
       "      <th>total_unique_songs_played_per_month</th>\n",
       "      <th>Percent_Songs_Played_25</th>\n",
       "      <th>Percent_Songs_Played_50</th>\n",
       "      <th>Percent_Songs_Played_100</th>\n",
       "      <th>Segment</th>\n",
       "      <th>Plan</th>\n",
       "    </tr>\n",
       "  </thead>\n",
       "  <tbody>\n",
       "    <tr>\n",
       "      <th>0</th>\n",
       "      <td>187</td>\n",
       "      <td>1788</td>\n",
       "      <td>219</td>\n",
       "      <td>410</td>\n",
       "      <td>0</td>\n",
       "      <td>0</td>\n",
       "      <td>12</td>\n",
       "      <td>48210.151</td>\n",
       "      <td>364</td>\n",
       "      <td>38.219879</td>\n",
       "      <td>32.594632</td>\n",
       "      <td>23.739586</td>\n",
       "      <td>Mid-Value</td>\n",
       "      <td>Yearly</td>\n",
       "    </tr>\n",
       "    <tr>\n",
       "      <th>1</th>\n",
       "      <td>501</td>\n",
       "      <td>1788</td>\n",
       "      <td>263</td>\n",
       "      <td>410</td>\n",
       "      <td>0</td>\n",
       "      <td>0</td>\n",
       "      <td>12</td>\n",
       "      <td>50496.753</td>\n",
       "      <td>167</td>\n",
       "      <td>5.246362</td>\n",
       "      <td>0.847763</td>\n",
       "      <td>91.490592</td>\n",
       "      <td>Mid-Value</td>\n",
       "      <td>Yearly</td>\n",
       "    </tr>\n",
       "    <tr>\n",
       "      <th>2</th>\n",
       "      <td>2184</td>\n",
       "      <td>1788</td>\n",
       "      <td>239</td>\n",
       "      <td>410</td>\n",
       "      <td>0</td>\n",
       "      <td>0</td>\n",
       "      <td>14</td>\n",
       "      <td>36132.039</td>\n",
       "      <td>212</td>\n",
       "      <td>30.018644</td>\n",
       "      <td>4.863348</td>\n",
       "      <td>59.349542</td>\n",
       "      <td>Mid-Value</td>\n",
       "      <td>Yearly</td>\n",
       "    </tr>\n",
       "    <tr>\n",
       "      <th>3</th>\n",
       "      <td>3550</td>\n",
       "      <td>1788</td>\n",
       "      <td>210</td>\n",
       "      <td>410</td>\n",
       "      <td>0</td>\n",
       "      <td>0</td>\n",
       "      <td>13</td>\n",
       "      <td>42064.803</td>\n",
       "      <td>157</td>\n",
       "      <td>26.032263</td>\n",
       "      <td>13.086911</td>\n",
       "      <td>54.224399</td>\n",
       "      <td>Mid-Value</td>\n",
       "      <td>Yearly</td>\n",
       "    </tr>\n",
       "    <tr>\n",
       "      <th>4</th>\n",
       "      <td>4465</td>\n",
       "      <td>1788</td>\n",
       "      <td>278</td>\n",
       "      <td>410</td>\n",
       "      <td>0</td>\n",
       "      <td>0</td>\n",
       "      <td>18</td>\n",
       "      <td>65668.010</td>\n",
       "      <td>312</td>\n",
       "      <td>10.476203</td>\n",
       "      <td>3.174253</td>\n",
       "      <td>83.163338</td>\n",
       "      <td>Mid-Value</td>\n",
       "      <td>Yearly</td>\n",
       "    </tr>\n",
       "  </tbody>\n",
       "</table>\n",
       "</div>"
      ],
      "text/plain": [
       "   msno  Monetary  Recency  Frequency  is_auto_renew  is_discount  \\\n",
       "0   187      1788      219        410              0            0   \n",
       "1   501      1788      263        410              0            0   \n",
       "2  2184      1788      239        410              0            0   \n",
       "3  3550      1788      210        410              0            0   \n",
       "4  4465      1788      278        410              0            0   \n",
       "\n",
       "   active_days_per_month  total_usage_time_per_month  \\\n",
       "0                     12                   48210.151   \n",
       "1                     12                   50496.753   \n",
       "2                     14                   36132.039   \n",
       "3                     13                   42064.803   \n",
       "4                     18                   65668.010   \n",
       "\n",
       "   total_unique_songs_played_per_month  Percent_Songs_Played_25  \\\n",
       "0                                  364                38.219879   \n",
       "1                                  167                 5.246362   \n",
       "2                                  212                30.018644   \n",
       "3                                  157                26.032263   \n",
       "4                                  312                10.476203   \n",
       "\n",
       "   Percent_Songs_Played_50  Percent_Songs_Played_100    Segment    Plan  \n",
       "0                32.594632                 23.739586  Mid-Value  Yearly  \n",
       "1                 0.847763                 91.490592  Mid-Value  Yearly  \n",
       "2                 4.863348                 59.349542  Mid-Value  Yearly  \n",
       "3                13.086911                 54.224399  Mid-Value  Yearly  \n",
       "4                 3.174253                 83.163338  Mid-Value  Yearly  "
      ]
     },
     "execution_count": 61,
     "metadata": {},
     "output_type": "execute_result"
    }
   ],
   "source": [
    "df.head()"
   ]
  },
  {
   "cell_type": "code",
   "execution_count": 62,
   "id": "e747eaa2",
   "metadata": {},
   "outputs": [
    {
     "data": {
      "text/plain": [
       "Monthly         34496\n",
       "Yearly            889\n",
       "Six Months        611\n",
       "Three Months      342\n",
       "Name: Plan, dtype: int64"
      ]
     },
     "execution_count": 62,
     "metadata": {},
     "output_type": "execute_result"
    }
   ],
   "source": [
    "df['Plan'].value_counts()"
   ]
  },
  {
   "cell_type": "code",
   "execution_count": 56,
   "id": "8cf3432b",
   "metadata": {},
   "outputs": [],
   "source": [
    "df['drop']=0\n",
    "df.loc[(df['Plan']=='Daily') | (df['Plan']=='Weekly'),'drop'] = 1"
   ]
  },
  {
   "cell_type": "code",
   "execution_count": 58,
   "id": "b52a559f",
   "metadata": {},
   "outputs": [],
   "source": [
    "index_names = df[ df['drop'] == 1 ].index"
   ]
  },
  {
   "cell_type": "code",
   "execution_count": 59,
   "id": "a7cf3db0",
   "metadata": {},
   "outputs": [],
   "source": [
    "df.drop(index_names, inplace = True)"
   ]
  },
  {
   "cell_type": "markdown",
   "id": "3c13ea4f",
   "metadata": {},
   "source": [
    "# Label encoding and Test Train Split"
   ]
  },
  {
   "cell_type": "code",
   "execution_count": 63,
   "id": "c248d69d",
   "metadata": {},
   "outputs": [],
   "source": [
    "X = df.drop('Plan',axis=1)\n",
    "y= df['Plan']"
   ]
  },
  {
   "cell_type": "code",
   "execution_count": 64,
   "id": "5634742a",
   "metadata": {},
   "outputs": [
    {
     "name": "stdout",
     "output_type": "stream",
     "text": [
      "Index(['Segment'], dtype='object')\n"
     ]
    }
   ],
   "source": [
    "objList = X.select_dtypes(include = \"object\").columns #\n",
    "print (objList)"
   ]
  },
  {
   "cell_type": "code",
   "execution_count": 65,
   "id": "0601730f",
   "metadata": {},
   "outputs": [
    {
     "name": "stdout",
     "output_type": "stream",
     "text": [
      "<class 'pandas.core.frame.DataFrame'>\n",
      "Int64Index: 36338 entries, 0 to 36402\n",
      "Data columns (total 13 columns):\n",
      " #   Column                               Non-Null Count  Dtype  \n",
      "---  ------                               --------------  -----  \n",
      " 0   msno                                 36338 non-null  int64  \n",
      " 1   Monetary                             36338 non-null  int64  \n",
      " 2   Recency                              36338 non-null  int64  \n",
      " 3   Frequency                            36338 non-null  int64  \n",
      " 4   is_auto_renew                        36338 non-null  int64  \n",
      " 5   is_discount                          36338 non-null  int64  \n",
      " 6   active_days_per_month                36338 non-null  int64  \n",
      " 7   total_usage_time_per_month           36338 non-null  float64\n",
      " 8   total_unique_songs_played_per_month  36338 non-null  int64  \n",
      " 9   Percent_Songs_Played_25              36338 non-null  float64\n",
      " 10  Percent_Songs_Played_50              36338 non-null  float64\n",
      " 11  Percent_Songs_Played_100             36338 non-null  float64\n",
      " 12  Segment                              36338 non-null  int32  \n",
      "dtypes: float64(4), int32(1), int64(8)\n",
      "memory usage: 3.7 MB\n",
      "None\n"
     ]
    }
   ],
   "source": [
    "from sklearn.preprocessing import LabelEncoder\n",
    "le = LabelEncoder()\n",
    "\n",
    "for Shiv in objList:\n",
    "    X[Shiv] = le.fit_transform(X[Shiv].astype(str))\n",
    "\n",
    "print (X.info())"
   ]
  },
  {
   "cell_type": "code",
   "execution_count": 66,
   "id": "d1158e8d",
   "metadata": {},
   "outputs": [],
   "source": [
    "X_train, X_test, y_train, y_test = train_test_split(X, y, test_size=0.2, random_state=0,stratify=y)"
   ]
  },
  {
   "cell_type": "markdown",
   "id": "0c3ce606",
   "metadata": {},
   "source": [
    "# Building Plan Prediction Model"
   ]
  },
  {
   "cell_type": "markdown",
   "id": "c79d68cc",
   "metadata": {},
   "source": [
    "# KNN"
   ]
  },
  {
   "cell_type": "code",
   "execution_count": 67,
   "id": "63de5964",
   "metadata": {},
   "outputs": [
    {
     "name": "stdout",
     "output_type": "stream",
     "text": [
      "Accuracy on training set: 95.26\n",
      "Accuracy on testing set: 94.90\n"
     ]
    }
   ],
   "source": [
    "from sklearn.neighbors import KNeighborsClassifier\n",
    "knn = KNeighborsClassifier(n_neighbors=5)\n",
    "\n",
    "knn.fit(X_train,y_train) #training data and  has been provided to the algorithm\n",
    "\n",
    "knn.score(X_train,y_train)#the data we are passing will be considered for the accuracy\n",
    "\n",
    "\n",
    "print(\"Accuracy on training set: {:.2f}\".format(knn.score(X_train, y_train)*100))\n",
    "\n",
    "print(\"Accuracy on testing set: {:.2f}\".format(knn.score(X_test, y_test)*100))"
   ]
  },
  {
   "cell_type": "code",
   "execution_count": 70,
   "id": "04295e0f",
   "metadata": {},
   "outputs": [],
   "source": [
    "y_pred = knn.predict(X_test)"
   ]
  },
  {
   "cell_type": "code",
   "execution_count": 71,
   "id": "d310ab20",
   "metadata": {},
   "outputs": [
    {
     "data": {
      "image/png": "[encoded data removed]",
      "text/plain": [
       "<Figure size 432x288 with 2 Axes>"
      ]
     },
     "metadata": {
      "needs_background": "light"
     },
     "output_type": "display_data"
    }
   ],
   "source": [
    "from sklearn.metrics import confusion_matrix, ConfusionMatrixDisplay\n",
    "cm = confusion_matrix(y_test, y_pred, labels=knn.classes_)\n",
    "disp = ConfusionMatrixDisplay(confusion_matrix=cm, display_labels=knn.classes_)\n",
    "disp.plot()\n",
    "plt.show()"
   ]
  },
  {
   "cell_type": "code",
   "execution_count": 73,
   "id": "0c3afc33",
   "metadata": {},
   "outputs": [
    {
     "data": {
      "text/plain": [
       "0.9167590370700663"
      ]
     },
     "execution_count": 73,
     "metadata": {},
     "output_type": "execute_result"
    }
   ],
   "source": [
    "precision_score(y_test, y_pred, average='weighted')"
   ]
  },
  {
   "cell_type": "code",
   "execution_count": 74,
   "id": "99c3ce84",
   "metadata": {},
   "outputs": [
    {
     "data": {
      "text/plain": [
       "0.9489543203082004"
      ]
     },
     "execution_count": 74,
     "metadata": {},
     "output_type": "execute_result"
    }
   ],
   "source": [
    "recall_score(y_test, y_pred, average='weighted')"
   ]
  },
  {
   "cell_type": "code",
   "execution_count": 75,
   "id": "991f9bd9",
   "metadata": {},
   "outputs": [
    {
     "data": {
      "text/plain": [
       "0.9270014989687293"
      ]
     },
     "execution_count": 75,
     "metadata": {},
     "output_type": "execute_result"
    }
   ],
   "source": [
    "f1_score(y_test, y_pred, average='weighted')"
   ]
  },
  {
   "cell_type": "code",
   "execution_count": 90,
   "id": "4629f95c",
   "metadata": {},
   "outputs": [],
   "source": [
    "import matplotlib.pyplot as plt\n",
    "def plot_feature_importances(model):\n",
    "    n_features = X_train.shape[1]\n",
    "    plt.barh(range(n_features), model.feature_importances_, align='center')\n",
    "    plt.yticks(np.arange(n_features), X_train.columns)\n",
    "    plt.xlabel(\"Feature importance\")\n",
    "    plt.ylabel(\"Feature\")"
   ]
  },
  {
   "cell_type": "markdown",
   "id": "85e01620",
   "metadata": {},
   "source": [
    "# Random Forest Classifier"
   ]
  },
  {
   "cell_type": "code",
   "execution_count": 94,
   "id": "105cde6d",
   "metadata": {},
   "outputs": [
    {
     "name": "stdout",
     "output_type": "stream",
     "text": [
      "Accuracy on training set: 0.998\n",
      "Accuracy on test set: 0.993\n"
     ]
    }
   ],
   "source": [
    "forest = RandomForestClassifier(n_estimators=2)\n",
    "\n",
    "forest.fit(X_train, y_train)\n",
    "\n",
    "print(\"Accuracy on training set: {:.3f}\".format(forest.score(X_train, y_train)))\n",
    "\n",
    "print(\"Accuracy on test set: {:.3f}\".format(forest.score(X_test, y_test)))"
   ]
  },
  {
   "cell_type": "code",
   "execution_count": 95,
   "id": "47e528cd",
   "metadata": {},
   "outputs": [],
   "source": [
    "y_pred = forest.predict(X_test)"
   ]
  },
  {
   "cell_type": "code",
   "execution_count": 96,
   "id": "5ab82c0d",
   "metadata": {},
   "outputs": [
    {
     "data": {
      "image/png": "[encoded data removed]",
      "text/plain": [
       "<Figure size 432x288 with 2 Axes>"
      ]
     },
     "metadata": {
      "needs_background": "light"
     },
     "output_type": "display_data"
    }
   ],
   "source": [
    "from sklearn.metrics import confusion_matrix, ConfusionMatrixDisplay\n",
    "cm = confusion_matrix(y_test, y_pred, labels=knn.classes_)\n",
    "disp = ConfusionMatrixDisplay(confusion_matrix=cm, display_labels=knn.classes_)\n",
    "disp.plot()\n",
    "plt.show()"
   ]
  },
  {
   "cell_type": "code",
   "execution_count": 97,
   "id": "b584f8d5",
   "metadata": {},
   "outputs": [
    {
     "data": {
      "text/plain": [
       "0.9926106607091023"
      ]
     },
     "execution_count": 97,
     "metadata": {},
     "output_type": "execute_result"
    }
   ],
   "source": [
    "precision_score(y_test, y_pred, average='weighted')"
   ]
  },
  {
   "cell_type": "code",
   "execution_count": 98,
   "id": "d97b92df",
   "metadata": {},
   "outputs": [
    {
     "data": {
      "text/plain": [
       "0.9928453494771602"
      ]
     },
     "execution_count": 98,
     "metadata": {},
     "output_type": "execute_result"
    }
   ],
   "source": [
    "recall_score(y_test, y_pred, average='weighted')"
   ]
  },
  {
   "cell_type": "code",
   "execution_count": 99,
   "id": "18d95c8e",
   "metadata": {},
   "outputs": [
    {
     "data": {
      "text/plain": [
       "0.9926550568132878"
      ]
     },
     "execution_count": 99,
     "metadata": {},
     "output_type": "execute_result"
    }
   ],
   "source": [
    "f1_score(y_test, y_pred, average='weighted')"
   ]
  },
  {
   "cell_type": "code",
   "execution_count": 100,
   "id": "9efba7da",
   "metadata": {},
   "outputs": [
    {
     "data": {
      "image/png": "[encoded data removed]",
      "text/plain": [
       "<Figure size 432x288 with 1 Axes>"
      ]
     },
     "metadata": {
      "needs_background": "light"
     },
     "output_type": "display_data"
    }
   ],
   "source": [
    "plot_feature_importances(forest)"
   ]
  },
  {
   "cell_type": "markdown",
   "id": "a7f46944",
   "metadata": {},
   "source": [
    "# Gradient Boosting Classifier"
   ]
  },
  {
   "cell_type": "code",
   "execution_count": 102,
   "id": "7aac12c6",
   "metadata": {},
   "outputs": [
    {
     "name": "stdout",
     "output_type": "stream",
     "text": [
      "Accuracy on training set: 0.987\n",
      "GBRT Accuracy on test set: 0.981\n"
     ]
    }
   ],
   "source": [
    "gbrt = GradientBoostingClassifier(random_state=0,learning_rate=0.3,max_depth=7)\n",
    "\n",
    "gbrt.fit(X_train, y_train)\n",
    "\n",
    "print(\"Accuracy on training set: {:.3f}\".format(gbrt.score(X_train, y_train)))\n",
    "\n",
    "print(\"GBRT Accuracy on test set: {:.3f}\".format(gbrt.score(X_test, y_test)))"
   ]
  },
  {
   "cell_type": "code",
   "execution_count": 103,
   "id": "83a2cce0",
   "metadata": {},
   "outputs": [
    {
     "data": {
      "image/png": "[encoded data removed]",
      "text/plain": [
       "<Figure size 432x288 with 1 Axes>"
      ]
     },
     "metadata": {
      "needs_background": "light"
     },
     "output_type": "display_data"
    }
   ],
   "source": [
    "plot_feature_importances(gbrt)"
   ]
  },
  {
   "cell_type": "code",
   "execution_count": 104,
   "id": "32c2c947",
   "metadata": {},
   "outputs": [],
   "source": [
    "y_pred = forest.predict(X_test)"
   ]
  },
  {
   "cell_type": "code",
   "execution_count": 105,
   "id": "328cf5bd",
   "metadata": {},
   "outputs": [
    {
     "data": {
      "image/png": "[encoded data removed]",
      "text/plain": [
       "<Figure size 432x288 with 2 Axes>"
      ]
     },
     "metadata": {
      "needs_background": "light"
     },
     "output_type": "display_data"
    }
   ],
   "source": [
    "from sklearn.metrics import confusion_matrix, ConfusionMatrixDisplay\n",
    "cm = confusion_matrix(y_test, y_pred, labels=knn.classes_)\n",
    "disp = ConfusionMatrixDisplay(confusion_matrix=cm, display_labels=knn.classes_)\n",
    "disp.plot()\n",
    "plt.show()"
   ]
  },
  {
   "cell_type": "code",
   "execution_count": 106,
   "id": "4ec6c67f",
   "metadata": {},
   "outputs": [
    {
     "data": {
      "text/plain": [
       "0.9926106607091023"
      ]
     },
     "execution_count": 106,
     "metadata": {},
     "output_type": "execute_result"
    }
   ],
   "source": [
    "precision_score(y_test, y_pred, average='weighted')"
   ]
  },
  {
   "cell_type": "code",
   "execution_count": 107,
   "id": "d5d6eb49",
   "metadata": {},
   "outputs": [
    {
     "data": {
      "text/plain": [
       "0.9928453494771602"
      ]
     },
     "execution_count": 107,
     "metadata": {},
     "output_type": "execute_result"
    }
   ],
   "source": [
    "recall_score(y_test, y_pred, average='weighted')"
   ]
  },
  {
   "cell_type": "code",
   "execution_count": 108,
   "id": "282f75ef",
   "metadata": {},
   "outputs": [
    {
     "data": {
      "text/plain": [
       "0.9926550568132878"
      ]
     },
     "execution_count": 108,
     "metadata": {},
     "output_type": "execute_result"
    }
   ],
   "source": [
    "f1_score(y_test, y_pred, average='weighted')"
   ]
  },
  {
   "cell_type": "markdown",
   "id": "e8633235",
   "metadata": {},
   "source": [
    "### Exporting Results"
   ]
  },
  {
   "cell_type": "code",
   "execution_count": 134,
   "id": "9340f191",
   "metadata": {},
   "outputs": [],
   "source": [
    "dataToPredict = df"
   ]
  },
  {
   "cell_type": "code",
   "execution_count": 135,
   "id": "1d6b6331",
   "metadata": {},
   "outputs": [],
   "source": [
    "result = pd.DataFrame()"
   ]
  },
  {
   "cell_type": "code",
   "execution_count": 136,
   "id": "9a99cd88",
   "metadata": {},
   "outputs": [],
   "source": [
    "result['msno']=dataToPredict['msno']"
   ]
  },
  {
   "cell_type": "code",
   "execution_count": 137,
   "id": "481ea5ba",
   "metadata": {},
   "outputs": [],
   "source": [
    "dataToPredict = dataToPredict.drop(['Plan'],axis=1)"
   ]
  },
  {
   "cell_type": "code",
   "execution_count": 138,
   "id": "67ea0ba4",
   "metadata": {},
   "outputs": [],
   "source": [
    "dataToPredict['Segment'] = le.fit_transform(dataToPredict['Segment'].astype(str))"
   ]
  },
  {
   "cell_type": "code",
   "execution_count": 139,
   "id": "a67f54d4",
   "metadata": {},
   "outputs": [],
   "source": [
    "result['Plan'] = gbrt.predict(dataToPredict)"
   ]
  },
  {
   "cell_type": "code",
   "execution_count": 140,
   "id": "e0b9fd30",
   "metadata": {},
   "outputs": [],
   "source": [
    "prediction_of_probability = gbrt.predict_proba(dataToPredict)"
   ]
  },
  {
   "cell_type": "code",
   "execution_count": 141,
   "id": "9ffb9f0e",
   "metadata": {},
   "outputs": [],
   "source": [
    "result['Yearly'] = prediction_of_probability[:,3]"
   ]
  },
  {
   "cell_type": "code",
   "execution_count": 142,
   "id": "3db09219",
   "metadata": {},
   "outputs": [],
   "source": [
    "result['ThreeMonths'] = prediction_of_probability[:,2]"
   ]
  },
  {
   "cell_type": "code",
   "execution_count": 143,
   "id": "f7d41294",
   "metadata": {},
   "outputs": [],
   "source": [
    "result['SixMonths'] = prediction_of_probability[:,1]"
   ]
  },
  {
   "cell_type": "code",
   "execution_count": 144,
   "id": "2dcd8b09",
   "metadata": {},
   "outputs": [],
   "source": [
    "result['Monthly'] = prediction_of_probability[:,0]"
   ]
  },
  {
   "cell_type": "code",
   "execution_count": 145,
   "id": "5349a2b7",
   "metadata": {},
   "outputs": [
    {
     "data": {
      "text/html": [
       "<div>\n",
       "<style scoped>\n",
       "    .dataframe tbody tr th:only-of-type {\n",
       "        vertical-align: middle;\n",
       "    }\n",
       "\n",
       "    .dataframe tbody tr th {\n",
       "        vertical-align: top;\n",
       "    }\n",
       "\n",
       "    .dataframe thead th {\n",
       "        text-align: right;\n",
       "    }\n",
       "</style>\n",
       "<table border=\"1\" class=\"dataframe\">\n",
       "  <thead>\n",
       "    <tr style=\"text-align: right;\">\n",
       "      <th></th>\n",
       "      <th>msno</th>\n",
       "      <th>Plan</th>\n",
       "      <th>Yearly</th>\n",
       "      <th>ThreeMonths</th>\n",
       "      <th>SixMonths</th>\n",
       "      <th>Monthly</th>\n",
       "    </tr>\n",
       "  </thead>\n",
       "  <tbody>\n",
       "    <tr>\n",
       "      <th>0</th>\n",
       "      <td>187</td>\n",
       "      <td>Yearly</td>\n",
       "      <td>1.0</td>\n",
       "      <td>5.378309e-16</td>\n",
       "      <td>9.618449e-12</td>\n",
       "      <td>7.478511e-15</td>\n",
       "    </tr>\n",
       "    <tr>\n",
       "      <th>1</th>\n",
       "      <td>501</td>\n",
       "      <td>Yearly</td>\n",
       "      <td>1.0</td>\n",
       "      <td>4.544101e-15</td>\n",
       "      <td>2.663593e-11</td>\n",
       "      <td>3.309442e-15</td>\n",
       "    </tr>\n",
       "    <tr>\n",
       "      <th>2</th>\n",
       "      <td>2184</td>\n",
       "      <td>Yearly</td>\n",
       "      <td>1.0</td>\n",
       "      <td>3.824104e-15</td>\n",
       "      <td>1.331874e-11</td>\n",
       "      <td>7.226672e-15</td>\n",
       "    </tr>\n",
       "    <tr>\n",
       "      <th>3</th>\n",
       "      <td>3550</td>\n",
       "      <td>Yearly</td>\n",
       "      <td>1.0</td>\n",
       "      <td>4.831649e-13</td>\n",
       "      <td>3.813251e-07</td>\n",
       "      <td>1.262527e-14</td>\n",
       "    </tr>\n",
       "    <tr>\n",
       "      <th>4</th>\n",
       "      <td>4465</td>\n",
       "      <td>Yearly</td>\n",
       "      <td>1.0</td>\n",
       "      <td>6.073017e-13</td>\n",
       "      <td>3.804050e-07</td>\n",
       "      <td>1.100728e-14</td>\n",
       "    </tr>\n",
       "  </tbody>\n",
       "</table>\n",
       "</div>"
      ],
      "text/plain": [
       "   msno    Plan  Yearly   ThreeMonths     SixMonths       Monthly\n",
       "0   187  Yearly     1.0  5.378309e-16  9.618449e-12  7.478511e-15\n",
       "1   501  Yearly     1.0  4.544101e-15  2.663593e-11  3.309442e-15\n",
       "2  2184  Yearly     1.0  3.824104e-15  1.331874e-11  7.226672e-15\n",
       "3  3550  Yearly     1.0  4.831649e-13  3.813251e-07  1.262527e-14\n",
       "4  4465  Yearly     1.0  6.073017e-13  3.804050e-07  1.100728e-14"
      ]
     },
     "execution_count": 145,
     "metadata": {},
     "output_type": "execute_result"
    }
   ],
   "source": [
    "result.head()"
   ]
  },
  {
   "cell_type": "code",
   "execution_count": 146,
   "id": "ab51409c",
   "metadata": {},
   "outputs": [
    {
     "data": {
      "text/plain": [
       "(36338, 6)"
      ]
     },
     "execution_count": 146,
     "metadata": {},
     "output_type": "execute_result"
    }
   ],
   "source": [
    "result.shape"
   ]
  },
  {
   "cell_type": "code",
   "execution_count": 147,
   "id": "0b278b98",
   "metadata": {},
   "outputs": [],
   "source": [
    "result.to_csv('ResultDataset/result_plan.csv',index=False)"
   ]
  },
  {
   "cell_type": "code",
   "execution_count": null,
   "id": "7641521d",
   "metadata": {},
   "outputs": [],
   "source": []
  }
 ],
 "metadata": {
  "kernelspec": {
   "display_name": "Python 3 (ipykernel)",
   "language": "python",
   "name": "python3"
  },
  "language_info": {
   "codemirror_mode": {
    "name": "ipython",
    "version": 3
   },
   "file_extension": ".py",
   "mimetype": "text/x-python",
   "name": "python",
   "nbconvert_exporter": "python",
   "pygments_lexer": "ipython3",
   "version": "3.9.7"
  }
 },
 "nbformat": 4,
 "nbformat_minor": 5
}
