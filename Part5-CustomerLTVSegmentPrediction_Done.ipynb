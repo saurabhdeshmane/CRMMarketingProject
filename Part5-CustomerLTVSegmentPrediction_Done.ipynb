{
 "cells": [
  {
   "cell_type": "markdown",
   "id": "5f19b090",
   "metadata": {},
   "source": [
    "## Importing the Transformed Data "
   ]
  },
  {
   "cell_type": "code",
   "execution_count": 1,
   "id": "9f8c851d",
   "metadata": {},
   "outputs": [],
   "source": [
    "# import libraries\n",
    "from datetime import datetime, timedelta\n",
    "import pandas as pd\n",
    "%matplotlib inline\n",
    "import matplotlib.pyplot as plt\n",
    "import numpy as np\n",
    "import seaborn as sns\n",
    "from __future__ import division"
   ]
  },
  {
   "cell_type": "code",
   "execution_count": 2,
   "id": "cb18aee5",
   "metadata": {},
   "outputs": [],
   "source": [
    "data = pd.read_csv('TransformedDataset/transformed_user_summary_ltv.csv')"
   ]
  },
  {
   "cell_type": "code",
   "execution_count": 3,
   "id": "1180d908",
   "metadata": {},
   "outputs": [
    {
     "data": {
      "text/html": [
       "<div>\n",
       "<style scoped>\n",
       "    .dataframe tbody tr th:only-of-type {\n",
       "        vertical-align: middle;\n",
       "    }\n",
       "\n",
       "    .dataframe tbody tr th {\n",
       "        vertical-align: top;\n",
       "    }\n",
       "\n",
       "    .dataframe thead th {\n",
       "        text-align: right;\n",
       "    }\n",
       "</style>\n",
       "<table border=\"1\" class=\"dataframe\">\n",
       "  <thead>\n",
       "    <tr style=\"text-align: right;\">\n",
       "      <th></th>\n",
       "      <th>msno</th>\n",
       "      <th>Monetary</th>\n",
       "      <th>Recency</th>\n",
       "      <th>Frequency</th>\n",
       "      <th>is_auto_renew</th>\n",
       "      <th>lastMonthLTV</th>\n",
       "    </tr>\n",
       "  </thead>\n",
       "  <tbody>\n",
       "    <tr>\n",
       "      <th>0</th>\n",
       "      <td>99</td>\n",
       "      <td>1788</td>\n",
       "      <td>43</td>\n",
       "      <td>410</td>\n",
       "      <td>0</td>\n",
       "      <td>1200</td>\n",
       "    </tr>\n",
       "    <tr>\n",
       "      <th>1</th>\n",
       "      <td>193</td>\n",
       "      <td>99</td>\n",
       "      <td>416</td>\n",
       "      <td>30</td>\n",
       "      <td>1</td>\n",
       "      <td>99</td>\n",
       "    </tr>\n",
       "    <tr>\n",
       "      <th>2</th>\n",
       "      <td>209</td>\n",
       "      <td>5382</td>\n",
       "      <td>479</td>\n",
       "      <td>990</td>\n",
       "      <td>1</td>\n",
       "      <td>129</td>\n",
       "    </tr>\n",
       "    <tr>\n",
       "      <th>3</th>\n",
       "      <td>236</td>\n",
       "      <td>3078</td>\n",
       "      <td>466</td>\n",
       "      <td>660</td>\n",
       "      <td>1</td>\n",
       "      <td>248</td>\n",
       "    </tr>\n",
       "    <tr>\n",
       "      <th>4</th>\n",
       "      <td>343</td>\n",
       "      <td>180</td>\n",
       "      <td>52</td>\n",
       "      <td>30</td>\n",
       "      <td>1</td>\n",
       "      <td>180</td>\n",
       "    </tr>\n",
       "  </tbody>\n",
       "</table>\n",
       "</div>"
      ],
      "text/plain": [
       "   msno  Monetary  Recency  Frequency  is_auto_renew  lastMonthLTV\n",
       "0    99      1788       43        410              0          1200\n",
       "1   193        99      416         30              1            99\n",
       "2   209      5382      479        990              1           129\n",
       "3   236      3078      466        660              1           248\n",
       "4   343       180       52         30              1           180"
      ]
     },
     "execution_count": 3,
     "metadata": {},
     "output_type": "execute_result"
    }
   ],
   "source": [
    "data.head()"
   ]
  },
  {
   "cell_type": "code",
   "execution_count": 4,
   "id": "90f03d64",
   "metadata": {},
   "outputs": [
    {
     "data": {
      "text/plain": [
       "msno             0\n",
       "Monetary         0\n",
       "Recency          0\n",
       "Frequency        0\n",
       "is_auto_renew    0\n",
       "lastMonthLTV     0\n",
       "dtype: int64"
      ]
     },
     "execution_count": 4,
     "metadata": {},
     "output_type": "execute_result"
    }
   ],
   "source": [
    "data.isna().sum()"
   ]
  },
  {
   "cell_type": "markdown",
   "id": "dbe9d36c",
   "metadata": {},
   "source": [
    "## Creating Cluster Columns for RFM Values "
   ]
  },
  {
   "cell_type": "markdown",
   "id": "85dcd5ed",
   "metadata": {},
   "source": [
    "### Recency Clustering "
   ]
  },
  {
   "cell_type": "code",
   "execution_count": 5,
   "id": "f80a176a",
   "metadata": {},
   "outputs": [],
   "source": [
    "#function for ordering cluster numbers\n",
    "def order_cluster(cluster_field_name, target_field_name,df,ascending):\n",
    "    new_cluster_field_name = 'new_' + cluster_field_name\n",
    "    df_new = df.groupby(cluster_field_name)[target_field_name].mean().reset_index()\n",
    "    df_new = df_new.sort_values(by=target_field_name,ascending=ascending).reset_index(drop=True)\n",
    "    df_new['index'] = df_new.index\n",
    "    df_final = pd.merge(df,df_new[[cluster_field_name,'index']], on=cluster_field_name)\n",
    "    df_final = df_final.drop([cluster_field_name],axis=1)\n",
    "    df_final = df_final.rename(columns={\"index\":cluster_field_name})\n",
    "    return df_final"
   ]
  },
  {
   "cell_type": "code",
   "execution_count": 6,
   "id": "b530f37b",
   "metadata": {},
   "outputs": [
    {
     "name": "stderr",
     "output_type": "stream",
     "text": [
      "C:\\Users\\LENOVO\\anaconda3\\lib\\site-packages\\sklearn\\cluster\\_kmeans.py:870: FutureWarning: The default value of `n_init` will change from 10 to 'auto' in 1.4. Set the value of `n_init` explicitly to suppress the warning\n",
      "  warnings.warn(\n"
     ]
    }
   ],
   "source": [
    "from sklearn.cluster import KMeans\n",
    "\n",
    "kmeans = KMeans(n_clusters=4)\n",
    "kmeans.fit(data[['Recency']])\n",
    "data['RecencyCluster'] = kmeans.predict(data[['Recency']])\n",
    "\n",
    "data = order_cluster('RecencyCluster', 'Recency',data,False)"
   ]
  },
  {
   "cell_type": "code",
   "execution_count": 7,
   "id": "426d8741",
   "metadata": {},
   "outputs": [
    {
     "data": {
      "text/html": [
       "<div>\n",
       "<style scoped>\n",
       "    .dataframe tbody tr th:only-of-type {\n",
       "        vertical-align: middle;\n",
       "    }\n",
       "\n",
       "    .dataframe tbody tr th {\n",
       "        vertical-align: top;\n",
       "    }\n",
       "\n",
       "    .dataframe thead th {\n",
       "        text-align: right;\n",
       "    }\n",
       "</style>\n",
       "<table border=\"1\" class=\"dataframe\">\n",
       "  <thead>\n",
       "    <tr style=\"text-align: right;\">\n",
       "      <th></th>\n",
       "      <th>msno</th>\n",
       "      <th>Monetary</th>\n",
       "      <th>Recency</th>\n",
       "      <th>Frequency</th>\n",
       "      <th>is_auto_renew</th>\n",
       "      <th>lastMonthLTV</th>\n",
       "      <th>RecencyCluster</th>\n",
       "    </tr>\n",
       "  </thead>\n",
       "  <tbody>\n",
       "    <tr>\n",
       "      <th>0</th>\n",
       "      <td>99</td>\n",
       "      <td>1788</td>\n",
       "      <td>43</td>\n",
       "      <td>410</td>\n",
       "      <td>0</td>\n",
       "      <td>1200</td>\n",
       "      <td>3</td>\n",
       "    </tr>\n",
       "    <tr>\n",
       "      <th>1</th>\n",
       "      <td>343</td>\n",
       "      <td>180</td>\n",
       "      <td>52</td>\n",
       "      <td>30</td>\n",
       "      <td>1</td>\n",
       "      <td>180</td>\n",
       "      <td>3</td>\n",
       "    </tr>\n",
       "    <tr>\n",
       "      <th>2</th>\n",
       "      <td>390</td>\n",
       "      <td>180</td>\n",
       "      <td>34</td>\n",
       "      <td>30</td>\n",
       "      <td>1</td>\n",
       "      <td>180</td>\n",
       "      <td>3</td>\n",
       "    </tr>\n",
       "    <tr>\n",
       "      <th>3</th>\n",
       "      <td>684</td>\n",
       "      <td>99</td>\n",
       "      <td>58</td>\n",
       "      <td>30</td>\n",
       "      <td>1</td>\n",
       "      <td>99</td>\n",
       "      <td>3</td>\n",
       "    </tr>\n",
       "    <tr>\n",
       "      <th>4</th>\n",
       "      <td>799</td>\n",
       "      <td>129</td>\n",
       "      <td>40</td>\n",
       "      <td>30</td>\n",
       "      <td>1</td>\n",
       "      <td>129</td>\n",
       "      <td>3</td>\n",
       "    </tr>\n",
       "  </tbody>\n",
       "</table>\n",
       "</div>"
      ],
      "text/plain": [
       "   msno  Monetary  Recency  Frequency  is_auto_renew  lastMonthLTV  \\\n",
       "0    99      1788       43        410              0          1200   \n",
       "1   343       180       52         30              1           180   \n",
       "2   390       180       34         30              1           180   \n",
       "3   684        99       58         30              1            99   \n",
       "4   799       129       40         30              1           129   \n",
       "\n",
       "   RecencyCluster  \n",
       "0               3  \n",
       "1               3  \n",
       "2               3  \n",
       "3               3  \n",
       "4               3  "
      ]
     },
     "execution_count": 7,
     "metadata": {},
     "output_type": "execute_result"
    }
   ],
   "source": [
    "data.head()"
   ]
  },
  {
   "cell_type": "code",
   "execution_count": 8,
   "id": "6d87dd4d",
   "metadata": {},
   "outputs": [
    {
     "data": {
      "text/plain": [
       "3    7756\n",
       "0    2984\n",
       "1     982\n",
       "2     325\n",
       "Name: RecencyCluster, dtype: int64"
      ]
     },
     "execution_count": 8,
     "metadata": {},
     "output_type": "execute_result"
    }
   ],
   "source": [
    "data['RecencyCluster'].value_counts()"
   ]
  },
  {
   "cell_type": "code",
   "execution_count": 9,
   "id": "ba39d2a5",
   "metadata": {},
   "outputs": [
    {
     "data": {
      "text/html": [
       "<div>\n",
       "<style scoped>\n",
       "    .dataframe tbody tr th:only-of-type {\n",
       "        vertical-align: middle;\n",
       "    }\n",
       "\n",
       "    .dataframe tbody tr th {\n",
       "        vertical-align: top;\n",
       "    }\n",
       "\n",
       "    .dataframe thead th {\n",
       "        text-align: right;\n",
       "    }\n",
       "</style>\n",
       "<table border=\"1\" class=\"dataframe\">\n",
       "  <thead>\n",
       "    <tr style=\"text-align: right;\">\n",
       "      <th></th>\n",
       "      <th>count</th>\n",
       "      <th>mean</th>\n",
       "      <th>std</th>\n",
       "      <th>min</th>\n",
       "      <th>25%</th>\n",
       "      <th>50%</th>\n",
       "      <th>75%</th>\n",
       "      <th>max</th>\n",
       "    </tr>\n",
       "    <tr>\n",
       "      <th>RecencyCluster</th>\n",
       "      <th></th>\n",
       "      <th></th>\n",
       "      <th></th>\n",
       "      <th></th>\n",
       "      <th></th>\n",
       "      <th></th>\n",
       "      <th></th>\n",
       "      <th></th>\n",
       "    </tr>\n",
       "  </thead>\n",
       "  <tbody>\n",
       "    <tr>\n",
       "      <th>0</th>\n",
       "      <td>2984.0</td>\n",
       "      <td>476.458445</td>\n",
       "      <td>15.735183</td>\n",
       "      <td>444.0</td>\n",
       "      <td>469.0</td>\n",
       "      <td>474.0</td>\n",
       "      <td>481.0</td>\n",
       "      <td>789.0</td>\n",
       "    </tr>\n",
       "    <tr>\n",
       "      <th>1</th>\n",
       "      <td>982.0</td>\n",
       "      <td>408.904277</td>\n",
       "      <td>21.324420</td>\n",
       "      <td>298.0</td>\n",
       "      <td>406.0</td>\n",
       "      <td>412.0</td>\n",
       "      <td>420.0</td>\n",
       "      <td>441.0</td>\n",
       "    </tr>\n",
       "    <tr>\n",
       "      <th>2</th>\n",
       "      <td>325.0</td>\n",
       "      <td>181.729231</td>\n",
       "      <td>41.182677</td>\n",
       "      <td>114.0</td>\n",
       "      <td>154.0</td>\n",
       "      <td>183.0</td>\n",
       "      <td>198.0</td>\n",
       "      <td>294.0</td>\n",
       "    </tr>\n",
       "    <tr>\n",
       "      <th>3</th>\n",
       "      <td>7756.0</td>\n",
       "      <td>45.358174</td>\n",
       "      <td>10.930594</td>\n",
       "      <td>33.0</td>\n",
       "      <td>37.0</td>\n",
       "      <td>43.0</td>\n",
       "      <td>51.0</td>\n",
       "      <td>113.0</td>\n",
       "    </tr>\n",
       "  </tbody>\n",
       "</table>\n",
       "</div>"
      ],
      "text/plain": [
       "                 count        mean        std    min    25%    50%    75%  \\\n",
       "RecencyCluster                                                              \n",
       "0               2984.0  476.458445  15.735183  444.0  469.0  474.0  481.0   \n",
       "1                982.0  408.904277  21.324420  298.0  406.0  412.0  420.0   \n",
       "2                325.0  181.729231  41.182677  114.0  154.0  183.0  198.0   \n",
       "3               7756.0   45.358174  10.930594   33.0   37.0   43.0   51.0   \n",
       "\n",
       "                  max  \n",
       "RecencyCluster         \n",
       "0               789.0  \n",
       "1               441.0  \n",
       "2               294.0  \n",
       "3               113.0  "
      ]
     },
     "execution_count": 9,
     "metadata": {},
     "output_type": "execute_result"
    }
   ],
   "source": [
    "data.groupby('RecencyCluster')['Recency'].describe()"
   ]
  },
  {
   "cell_type": "markdown",
   "id": "f6a7f3d8",
   "metadata": {},
   "source": [
    "### Subscription Frequency Clustering"
   ]
  },
  {
   "cell_type": "code",
   "execution_count": 10,
   "id": "f41b879e",
   "metadata": {},
   "outputs": [
    {
     "name": "stderr",
     "output_type": "stream",
     "text": [
      "C:\\Users\\LENOVO\\anaconda3\\lib\\site-packages\\sklearn\\cluster\\_kmeans.py:870: FutureWarning: The default value of `n_init` will change from 10 to 'auto' in 1.4. Set the value of `n_init` explicitly to suppress the warning\n",
      "  warnings.warn(\n"
     ]
    }
   ],
   "source": [
    "from sklearn.cluster import KMeans\n",
    "\n",
    "kmeans = KMeans(n_clusters=4)\n",
    "kmeans.fit(data[['Frequency']])\n",
    "data['FrequencyCluster'] = kmeans.predict(data[['Frequency']])\n",
    "\n",
    "data = order_cluster('FrequencyCluster', 'Frequency',data,True)"
   ]
  },
  {
   "cell_type": "code",
   "execution_count": 11,
   "id": "2a3e42bd",
   "metadata": {},
   "outputs": [
    {
     "data": {
      "text/html": [
       "<div>\n",
       "<style scoped>\n",
       "    .dataframe tbody tr th:only-of-type {\n",
       "        vertical-align: middle;\n",
       "    }\n",
       "\n",
       "    .dataframe tbody tr th {\n",
       "        vertical-align: top;\n",
       "    }\n",
       "\n",
       "    .dataframe thead th {\n",
       "        text-align: right;\n",
       "    }\n",
       "</style>\n",
       "<table border=\"1\" class=\"dataframe\">\n",
       "  <thead>\n",
       "    <tr style=\"text-align: right;\">\n",
       "      <th></th>\n",
       "      <th>msno</th>\n",
       "      <th>Monetary</th>\n",
       "      <th>Recency</th>\n",
       "      <th>Frequency</th>\n",
       "      <th>is_auto_renew</th>\n",
       "      <th>lastMonthLTV</th>\n",
       "      <th>RecencyCluster</th>\n",
       "      <th>FrequencyCluster</th>\n",
       "    </tr>\n",
       "  </thead>\n",
       "  <tbody>\n",
       "    <tr>\n",
       "      <th>0</th>\n",
       "      <td>99</td>\n",
       "      <td>1788</td>\n",
       "      <td>43</td>\n",
       "      <td>410</td>\n",
       "      <td>0</td>\n",
       "      <td>1200</td>\n",
       "      <td>3</td>\n",
       "      <td>2</td>\n",
       "    </tr>\n",
       "    <tr>\n",
       "      <th>1</th>\n",
       "      <td>25895</td>\n",
       "      <td>2408</td>\n",
       "      <td>49</td>\n",
       "      <td>570</td>\n",
       "      <td>1</td>\n",
       "      <td>100</td>\n",
       "      <td>3</td>\n",
       "      <td>2</td>\n",
       "    </tr>\n",
       "    <tr>\n",
       "      <th>2</th>\n",
       "      <td>26836</td>\n",
       "      <td>2384</td>\n",
       "      <td>54</td>\n",
       "      <td>481</td>\n",
       "      <td>1</td>\n",
       "      <td>99</td>\n",
       "      <td>3</td>\n",
       "      <td>2</td>\n",
       "    </tr>\n",
       "    <tr>\n",
       "      <th>3</th>\n",
       "      <td>29847</td>\n",
       "      <td>2533</td>\n",
       "      <td>57</td>\n",
       "      <td>590</td>\n",
       "      <td>1</td>\n",
       "      <td>149</td>\n",
       "      <td>3</td>\n",
       "      <td>2</td>\n",
       "    </tr>\n",
       "    <tr>\n",
       "      <th>4</th>\n",
       "      <td>34289</td>\n",
       "      <td>1287</td>\n",
       "      <td>39</td>\n",
       "      <td>390</td>\n",
       "      <td>1</td>\n",
       "      <td>99</td>\n",
       "      <td>3</td>\n",
       "      <td>2</td>\n",
       "    </tr>\n",
       "  </tbody>\n",
       "</table>\n",
       "</div>"
      ],
      "text/plain": [
       "    msno  Monetary  Recency  Frequency  is_auto_renew  lastMonthLTV  \\\n",
       "0     99      1788       43        410              0          1200   \n",
       "1  25895      2408       49        570              1           100   \n",
       "2  26836      2384       54        481              1            99   \n",
       "3  29847      2533       57        590              1           149   \n",
       "4  34289      1287       39        390              1            99   \n",
       "\n",
       "   RecencyCluster  FrequencyCluster  \n",
       "0               3                 2  \n",
       "1               3                 2  \n",
       "2               3                 2  \n",
       "3               3                 2  \n",
       "4               3                 2  "
      ]
     },
     "execution_count": 11,
     "metadata": {},
     "output_type": "execute_result"
    }
   ],
   "source": [
    "data.head()"
   ]
  },
  {
   "cell_type": "code",
   "execution_count": 12,
   "id": "770d2bff",
   "metadata": {},
   "outputs": [
    {
     "data": {
      "text/plain": [
       "0    7658\n",
       "1    2505\n",
       "2    1517\n",
       "3     367\n",
       "Name: FrequencyCluster, dtype: int64"
      ]
     },
     "execution_count": 12,
     "metadata": {},
     "output_type": "execute_result"
    }
   ],
   "source": [
    "data['FrequencyCluster'].value_counts()"
   ]
  },
  {
   "cell_type": "code",
   "execution_count": 13,
   "id": "e750fdfe",
   "metadata": {},
   "outputs": [
    {
     "data": {
      "text/html": [
       "<div>\n",
       "<style scoped>\n",
       "    .dataframe tbody tr th:only-of-type {\n",
       "        vertical-align: middle;\n",
       "    }\n",
       "\n",
       "    .dataframe tbody tr th {\n",
       "        vertical-align: top;\n",
       "    }\n",
       "\n",
       "    .dataframe thead th {\n",
       "        text-align: right;\n",
       "    }\n",
       "</style>\n",
       "<table border=\"1\" class=\"dataframe\">\n",
       "  <thead>\n",
       "    <tr style=\"text-align: right;\">\n",
       "      <th></th>\n",
       "      <th>count</th>\n",
       "      <th>mean</th>\n",
       "      <th>std</th>\n",
       "      <th>min</th>\n",
       "      <th>25%</th>\n",
       "      <th>50%</th>\n",
       "      <th>75%</th>\n",
       "      <th>max</th>\n",
       "    </tr>\n",
       "    <tr>\n",
       "      <th>FrequencyCluster</th>\n",
       "      <th></th>\n",
       "      <th></th>\n",
       "      <th></th>\n",
       "      <th></th>\n",
       "      <th></th>\n",
       "      <th></th>\n",
       "      <th></th>\n",
       "      <th></th>\n",
       "    </tr>\n",
       "  </thead>\n",
       "  <tbody>\n",
       "    <tr>\n",
       "      <th>0</th>\n",
       "      <td>7658.0</td>\n",
       "      <td>42.180204</td>\n",
       "      <td>21.197989</td>\n",
       "      <td>0.0</td>\n",
       "      <td>30.0</td>\n",
       "      <td>30.0</td>\n",
       "      <td>60.0</td>\n",
       "      <td>100.0</td>\n",
       "    </tr>\n",
       "    <tr>\n",
       "      <th>1</th>\n",
       "      <td>2505.0</td>\n",
       "      <td>182.975250</td>\n",
       "      <td>58.052693</td>\n",
       "      <td>120.0</td>\n",
       "      <td>120.0</td>\n",
       "      <td>180.0</td>\n",
       "      <td>210.0</td>\n",
       "      <td>301.0</td>\n",
       "    </tr>\n",
       "    <tr>\n",
       "      <th>2</th>\n",
       "      <td>1517.0</td>\n",
       "      <td>445.500330</td>\n",
       "      <td>87.732335</td>\n",
       "      <td>315.0</td>\n",
       "      <td>390.0</td>\n",
       "      <td>415.0</td>\n",
       "      <td>510.0</td>\n",
       "      <td>650.0</td>\n",
       "    </tr>\n",
       "    <tr>\n",
       "      <th>3</th>\n",
       "      <td>367.0</td>\n",
       "      <td>858.762943</td>\n",
       "      <td>164.967760</td>\n",
       "      <td>660.0</td>\n",
       "      <td>720.0</td>\n",
       "      <td>840.0</td>\n",
       "      <td>990.0</td>\n",
       "      <td>1710.0</td>\n",
       "    </tr>\n",
       "  </tbody>\n",
       "</table>\n",
       "</div>"
      ],
      "text/plain": [
       "                   count        mean         std    min    25%    50%    75%  \\\n",
       "FrequencyCluster                                                               \n",
       "0                 7658.0   42.180204   21.197989    0.0   30.0   30.0   60.0   \n",
       "1                 2505.0  182.975250   58.052693  120.0  120.0  180.0  210.0   \n",
       "2                 1517.0  445.500330   87.732335  315.0  390.0  415.0  510.0   \n",
       "3                  367.0  858.762943  164.967760  660.0  720.0  840.0  990.0   \n",
       "\n",
       "                     max  \n",
       "FrequencyCluster          \n",
       "0                  100.0  \n",
       "1                  301.0  \n",
       "2                  650.0  \n",
       "3                 1710.0  "
      ]
     },
     "execution_count": 13,
     "metadata": {},
     "output_type": "execute_result"
    }
   ],
   "source": [
    "data.groupby('FrequencyCluster')['Frequency'].describe()"
   ]
  },
  {
   "cell_type": "markdown",
   "id": "13ec8700",
   "metadata": {},
   "source": [
    "### Monetary Clustering"
   ]
  },
  {
   "cell_type": "code",
   "execution_count": 14,
   "id": "2ab50577",
   "metadata": {},
   "outputs": [
    {
     "name": "stderr",
     "output_type": "stream",
     "text": [
      "C:\\Users\\LENOVO\\anaconda3\\lib\\site-packages\\sklearn\\cluster\\_kmeans.py:870: FutureWarning: The default value of `n_init` will change from 10 to 'auto' in 1.4. Set the value of `n_init` explicitly to suppress the warning\n",
      "  warnings.warn(\n"
     ]
    }
   ],
   "source": [
    "from sklearn.cluster import KMeans\n",
    "\n",
    "kmeans = KMeans(n_clusters=4)\n",
    "kmeans.fit(data[['Monetary']])\n",
    "data['MonetaryCluster'] = kmeans.predict(data[['Monetary']])\n",
    "\n",
    "data = order_cluster('MonetaryCluster', 'Monetary',data,True)"
   ]
  },
  {
   "cell_type": "code",
   "execution_count": 15,
   "id": "0f82cb0c",
   "metadata": {},
   "outputs": [
    {
     "data": {
      "text/html": [
       "<div>\n",
       "<style scoped>\n",
       "    .dataframe tbody tr th:only-of-type {\n",
       "        vertical-align: middle;\n",
       "    }\n",
       "\n",
       "    .dataframe tbody tr th {\n",
       "        vertical-align: top;\n",
       "    }\n",
       "\n",
       "    .dataframe thead th {\n",
       "        text-align: right;\n",
       "    }\n",
       "</style>\n",
       "<table border=\"1\" class=\"dataframe\">\n",
       "  <thead>\n",
       "    <tr style=\"text-align: right;\">\n",
       "      <th></th>\n",
       "      <th>msno</th>\n",
       "      <th>Monetary</th>\n",
       "      <th>Recency</th>\n",
       "      <th>Frequency</th>\n",
       "      <th>is_auto_renew</th>\n",
       "      <th>lastMonthLTV</th>\n",
       "      <th>RecencyCluster</th>\n",
       "      <th>FrequencyCluster</th>\n",
       "      <th>MonetaryCluster</th>\n",
       "    </tr>\n",
       "  </thead>\n",
       "  <tbody>\n",
       "    <tr>\n",
       "      <th>0</th>\n",
       "      <td>99</td>\n",
       "      <td>1788</td>\n",
       "      <td>43</td>\n",
       "      <td>410</td>\n",
       "      <td>0</td>\n",
       "      <td>1200</td>\n",
       "      <td>3</td>\n",
       "      <td>2</td>\n",
       "      <td>1</td>\n",
       "    </tr>\n",
       "    <tr>\n",
       "      <th>1</th>\n",
       "      <td>34289</td>\n",
       "      <td>1287</td>\n",
       "      <td>39</td>\n",
       "      <td>390</td>\n",
       "      <td>1</td>\n",
       "      <td>99</td>\n",
       "      <td>3</td>\n",
       "      <td>2</td>\n",
       "      <td>1</td>\n",
       "    </tr>\n",
       "    <tr>\n",
       "      <th>2</th>\n",
       "      <td>36143</td>\n",
       "      <td>1937</td>\n",
       "      <td>46</td>\n",
       "      <td>390</td>\n",
       "      <td>1</td>\n",
       "      <td>149</td>\n",
       "      <td>3</td>\n",
       "      <td>2</td>\n",
       "      <td>1</td>\n",
       "    </tr>\n",
       "    <tr>\n",
       "      <th>3</th>\n",
       "      <td>36214</td>\n",
       "      <td>1767</td>\n",
       "      <td>41</td>\n",
       "      <td>390</td>\n",
       "      <td>1</td>\n",
       "      <td>99</td>\n",
       "      <td>3</td>\n",
       "      <td>2</td>\n",
       "      <td>1</td>\n",
       "    </tr>\n",
       "    <tr>\n",
       "      <th>4</th>\n",
       "      <td>42792</td>\n",
       "      <td>1937</td>\n",
       "      <td>39</td>\n",
       "      <td>470</td>\n",
       "      <td>1</td>\n",
       "      <td>149</td>\n",
       "      <td>3</td>\n",
       "      <td>2</td>\n",
       "      <td>1</td>\n",
       "    </tr>\n",
       "  </tbody>\n",
       "</table>\n",
       "</div>"
      ],
      "text/plain": [
       "    msno  Monetary  Recency  Frequency  is_auto_renew  lastMonthLTV  \\\n",
       "0     99      1788       43        410              0          1200   \n",
       "1  34289      1287       39        390              1            99   \n",
       "2  36143      1937       46        390              1           149   \n",
       "3  36214      1767       41        390              1            99   \n",
       "4  42792      1937       39        470              1           149   \n",
       "\n",
       "   RecencyCluster  FrequencyCluster  MonetaryCluster  \n",
       "0               3                 2                1  \n",
       "1               3                 2                1  \n",
       "2               3                 2                1  \n",
       "3               3                 2                1  \n",
       "4               3                 2                1  "
      ]
     },
     "execution_count": 15,
     "metadata": {},
     "output_type": "execute_result"
    }
   ],
   "source": [
    "data.head()"
   ]
  },
  {
   "cell_type": "code",
   "execution_count": 16,
   "id": "ab2b7048",
   "metadata": {},
   "outputs": [
    {
     "data": {
      "text/plain": [
       "0    9050\n",
       "1    2071\n",
       "2     707\n",
       "3     219\n",
       "Name: MonetaryCluster, dtype: int64"
      ]
     },
     "execution_count": 16,
     "metadata": {},
     "output_type": "execute_result"
    }
   ],
   "source": [
    "data['MonetaryCluster'].value_counts()"
   ]
  },
  {
   "cell_type": "code",
   "execution_count": 17,
   "id": "4582e25a",
   "metadata": {},
   "outputs": [
    {
     "data": {
      "text/html": [
       "<div>\n",
       "<style scoped>\n",
       "    .dataframe tbody tr th:only-of-type {\n",
       "        vertical-align: middle;\n",
       "    }\n",
       "\n",
       "    .dataframe tbody tr th {\n",
       "        vertical-align: top;\n",
       "    }\n",
       "\n",
       "    .dataframe thead th {\n",
       "        text-align: right;\n",
       "    }\n",
       "</style>\n",
       "<table border=\"1\" class=\"dataframe\">\n",
       "  <thead>\n",
       "    <tr style=\"text-align: right;\">\n",
       "      <th></th>\n",
       "      <th>count</th>\n",
       "      <th>mean</th>\n",
       "      <th>std</th>\n",
       "      <th>min</th>\n",
       "      <th>25%</th>\n",
       "      <th>50%</th>\n",
       "      <th>75%</th>\n",
       "      <th>max</th>\n",
       "    </tr>\n",
       "    <tr>\n",
       "      <th>MonetaryCluster</th>\n",
       "      <th></th>\n",
       "      <th></th>\n",
       "      <th></th>\n",
       "      <th></th>\n",
       "      <th></th>\n",
       "      <th></th>\n",
       "      <th></th>\n",
       "      <th></th>\n",
       "    </tr>\n",
       "  </thead>\n",
       "  <tbody>\n",
       "    <tr>\n",
       "      <th>0</th>\n",
       "      <td>9050.0</td>\n",
       "      <td>253.593039</td>\n",
       "      <td>175.833657</td>\n",
       "      <td>0.0</td>\n",
       "      <td>149.0</td>\n",
       "      <td>180.0</td>\n",
       "      <td>298.0</td>\n",
       "      <td>814.0</td>\n",
       "    </tr>\n",
       "    <tr>\n",
       "      <th>1</th>\n",
       "      <td>2071.0</td>\n",
       "      <td>1394.828585</td>\n",
       "      <td>390.410171</td>\n",
       "      <td>833.0</td>\n",
       "      <td>1032.0</td>\n",
       "      <td>1390.0</td>\n",
       "      <td>1788.0</td>\n",
       "      <td>2115.0</td>\n",
       "    </tr>\n",
       "    <tr>\n",
       "      <th>2</th>\n",
       "      <td>707.0</td>\n",
       "      <td>2859.318246</td>\n",
       "      <td>411.144494</td>\n",
       "      <td>2134.0</td>\n",
       "      <td>2538.5</td>\n",
       "      <td>2950.0</td>\n",
       "      <td>2989.0</td>\n",
       "      <td>3852.0</td>\n",
       "    </tr>\n",
       "    <tr>\n",
       "      <th>3</th>\n",
       "      <td>219.0</td>\n",
       "      <td>4877.269406</td>\n",
       "      <td>657.057812</td>\n",
       "      <td>3872.0</td>\n",
       "      <td>4453.5</td>\n",
       "      <td>4916.0</td>\n",
       "      <td>5215.0</td>\n",
       "      <td>8520.0</td>\n",
       "    </tr>\n",
       "  </tbody>\n",
       "</table>\n",
       "</div>"
      ],
      "text/plain": [
       "                  count         mean         std     min     25%     50%  \\\n",
       "MonetaryCluster                                                            \n",
       "0                9050.0   253.593039  175.833657     0.0   149.0   180.0   \n",
       "1                2071.0  1394.828585  390.410171   833.0  1032.0  1390.0   \n",
       "2                 707.0  2859.318246  411.144494  2134.0  2538.5  2950.0   \n",
       "3                 219.0  4877.269406  657.057812  3872.0  4453.5  4916.0   \n",
       "\n",
       "                    75%     max  \n",
       "MonetaryCluster                  \n",
       "0                 298.0   814.0  \n",
       "1                1788.0  2115.0  \n",
       "2                2989.0  3852.0  \n",
       "3                5215.0  8520.0  "
      ]
     },
     "execution_count": 17,
     "metadata": {},
     "output_type": "execute_result"
    }
   ],
   "source": [
    "data.groupby('MonetaryCluster')['Monetary'].describe()"
   ]
  },
  {
   "cell_type": "markdown",
   "id": "d1801e77",
   "metadata": {},
   "source": [
    "### Last Month LTV Clustering"
   ]
  },
  {
   "cell_type": "code",
   "execution_count": 18,
   "id": "02868529",
   "metadata": {},
   "outputs": [
    {
     "name": "stderr",
     "output_type": "stream",
     "text": [
      "C:\\Users\\LENOVO\\anaconda3\\lib\\site-packages\\sklearn\\cluster\\_kmeans.py:870: FutureWarning: The default value of `n_init` will change from 10 to 'auto' in 1.4. Set the value of `n_init` explicitly to suppress the warning\n",
      "  warnings.warn(\n"
     ]
    }
   ],
   "source": [
    "from sklearn.cluster import KMeans\n",
    "\n",
    "kmeans = KMeans(n_clusters=3)\n",
    "kmeans.fit(data[['lastMonthLTV']])\n",
    "data['LastMonthLTVCluster'] = kmeans.predict(data[['lastMonthLTV']])\n",
    "\n",
    "data = order_cluster('LastMonthLTVCluster', 'lastMonthLTV',data,True)"
   ]
  },
  {
   "cell_type": "code",
   "execution_count": 19,
   "id": "0ee7a0f8",
   "metadata": {},
   "outputs": [
    {
     "data": {
      "text/html": [
       "<div>\n",
       "<style scoped>\n",
       "    .dataframe tbody tr th:only-of-type {\n",
       "        vertical-align: middle;\n",
       "    }\n",
       "\n",
       "    .dataframe tbody tr th {\n",
       "        vertical-align: top;\n",
       "    }\n",
       "\n",
       "    .dataframe thead th {\n",
       "        text-align: right;\n",
       "    }\n",
       "</style>\n",
       "<table border=\"1\" class=\"dataframe\">\n",
       "  <thead>\n",
       "    <tr style=\"text-align: right;\">\n",
       "      <th></th>\n",
       "      <th>msno</th>\n",
       "      <th>Monetary</th>\n",
       "      <th>Recency</th>\n",
       "      <th>Frequency</th>\n",
       "      <th>is_auto_renew</th>\n",
       "      <th>lastMonthLTV</th>\n",
       "      <th>RecencyCluster</th>\n",
       "      <th>FrequencyCluster</th>\n",
       "      <th>MonetaryCluster</th>\n",
       "      <th>LastMonthLTVCluster</th>\n",
       "    </tr>\n",
       "  </thead>\n",
       "  <tbody>\n",
       "    <tr>\n",
       "      <th>0</th>\n",
       "      <td>99</td>\n",
       "      <td>1788</td>\n",
       "      <td>43</td>\n",
       "      <td>410</td>\n",
       "      <td>0</td>\n",
       "      <td>1200</td>\n",
       "      <td>3</td>\n",
       "      <td>2</td>\n",
       "      <td>1</td>\n",
       "      <td>1</td>\n",
       "    </tr>\n",
       "    <tr>\n",
       "      <th>1</th>\n",
       "      <td>456722</td>\n",
       "      <td>1341</td>\n",
       "      <td>56</td>\n",
       "      <td>315</td>\n",
       "      <td>0</td>\n",
       "      <td>1200</td>\n",
       "      <td>3</td>\n",
       "      <td>2</td>\n",
       "      <td>1</td>\n",
       "      <td>1</td>\n",
       "    </tr>\n",
       "    <tr>\n",
       "      <th>2</th>\n",
       "      <td>29895</td>\n",
       "      <td>1788</td>\n",
       "      <td>371</td>\n",
       "      <td>410</td>\n",
       "      <td>0</td>\n",
       "      <td>1200</td>\n",
       "      <td>1</td>\n",
       "      <td>2</td>\n",
       "      <td>1</td>\n",
       "      <td>1</td>\n",
       "    </tr>\n",
       "    <tr>\n",
       "      <th>3</th>\n",
       "      <td>37078</td>\n",
       "      <td>1788</td>\n",
       "      <td>406</td>\n",
       "      <td>410</td>\n",
       "      <td>0</td>\n",
       "      <td>1200</td>\n",
       "      <td>1</td>\n",
       "      <td>2</td>\n",
       "      <td>1</td>\n",
       "      <td>1</td>\n",
       "    </tr>\n",
       "    <tr>\n",
       "      <th>4</th>\n",
       "      <td>76194</td>\n",
       "      <td>1599</td>\n",
       "      <td>393</td>\n",
       "      <td>395</td>\n",
       "      <td>0</td>\n",
       "      <td>1200</td>\n",
       "      <td>1</td>\n",
       "      <td>2</td>\n",
       "      <td>1</td>\n",
       "      <td>1</td>\n",
       "    </tr>\n",
       "  </tbody>\n",
       "</table>\n",
       "</div>"
      ],
      "text/plain": [
       "     msno  Monetary  Recency  Frequency  is_auto_renew  lastMonthLTV  \\\n",
       "0      99      1788       43        410              0          1200   \n",
       "1  456722      1341       56        315              0          1200   \n",
       "2   29895      1788      371        410              0          1200   \n",
       "3   37078      1788      406        410              0          1200   \n",
       "4   76194      1599      393        395              0          1200   \n",
       "\n",
       "   RecencyCluster  FrequencyCluster  MonetaryCluster  LastMonthLTVCluster  \n",
       "0               3                 2                1                    1  \n",
       "1               3                 2                1                    1  \n",
       "2               1                 2                1                    1  \n",
       "3               1                 2                1                    1  \n",
       "4               1                 2                1                    1  "
      ]
     },
     "execution_count": 19,
     "metadata": {},
     "output_type": "execute_result"
    }
   ],
   "source": [
    "data.head()"
   ]
  },
  {
   "cell_type": "code",
   "execution_count": 20,
   "id": "0f5b5bc3",
   "metadata": {},
   "outputs": [
    {
     "data": {
      "text/plain": [
       "149     4506\n",
       "99      3431\n",
       "129     1535\n",
       "180     1143\n",
       "100      325\n",
       "        ... \n",
       "140        1\n",
       "596        1\n",
       "1192       1\n",
       "626        1\n",
       "1890       1\n",
       "Name: lastMonthLTV, Length: 84, dtype: int64"
      ]
     },
     "execution_count": 20,
     "metadata": {},
     "output_type": "execute_result"
    }
   ],
   "source": [
    "data['lastMonthLTV'].value_counts()"
   ]
  },
  {
   "cell_type": "code",
   "execution_count": 35,
   "id": "810b576d",
   "metadata": {},
   "outputs": [
    {
     "data": {
      "text/plain": [
       "0    11464\n",
       "1      330\n",
       "2      253\n",
       "Name: LastMonthLTVCluster, dtype: int64"
      ]
     },
     "execution_count": 35,
     "metadata": {},
     "output_type": "execute_result"
    }
   ],
   "source": [
    "data['LastMonthLTVCluster'].value_counts()"
   ]
  },
  {
   "cell_type": "code",
   "execution_count": 37,
   "id": "8859fe83",
   "metadata": {},
   "outputs": [
    {
     "data": {
      "text/html": [
       "<div>\n",
       "<style scoped>\n",
       "    .dataframe tbody tr th:only-of-type {\n",
       "        vertical-align: middle;\n",
       "    }\n",
       "\n",
       "    .dataframe tbody tr th {\n",
       "        vertical-align: top;\n",
       "    }\n",
       "\n",
       "    .dataframe thead th {\n",
       "        text-align: right;\n",
       "    }\n",
       "</style>\n",
       "<table border=\"1\" class=\"dataframe\">\n",
       "  <thead>\n",
       "    <tr style=\"text-align: right;\">\n",
       "      <th></th>\n",
       "      <th>count</th>\n",
       "      <th>mean</th>\n",
       "      <th>std</th>\n",
       "      <th>min</th>\n",
       "      <th>25%</th>\n",
       "      <th>50%</th>\n",
       "      <th>75%</th>\n",
       "      <th>max</th>\n",
       "    </tr>\n",
       "    <tr>\n",
       "      <th>LastMonthLTVCluster</th>\n",
       "      <th></th>\n",
       "      <th></th>\n",
       "      <th></th>\n",
       "      <th></th>\n",
       "      <th></th>\n",
       "      <th></th>\n",
       "      <th></th>\n",
       "      <th></th>\n",
       "    </tr>\n",
       "  </thead>\n",
       "  <tbody>\n",
       "    <tr>\n",
       "      <th>0</th>\n",
       "      <td>3836.0</td>\n",
       "      <td>94.916058</td>\n",
       "      <td>39.712799</td>\n",
       "      <td>-720.0</td>\n",
       "      <td>99.0</td>\n",
       "      <td>99.0</td>\n",
       "      <td>99.0</td>\n",
       "      <td>100.0</td>\n",
       "    </tr>\n",
       "    <tr>\n",
       "      <th>1</th>\n",
       "      <td>7634.0</td>\n",
       "      <td>159.988997</td>\n",
       "      <td>49.191854</td>\n",
       "      <td>129.0</td>\n",
       "      <td>149.0</td>\n",
       "      <td>149.0</td>\n",
       "      <td>149.0</td>\n",
       "      <td>500.0</td>\n",
       "    </tr>\n",
       "    <tr>\n",
       "      <th>2</th>\n",
       "      <td>577.0</td>\n",
       "      <td>1308.776430</td>\n",
       "      <td>573.981408</td>\n",
       "      <td>536.0</td>\n",
       "      <td>894.0</td>\n",
       "      <td>1200.0</td>\n",
       "      <td>1788.0</td>\n",
       "      <td>2698.0</td>\n",
       "    </tr>\n",
       "  </tbody>\n",
       "</table>\n",
       "</div>"
      ],
      "text/plain": [
       "                      count         mean         std    min    25%     50%  \\\n",
       "LastMonthLTVCluster                                                          \n",
       "0                    3836.0    94.916058   39.712799 -720.0   99.0    99.0   \n",
       "1                    7634.0   159.988997   49.191854  129.0  149.0   149.0   \n",
       "2                     577.0  1308.776430  573.981408  536.0  894.0  1200.0   \n",
       "\n",
       "                        75%     max  \n",
       "LastMonthLTVCluster                  \n",
       "0                      99.0   100.0  \n",
       "1                     149.0   500.0  \n",
       "2                    1788.0  2698.0  "
      ]
     },
     "execution_count": 37,
     "metadata": {},
     "output_type": "execute_result"
    }
   ],
   "source": [
    "data.groupby('LastMonthLTVCluster')['lastMonthLTV'].describe()"
   ]
  },
  {
   "cell_type": "markdown",
   "id": "ca273e02",
   "metadata": {},
   "source": [
    "## Calculating the Overall Score and Creating Segment Column"
   ]
  },
  {
   "cell_type": "markdown",
   "id": "58da7c86",
   "metadata": {},
   "source": [
    "### Overall Score "
   ]
  },
  {
   "cell_type": "code",
   "execution_count": 22,
   "id": "79ee19c5",
   "metadata": {},
   "outputs": [],
   "source": [
    "data['OverallScore'] = data['FrequencyCluster']+data['RecencyCluster']+data['MonetaryCluster']"
   ]
  },
  {
   "cell_type": "code",
   "execution_count": 23,
   "id": "87381b3a",
   "metadata": {},
   "outputs": [
    {
     "data": {
      "text/html": [
       "<div>\n",
       "<style scoped>\n",
       "    .dataframe tbody tr th:only-of-type {\n",
       "        vertical-align: middle;\n",
       "    }\n",
       "\n",
       "    .dataframe tbody tr th {\n",
       "        vertical-align: top;\n",
       "    }\n",
       "\n",
       "    .dataframe thead th {\n",
       "        text-align: right;\n",
       "    }\n",
       "</style>\n",
       "<table border=\"1\" class=\"dataframe\">\n",
       "  <thead>\n",
       "    <tr style=\"text-align: right;\">\n",
       "      <th></th>\n",
       "      <th>msno</th>\n",
       "      <th>Monetary</th>\n",
       "      <th>Recency</th>\n",
       "      <th>Frequency</th>\n",
       "      <th>is_auto_renew</th>\n",
       "      <th>lastMonthLTV</th>\n",
       "      <th>RecencyCluster</th>\n",
       "      <th>FrequencyCluster</th>\n",
       "      <th>MonetaryCluster</th>\n",
       "      <th>LastMonthLTVCluster</th>\n",
       "      <th>OverallScore</th>\n",
       "    </tr>\n",
       "  </thead>\n",
       "  <tbody>\n",
       "    <tr>\n",
       "      <th>0</th>\n",
       "      <td>99</td>\n",
       "      <td>1788</td>\n",
       "      <td>43</td>\n",
       "      <td>410</td>\n",
       "      <td>0</td>\n",
       "      <td>1200</td>\n",
       "      <td>3</td>\n",
       "      <td>2</td>\n",
       "      <td>1</td>\n",
       "      <td>1</td>\n",
       "      <td>6</td>\n",
       "    </tr>\n",
       "    <tr>\n",
       "      <th>1</th>\n",
       "      <td>456722</td>\n",
       "      <td>1341</td>\n",
       "      <td>56</td>\n",
       "      <td>315</td>\n",
       "      <td>0</td>\n",
       "      <td>1200</td>\n",
       "      <td>3</td>\n",
       "      <td>2</td>\n",
       "      <td>1</td>\n",
       "      <td>1</td>\n",
       "      <td>6</td>\n",
       "    </tr>\n",
       "    <tr>\n",
       "      <th>2</th>\n",
       "      <td>29895</td>\n",
       "      <td>1788</td>\n",
       "      <td>371</td>\n",
       "      <td>410</td>\n",
       "      <td>0</td>\n",
       "      <td>1200</td>\n",
       "      <td>1</td>\n",
       "      <td>2</td>\n",
       "      <td>1</td>\n",
       "      <td>1</td>\n",
       "      <td>4</td>\n",
       "    </tr>\n",
       "    <tr>\n",
       "      <th>3</th>\n",
       "      <td>37078</td>\n",
       "      <td>1788</td>\n",
       "      <td>406</td>\n",
       "      <td>410</td>\n",
       "      <td>0</td>\n",
       "      <td>1200</td>\n",
       "      <td>1</td>\n",
       "      <td>2</td>\n",
       "      <td>1</td>\n",
       "      <td>1</td>\n",
       "      <td>4</td>\n",
       "    </tr>\n",
       "    <tr>\n",
       "      <th>4</th>\n",
       "      <td>76194</td>\n",
       "      <td>1599</td>\n",
       "      <td>393</td>\n",
       "      <td>395</td>\n",
       "      <td>0</td>\n",
       "      <td>1200</td>\n",
       "      <td>1</td>\n",
       "      <td>2</td>\n",
       "      <td>1</td>\n",
       "      <td>1</td>\n",
       "      <td>4</td>\n",
       "    </tr>\n",
       "  </tbody>\n",
       "</table>\n",
       "</div>"
      ],
      "text/plain": [
       "     msno  Monetary  Recency  Frequency  is_auto_renew  lastMonthLTV  \\\n",
       "0      99      1788       43        410              0          1200   \n",
       "1  456722      1341       56        315              0          1200   \n",
       "2   29895      1788      371        410              0          1200   \n",
       "3   37078      1788      406        410              0          1200   \n",
       "4   76194      1599      393        395              0          1200   \n",
       "\n",
       "   RecencyCluster  FrequencyCluster  MonetaryCluster  LastMonthLTVCluster  \\\n",
       "0               3                 2                1                    1   \n",
       "1               3                 2                1                    1   \n",
       "2               1                 2                1                    1   \n",
       "3               1                 2                1                    1   \n",
       "4               1                 2                1                    1   \n",
       "\n",
       "   OverallScore  \n",
       "0             6  \n",
       "1             6  \n",
       "2             4  \n",
       "3             4  \n",
       "4             4  "
      ]
     },
     "execution_count": 23,
     "metadata": {},
     "output_type": "execute_result"
    }
   ],
   "source": [
    "data.head()"
   ]
  },
  {
   "cell_type": "code",
   "execution_count": 24,
   "id": "5e73aef1",
   "metadata": {},
   "outputs": [
    {
     "data": {
      "text/plain": [
       "3    7130\n",
       "4    1695\n",
       "0     851\n",
       "1     698\n",
       "2     695\n",
       "5     533\n",
       "6     375\n",
       "7      56\n",
       "8       9\n",
       "9       5\n",
       "Name: OverallScore, dtype: int64"
      ]
     },
     "execution_count": 24,
     "metadata": {},
     "output_type": "execute_result"
    }
   ],
   "source": [
    "data['OverallScore'].value_counts()"
   ]
  },
  {
   "cell_type": "markdown",
   "id": "6fcc4cbb",
   "metadata": {},
   "source": [
    "### LTV Segment"
   ]
  },
  {
   "cell_type": "code",
   "execution_count": 38,
   "id": "8db6a44d",
   "metadata": {},
   "outputs": [],
   "source": [
    "data['LTV_Segment'] = 'Low-LTV'\n",
    "data.loc[data['LastMonthLTVCluster']==1,'LTV_Segment'] = 'Mid-LTV' \n",
    "data.loc[data['LastMonthLTVCluster']==2,'LTV_Segment'] = 'High-LTV' "
   ]
  },
  {
   "cell_type": "code",
   "execution_count": 39,
   "id": "6b70637a",
   "metadata": {},
   "outputs": [
    {
     "data": {
      "text/plain": [
       "Mid-LTV     7634\n",
       "Low-LTV     3836\n",
       "High-LTV     577\n",
       "Name: LTV_Segment, dtype: int64"
      ]
     },
     "execution_count": 39,
     "metadata": {},
     "output_type": "execute_result"
    }
   ],
   "source": [
    "data['LTV_Segment'].value_counts()"
   ]
  },
  {
   "cell_type": "code",
   "execution_count": 40,
   "id": "6b1b17d6",
   "metadata": {},
   "outputs": [
    {
     "data": {
      "text/html": [
       "<div>\n",
       "<style scoped>\n",
       "    .dataframe tbody tr th:only-of-type {\n",
       "        vertical-align: middle;\n",
       "    }\n",
       "\n",
       "    .dataframe tbody tr th {\n",
       "        vertical-align: top;\n",
       "    }\n",
       "\n",
       "    .dataframe thead th {\n",
       "        text-align: right;\n",
       "    }\n",
       "</style>\n",
       "<table border=\"1\" class=\"dataframe\">\n",
       "  <thead>\n",
       "    <tr style=\"text-align: right;\">\n",
       "      <th></th>\n",
       "      <th>msno</th>\n",
       "      <th>Monetary</th>\n",
       "      <th>Recency</th>\n",
       "      <th>Frequency</th>\n",
       "      <th>is_auto_renew</th>\n",
       "      <th>lastMonthLTV</th>\n",
       "      <th>RecencyCluster</th>\n",
       "      <th>FrequencyCluster</th>\n",
       "      <th>MonetaryCluster</th>\n",
       "      <th>LastMonthLTVCluster</th>\n",
       "      <th>OverallScore</th>\n",
       "      <th>LTV_Segment</th>\n",
       "    </tr>\n",
       "  </thead>\n",
       "  <tbody>\n",
       "    <tr>\n",
       "      <th>0</th>\n",
       "      <td>99</td>\n",
       "      <td>1788</td>\n",
       "      <td>43</td>\n",
       "      <td>410</td>\n",
       "      <td>0</td>\n",
       "      <td>1200</td>\n",
       "      <td>3</td>\n",
       "      <td>2</td>\n",
       "      <td>1</td>\n",
       "      <td>2</td>\n",
       "      <td>6</td>\n",
       "      <td>High-LTV</td>\n",
       "    </tr>\n",
       "    <tr>\n",
       "      <th>1</th>\n",
       "      <td>456722</td>\n",
       "      <td>1341</td>\n",
       "      <td>56</td>\n",
       "      <td>315</td>\n",
       "      <td>0</td>\n",
       "      <td>1200</td>\n",
       "      <td>3</td>\n",
       "      <td>2</td>\n",
       "      <td>1</td>\n",
       "      <td>2</td>\n",
       "      <td>6</td>\n",
       "      <td>High-LTV</td>\n",
       "    </tr>\n",
       "    <tr>\n",
       "      <th>2</th>\n",
       "      <td>29895</td>\n",
       "      <td>1788</td>\n",
       "      <td>371</td>\n",
       "      <td>410</td>\n",
       "      <td>0</td>\n",
       "      <td>1200</td>\n",
       "      <td>1</td>\n",
       "      <td>2</td>\n",
       "      <td>1</td>\n",
       "      <td>2</td>\n",
       "      <td>4</td>\n",
       "      <td>High-LTV</td>\n",
       "    </tr>\n",
       "    <tr>\n",
       "      <th>3</th>\n",
       "      <td>37078</td>\n",
       "      <td>1788</td>\n",
       "      <td>406</td>\n",
       "      <td>410</td>\n",
       "      <td>0</td>\n",
       "      <td>1200</td>\n",
       "      <td>1</td>\n",
       "      <td>2</td>\n",
       "      <td>1</td>\n",
       "      <td>2</td>\n",
       "      <td>4</td>\n",
       "      <td>High-LTV</td>\n",
       "    </tr>\n",
       "    <tr>\n",
       "      <th>4</th>\n",
       "      <td>76194</td>\n",
       "      <td>1599</td>\n",
       "      <td>393</td>\n",
       "      <td>395</td>\n",
       "      <td>0</td>\n",
       "      <td>1200</td>\n",
       "      <td>1</td>\n",
       "      <td>2</td>\n",
       "      <td>1</td>\n",
       "      <td>2</td>\n",
       "      <td>4</td>\n",
       "      <td>High-LTV</td>\n",
       "    </tr>\n",
       "  </tbody>\n",
       "</table>\n",
       "</div>"
      ],
      "text/plain": [
       "     msno  Monetary  Recency  Frequency  is_auto_renew  lastMonthLTV  \\\n",
       "0      99      1788       43        410              0          1200   \n",
       "1  456722      1341       56        315              0          1200   \n",
       "2   29895      1788      371        410              0          1200   \n",
       "3   37078      1788      406        410              0          1200   \n",
       "4   76194      1599      393        395              0          1200   \n",
       "\n",
       "   RecencyCluster  FrequencyCluster  MonetaryCluster  LastMonthLTVCluster  \\\n",
       "0               3                 2                1                    2   \n",
       "1               3                 2                1                    2   \n",
       "2               1                 2                1                    2   \n",
       "3               1                 2                1                    2   \n",
       "4               1                 2                1                    2   \n",
       "\n",
       "   OverallScore LTV_Segment  \n",
       "0             6    High-LTV  \n",
       "1             6    High-LTV  \n",
       "2             4    High-LTV  \n",
       "3             4    High-LTV  \n",
       "4             4    High-LTV  "
      ]
     },
     "execution_count": 40,
     "metadata": {},
     "output_type": "execute_result"
    }
   ],
   "source": [
    "data.head()"
   ]
  },
  {
   "cell_type": "markdown",
   "id": "458948b7",
   "metadata": {},
   "source": [
    "### Label Encoding and Test Train Split "
   ]
  },
  {
   "cell_type": "code",
   "execution_count": 41,
   "id": "67c689ec",
   "metadata": {},
   "outputs": [],
   "source": [
    "data = data.drop(['lastMonthLTV','LastMonthLTVCluster','RecencyCluster','FrequencyCluster','MonetaryCluster'],axis=1)"
   ]
  },
  {
   "cell_type": "code",
   "execution_count": 42,
   "id": "45e4315a",
   "metadata": {},
   "outputs": [],
   "source": [
    "cols = data.columns"
   ]
  },
  {
   "cell_type": "code",
   "execution_count": 43,
   "id": "d4f567fd",
   "metadata": {},
   "outputs": [
    {
     "name": "stdout",
     "output_type": "stream",
     "text": [
      "Index(['LTV_Segment'], dtype='object')\n"
     ]
    }
   ],
   "source": [
    "objList = data.select_dtypes(include = \"object\").columns #\n",
    "print (objList)"
   ]
  },
  {
   "cell_type": "code",
   "execution_count": 44,
   "id": "f32b66b3",
   "metadata": {},
   "outputs": [
    {
     "name": "stdout",
     "output_type": "stream",
     "text": [
      "<class 'pandas.core.frame.DataFrame'>\n",
      "Int64Index: 12047 entries, 0 to 12046\n",
      "Data columns (total 7 columns):\n",
      " #   Column         Non-Null Count  Dtype\n",
      "---  ------         --------------  -----\n",
      " 0   msno           12047 non-null  int64\n",
      " 1   Monetary       12047 non-null  int64\n",
      " 2   Recency        12047 non-null  int64\n",
      " 3   Frequency      12047 non-null  int64\n",
      " 4   is_auto_renew  12047 non-null  int64\n",
      " 5   OverallScore   12047 non-null  int64\n",
      " 6   LTV_Segment    12047 non-null  int32\n",
      "dtypes: int32(1), int64(6)\n",
      "memory usage: 705.9 KB\n",
      "None\n"
     ]
    }
   ],
   "source": [
    "from sklearn.preprocessing import LabelEncoder #encoder package of sklearn\n",
    "le = LabelEncoder() #le variable has been assigned a labelencoder function\n",
    "\n",
    "for Shiv in objList:\n",
    "    data[Shiv] = le.fit_transform(data[Shiv].astype(str))\n",
    "\n",
    "print (data.info())"
   ]
  },
  {
   "cell_type": "code",
   "execution_count": 73,
   "id": "8033019d",
   "metadata": {},
   "outputs": [],
   "source": [
    "from  sklearn.model_selection  import  train_test_split \n",
    "X = data.drop('LTV_Segment',axis=1)\n",
    "X = X.drop(['msno','is_auto_renew'],axis=1)\n",
    "y= data['LTV_Segment']"
   ]
  },
  {
   "cell_type": "code",
   "execution_count": 74,
   "id": "2cbfaf52",
   "metadata": {},
   "outputs": [],
   "source": [
    "X_train, X_test, y_train, y_test = train_test_split(X, y, test_size=0.2, random_state=42,stratify=y)"
   ]
  },
  {
   "cell_type": "markdown",
   "id": "090a7345",
   "metadata": {},
   "source": [
    "### KNN Classifier "
   ]
  },
  {
   "cell_type": "code",
   "execution_count": 75,
   "id": "c8352e13",
   "metadata": {},
   "outputs": [
    {
     "name": "stdout",
     "output_type": "stream",
     "text": [
      "Accuracy on training set: 87.82\n",
      "Accuracy on testing set: 82.20\n"
     ]
    }
   ],
   "source": [
    "from sklearn.neighbors import KNeighborsClassifier\n",
    "knn = KNeighborsClassifier(n_neighbors=4)\n",
    "\n",
    "knn.fit(X_train,y_train) #training data and  has been provided to the algorithm\n",
    "\n",
    "knn.score(X_train,y_train)#the data we are passing will be considered for the accuracy\n",
    "\n",
    "\n",
    "print(\"Accuracy on training set: {:.2f}\".format(knn.score(X_train, y_train)*100))\n",
    "\n",
    "print(\"Accuracy on testing set: {:.2f}\".format(knn.score(X_test, y_test)*100))"
   ]
  },
  {
   "cell_type": "code",
   "execution_count": 110,
   "id": "71bc92cc",
   "metadata": {},
   "outputs": [],
   "source": [
    "y_pred = knn.predict(X_test)"
   ]
  },
  {
   "cell_type": "code",
   "execution_count": 111,
   "id": "2ff46344",
   "metadata": {},
   "outputs": [
    {
     "data": {
      "image/png": "[encoded data removed]",
      "text/plain": [
       "<Figure size 432x288 with 2 Axes>"
      ]
     },
     "metadata": {
      "needs_background": "light"
     },
     "output_type": "display_data"
    }
   ],
   "source": [
    "from sklearn.metrics import confusion_matrix, ConfusionMatrixDisplay\n",
    "cm = confusion_matrix(y_test, y_pred, labels=knn.classes_)\n",
    "disp = ConfusionMatrixDisplay(confusion_matrix=cm, display_labels=knn.classes_)\n",
    "disp.plot()\n",
    "plt.show()"
   ]
  },
  {
   "cell_type": "code",
   "execution_count": 112,
   "id": "8b69b541",
   "metadata": {},
   "outputs": [
    {
     "data": {
      "text/plain": [
       "0.8259594302036195"
      ]
     },
     "execution_count": 112,
     "metadata": {},
     "output_type": "execute_result"
    }
   ],
   "source": [
    "from sklearn.metrics import precision_score\n",
    "precision_score(y_test, y_pred, average='weighted')"
   ]
  },
  {
   "cell_type": "code",
   "execution_count": 113,
   "id": "e3417cf4",
   "metadata": {},
   "outputs": [
    {
     "data": {
      "text/plain": [
       "0.8219917012448132"
      ]
     },
     "execution_count": 113,
     "metadata": {},
     "output_type": "execute_result"
    }
   ],
   "source": [
    "from sklearn.metrics import recall_score\n",
    "recall_score(y_test, y_pred, average='weighted')"
   ]
  },
  {
   "cell_type": "code",
   "execution_count": 114,
   "id": "f2163592",
   "metadata": {},
   "outputs": [
    {
     "data": {
      "text/plain": [
       "0.8233676306514383"
      ]
     },
     "execution_count": 114,
     "metadata": {},
     "output_type": "execute_result"
    }
   ],
   "source": [
    "from sklearn.metrics import f1_score\n",
    "f1_score(y_test, y_pred, average='weighted')"
   ]
  },
  {
   "cell_type": "markdown",
   "id": "b32223c3",
   "metadata": {},
   "source": [
    "### Decision Tree Classifier "
   ]
  },
  {
   "cell_type": "code",
   "execution_count": 76,
   "id": "82ed270d",
   "metadata": {},
   "outputs": [
    {
     "name": "stdout",
     "output_type": "stream",
     "text": [
      "Accuracy on training set: 0.838\n",
      "Accuracy on testing set: 0.822\n"
     ]
    }
   ],
   "source": [
    "from sklearn.tree import DecisionTreeClassifier\n",
    "tree = DecisionTreeClassifier(criterion=\"entropy\",max_depth=9)\n",
    "#tree = DecisionTreeClassifier()\n",
    "tree.fit(X_train, y_train)\n",
    "\n",
    "print(\"Accuracy on training set: {:.3f}\".format(tree.score(X_train, y_train)))\n",
    "\n",
    "print(\"Accuracy on testing set: {:.3f}\".format(tree.score(X_test, y_test)))"
   ]
  },
  {
   "cell_type": "code",
   "execution_count": 68,
   "id": "0da05e0c",
   "metadata": {},
   "outputs": [],
   "source": [
    "def plot_feature_importances(model):\n",
    "    n_features = X_train.shape[1]\n",
    "    plt.barh(range(n_features), model.feature_importances_, align='center')\n",
    "    plt.yticks(np.arange(n_features), X_train.columns)\n",
    "    plt.xlabel(\"Feature importance\")\n",
    "    plt.ylabel(\"Feature\")"
   ]
  },
  {
   "cell_type": "code",
   "execution_count": 115,
   "id": "93d1ab90",
   "metadata": {},
   "outputs": [
    {
     "data": {
      "image/png": "[encoded data removed]",
      "text/plain": [
       "<Figure size 432x288 with 1 Axes>"
      ]
     },
     "metadata": {
      "needs_background": "light"
     },
     "output_type": "display_data"
    }
   ],
   "source": [
    "plot_feature_importances(tree)"
   ]
  },
  {
   "cell_type": "code",
   "execution_count": 116,
   "id": "d0c0f07d",
   "metadata": {},
   "outputs": [],
   "source": [
    "y_pred = tree.predict(X_test)"
   ]
  },
  {
   "cell_type": "code",
   "execution_count": 117,
   "id": "e28377aa",
   "metadata": {},
   "outputs": [
    {
     "data": {
      "image/png": "[encoded data removed]",
      "text/plain": [
       "<Figure size 432x288 with 2 Axes>"
      ]
     },
     "metadata": {
      "needs_background": "light"
     },
     "output_type": "display_data"
    }
   ],
   "source": [
    "from sklearn.metrics import confusion_matrix, ConfusionMatrixDisplay\n",
    "cm = confusion_matrix(y_test, y_pred, labels=knn.classes_)\n",
    "disp = ConfusionMatrixDisplay(confusion_matrix=cm, display_labels=knn.classes_)\n",
    "disp.plot()\n",
    "plt.show()"
   ]
  },
  {
   "cell_type": "code",
   "execution_count": 118,
   "id": "d2f4e796",
   "metadata": {},
   "outputs": [
    {
     "data": {
      "text/plain": [
       "0.8219339321329634"
      ]
     },
     "execution_count": 118,
     "metadata": {},
     "output_type": "execute_result"
    }
   ],
   "source": [
    "from sklearn.metrics import precision_score\n",
    "precision_score(y_test, y_pred, average='weighted')"
   ]
  },
  {
   "cell_type": "code",
   "execution_count": 119,
   "id": "96bc4b20",
   "metadata": {},
   "outputs": [
    {
     "data": {
      "text/plain": [
       "0.8219917012448132"
      ]
     },
     "execution_count": 119,
     "metadata": {},
     "output_type": "execute_result"
    }
   ],
   "source": [
    "from sklearn.metrics import recall_score\n",
    "recall_score(y_test, y_pred, average='weighted')"
   ]
  },
  {
   "cell_type": "code",
   "execution_count": 120,
   "id": "8510562b",
   "metadata": {},
   "outputs": [
    {
     "data": {
      "text/plain": [
       "0.8164038166509825"
      ]
     },
     "execution_count": 120,
     "metadata": {},
     "output_type": "execute_result"
    }
   ],
   "source": [
    "from sklearn.metrics import f1_score\n",
    "f1_score(y_test, y_pred, average='weighted')"
   ]
  },
  {
   "cell_type": "markdown",
   "id": "5a2acb7e",
   "metadata": {},
   "source": [
    "### Random Forest Classifier "
   ]
  },
  {
   "cell_type": "code",
   "execution_count": 77,
   "id": "937090e6",
   "metadata": {},
   "outputs": [
    {
     "name": "stdout",
     "output_type": "stream",
     "text": [
      "Accuracy on training set: 0.853\n",
      "Accuracy on test set: 0.839\n"
     ]
    }
   ],
   "source": [
    "from sklearn.ensemble import RandomForestClassifier\n",
    "\n",
    "forest = RandomForestClassifier(n_estimators=100, max_depth=7)\n",
    "\n",
    "forest.fit(X_train, y_train)\n",
    "\n",
    "print(\"Accuracy on training set: {:.3f}\".format(forest.score(X_train, y_train)))\n",
    "\n",
    "print(\"Accuracy on test set: {:.3f}\".format(forest.score(X_test, y_test)))"
   ]
  },
  {
   "cell_type": "code",
   "execution_count": 121,
   "id": "405c6ef9",
   "metadata": {},
   "outputs": [
    {
     "data": {
      "image/png": "[encoded data removed]",
      "text/plain": [
       "<Figure size 432x288 with 1 Axes>"
      ]
     },
     "metadata": {
      "needs_background": "light"
     },
     "output_type": "display_data"
    }
   ],
   "source": [
    "plot_feature_importances(forest)"
   ]
  },
  {
   "cell_type": "code",
   "execution_count": 122,
   "id": "70aac8fb",
   "metadata": {},
   "outputs": [],
   "source": [
    "y_pred = forest.predict(X_test)"
   ]
  },
  {
   "cell_type": "code",
   "execution_count": 123,
   "id": "e92cd3ea",
   "metadata": {},
   "outputs": [
    {
     "data": {
      "image/png": "[encoded data removed]",
      "text/plain": [
       "<Figure size 432x288 with 2 Axes>"
      ]
     },
     "metadata": {
      "needs_background": "light"
     },
     "output_type": "display_data"
    }
   ],
   "source": [
    "from sklearn.metrics import confusion_matrix, ConfusionMatrixDisplay\n",
    "cm = confusion_matrix(y_test, y_pred, labels=knn.classes_)\n",
    "disp = ConfusionMatrixDisplay(confusion_matrix=cm, display_labels=knn.classes_)\n",
    "disp.plot()\n",
    "plt.show()"
   ]
  },
  {
   "cell_type": "code",
   "execution_count": 124,
   "id": "cf999051",
   "metadata": {},
   "outputs": [
    {
     "data": {
      "text/plain": [
       "0.8495868178435225"
      ]
     },
     "execution_count": 124,
     "metadata": {},
     "output_type": "execute_result"
    }
   ],
   "source": [
    "from sklearn.metrics import precision_score\n",
    "precision_score(y_test, y_pred, average='weighted')"
   ]
  },
  {
   "cell_type": "code",
   "execution_count": 125,
   "id": "22bce23e",
   "metadata": {},
   "outputs": [
    {
     "data": {
      "text/plain": [
       "0.8390041493775934"
      ]
     },
     "execution_count": 125,
     "metadata": {},
     "output_type": "execute_result"
    }
   ],
   "source": [
    "from sklearn.metrics import recall_score\n",
    "recall_score(y_test, y_pred, average='weighted')"
   ]
  },
  {
   "cell_type": "code",
   "execution_count": 126,
   "id": "4cba7b4b",
   "metadata": {},
   "outputs": [
    {
     "data": {
      "text/plain": [
       "0.8306360215493687"
      ]
     },
     "execution_count": 126,
     "metadata": {},
     "output_type": "execute_result"
    }
   ],
   "source": [
    "from sklearn.metrics import f1_score\n",
    "f1_score(y_test, y_pred, average='weighted')"
   ]
  },
  {
   "cell_type": "markdown",
   "id": "94d25a58",
   "metadata": {},
   "source": [
    "### Gradient Boosting Classifier "
   ]
  },
  {
   "cell_type": "code",
   "execution_count": 81,
   "id": "39fa1422",
   "metadata": {},
   "outputs": [
    {
     "name": "stdout",
     "output_type": "stream",
     "text": [
      "Accuracy on training set: 0.918\n",
      "GBRT Accuracy on test set: 0.853\n"
     ]
    }
   ],
   "source": [
    "from sklearn.ensemble import GradientBoostingClassifier\n",
    "gbrt = GradientBoostingClassifier(learning_rate=0.1,max_depth=7)\n",
    "\n",
    "gbrt.fit(X_train, y_train)\n",
    "print(\"Accuracy on training set: {:.3f}\".format(gbrt.score(X_train, y_train)))\n",
    "\n",
    "print(\"GBRT Accuracy on test set: {:.3f}\".format(gbrt.score(X_test, y_test)))"
   ]
  },
  {
   "cell_type": "code",
   "execution_count": 127,
   "id": "9f394f6b",
   "metadata": {},
   "outputs": [
    {
     "data": {
      "image/png": "[encoded data removed]",
      "text/plain": [
       "<Figure size 432x288 with 1 Axes>"
      ]
     },
     "metadata": {
      "needs_background": "light"
     },
     "output_type": "display_data"
    }
   ],
   "source": [
    "plot_feature_importances(gbrt)"
   ]
  },
  {
   "cell_type": "code",
   "execution_count": 128,
   "id": "c0254f3e",
   "metadata": {},
   "outputs": [],
   "source": [
    "y_pred = gbrt.predict(X_test)"
   ]
  },
  {
   "cell_type": "code",
   "execution_count": 129,
   "id": "43476dfb",
   "metadata": {},
   "outputs": [
    {
     "data": {
      "image/png": "[encoded data removed]",
      "text/plain": [
       "<Figure size 432x288 with 2 Axes>"
      ]
     },
     "metadata": {
      "needs_background": "light"
     },
     "output_type": "display_data"
    }
   ],
   "source": [
    "from sklearn.metrics import confusion_matrix, ConfusionMatrixDisplay\n",
    "cm = confusion_matrix(y_test, y_pred, labels=knn.classes_)\n",
    "disp = ConfusionMatrixDisplay(confusion_matrix=cm, display_labels=knn.classes_)\n",
    "disp.plot()\n",
    "plt.show()"
   ]
  },
  {
   "cell_type": "code",
   "execution_count": 130,
   "id": "8d8b5126",
   "metadata": {},
   "outputs": [
    {
     "data": {
      "text/plain": [
       "0.8523611332908214"
      ]
     },
     "execution_count": 130,
     "metadata": {},
     "output_type": "execute_result"
    }
   ],
   "source": [
    "from sklearn.metrics import precision_score\n",
    "precision_score(y_test, y_pred, average='weighted')"
   ]
  },
  {
   "cell_type": "code",
   "execution_count": 131,
   "id": "2ab2907a",
   "metadata": {},
   "outputs": [
    {
     "data": {
      "text/plain": [
       "0.8526970954356846"
      ]
     },
     "execution_count": 131,
     "metadata": {},
     "output_type": "execute_result"
    }
   ],
   "source": [
    "from sklearn.metrics import recall_score\n",
    "recall_score(y_test, y_pred, average='weighted')"
   ]
  },
  {
   "cell_type": "code",
   "execution_count": 132,
   "id": "a89586f7",
   "metadata": {},
   "outputs": [
    {
     "data": {
      "text/plain": [
       "0.8494401591373182"
      ]
     },
     "execution_count": 132,
     "metadata": {},
     "output_type": "execute_result"
    }
   ],
   "source": [
    "from sklearn.metrics import f1_score\n",
    "f1_score(y_test, y_pred, average='weighted')"
   ]
  },
  {
   "cell_type": "markdown",
   "id": "9957c903",
   "metadata": {},
   "source": [
    "### XG Boost Classifier"
   ]
  },
  {
   "cell_type": "code",
   "execution_count": 79,
   "id": "59c3dc9e",
   "metadata": {},
   "outputs": [
    {
     "name": "stdout",
     "output_type": "stream",
     "text": [
      "Accuracy on training set: 0.881\n",
      "Accuracy on test set: 0.854\n"
     ]
    }
   ],
   "source": [
    "import xgboost as xgb\n",
    "xgclf= xgb.XGBClassifier(learning_rate=0.1)\n",
    "xgclf.fit(X_train, y_train)\n",
    "\n",
    "print(\"Accuracy on training set: {:.3f}\".format(xgclf.score(X_train, y_train)))\n",
    "\n",
    "print(\"Accuracy on test set: {:.3f}\".format(xgclf.score(X_test, y_test)))"
   ]
  },
  {
   "cell_type": "code",
   "execution_count": 133,
   "id": "4fc716f1",
   "metadata": {},
   "outputs": [
    {
     "data": {
      "image/png": "[encoded data removed]",
      "text/plain": [
       "<Figure size 432x288 with 1 Axes>"
      ]
     },
     "metadata": {
      "needs_background": "light"
     },
     "output_type": "display_data"
    }
   ],
   "source": [
    "plot_feature_importances(xgclf)"
   ]
  },
  {
   "cell_type": "code",
   "execution_count": 134,
   "id": "508fe1b5",
   "metadata": {},
   "outputs": [],
   "source": [
    "y_pred = xgclf.predict(X_test)"
   ]
  },
  {
   "cell_type": "code",
   "execution_count": 135,
   "id": "d8e947b1",
   "metadata": {},
   "outputs": [
    {
     "data": {
      "image/png": "[encoded data removed]",
      "text/plain": [
       "<Figure size 432x288 with 2 Axes>"
      ]
     },
     "metadata": {
      "needs_background": "light"
     },
     "output_type": "display_data"
    }
   ],
   "source": [
    "from sklearn.metrics import confusion_matrix, ConfusionMatrixDisplay\n",
    "cm = confusion_matrix(y_test, y_pred, labels=knn.classes_)\n",
    "disp = ConfusionMatrixDisplay(confusion_matrix=cm, display_labels=knn.classes_)\n",
    "disp.plot()\n",
    "plt.show()"
   ]
  },
  {
   "cell_type": "code",
   "execution_count": 136,
   "id": "cf22c845",
   "metadata": {},
   "outputs": [
    {
     "data": {
      "text/plain": [
       "0.8572327693289528"
      ]
     },
     "execution_count": 136,
     "metadata": {},
     "output_type": "execute_result"
    }
   ],
   "source": [
    "from sklearn.metrics import precision_score\n",
    "precision_score(y_test, y_pred, average='weighted')"
   ]
  },
  {
   "cell_type": "code",
   "execution_count": 137,
   "id": "f1676eaa",
   "metadata": {},
   "outputs": [
    {
     "data": {
      "text/plain": [
       "0.8535269709543568"
      ]
     },
     "execution_count": 137,
     "metadata": {},
     "output_type": "execute_result"
    }
   ],
   "source": [
    "from sklearn.metrics import recall_score\n",
    "recall_score(y_test, y_pred, average='weighted')"
   ]
  },
  {
   "cell_type": "code",
   "execution_count": 138,
   "id": "59f8cd39",
   "metadata": {},
   "outputs": [
    {
     "data": {
      "text/plain": [
       "0.8486306833762173"
      ]
     },
     "execution_count": 138,
     "metadata": {},
     "output_type": "execute_result"
    }
   ],
   "source": [
    "from sklearn.metrics import f1_score\n",
    "f1_score(y_test, y_pred, average='weighted')"
   ]
  },
  {
   "cell_type": "markdown",
   "id": "395d19df",
   "metadata": {},
   "source": [
    "### Exporting Results "
   ]
  },
  {
   "cell_type": "code",
   "execution_count": 149,
   "id": "81f00de8",
   "metadata": {},
   "outputs": [],
   "source": [
    "dataToPredict = data"
   ]
  },
  {
   "cell_type": "code",
   "execution_count": 150,
   "id": "b9f113dd",
   "metadata": {},
   "outputs": [
    {
     "data": {
      "text/html": [
       "<div>\n",
       "<style scoped>\n",
       "    .dataframe tbody tr th:only-of-type {\n",
       "        vertical-align: middle;\n",
       "    }\n",
       "\n",
       "    .dataframe tbody tr th {\n",
       "        vertical-align: top;\n",
       "    }\n",
       "\n",
       "    .dataframe thead th {\n",
       "        text-align: right;\n",
       "    }\n",
       "</style>\n",
       "<table border=\"1\" class=\"dataframe\">\n",
       "  <thead>\n",
       "    <tr style=\"text-align: right;\">\n",
       "      <th></th>\n",
       "      <th>msno</th>\n",
       "      <th>Monetary</th>\n",
       "      <th>Recency</th>\n",
       "      <th>Frequency</th>\n",
       "      <th>is_auto_renew</th>\n",
       "      <th>OverallScore</th>\n",
       "      <th>LTV_Segment</th>\n",
       "    </tr>\n",
       "  </thead>\n",
       "  <tbody>\n",
       "    <tr>\n",
       "      <th>0</th>\n",
       "      <td>99</td>\n",
       "      <td>1788</td>\n",
       "      <td>43</td>\n",
       "      <td>410</td>\n",
       "      <td>0</td>\n",
       "      <td>6</td>\n",
       "      <td>0</td>\n",
       "    </tr>\n",
       "    <tr>\n",
       "      <th>1</th>\n",
       "      <td>456722</td>\n",
       "      <td>1341</td>\n",
       "      <td>56</td>\n",
       "      <td>315</td>\n",
       "      <td>0</td>\n",
       "      <td>6</td>\n",
       "      <td>0</td>\n",
       "    </tr>\n",
       "    <tr>\n",
       "      <th>2</th>\n",
       "      <td>29895</td>\n",
       "      <td>1788</td>\n",
       "      <td>371</td>\n",
       "      <td>410</td>\n",
       "      <td>0</td>\n",
       "      <td>4</td>\n",
       "      <td>0</td>\n",
       "    </tr>\n",
       "    <tr>\n",
       "      <th>3</th>\n",
       "      <td>37078</td>\n",
       "      <td>1788</td>\n",
       "      <td>406</td>\n",
       "      <td>410</td>\n",
       "      <td>0</td>\n",
       "      <td>4</td>\n",
       "      <td>0</td>\n",
       "    </tr>\n",
       "    <tr>\n",
       "      <th>4</th>\n",
       "      <td>76194</td>\n",
       "      <td>1599</td>\n",
       "      <td>393</td>\n",
       "      <td>395</td>\n",
       "      <td>0</td>\n",
       "      <td>4</td>\n",
       "      <td>0</td>\n",
       "    </tr>\n",
       "  </tbody>\n",
       "</table>\n",
       "</div>"
      ],
      "text/plain": [
       "     msno  Monetary  Recency  Frequency  is_auto_renew  OverallScore  \\\n",
       "0      99      1788       43        410              0             6   \n",
       "1  456722      1341       56        315              0             6   \n",
       "2   29895      1788      371        410              0             4   \n",
       "3   37078      1788      406        410              0             4   \n",
       "4   76194      1599      393        395              0             4   \n",
       "\n",
       "   LTV_Segment  \n",
       "0            0  \n",
       "1            0  \n",
       "2            0  \n",
       "3            0  \n",
       "4            0  "
      ]
     },
     "execution_count": 150,
     "metadata": {},
     "output_type": "execute_result"
    }
   ],
   "source": [
    "dataToPredict.head()"
   ]
  },
  {
   "cell_type": "code",
   "execution_count": 151,
   "id": "1e0a6a76",
   "metadata": {},
   "outputs": [
    {
     "data": {
      "text/plain": [
       "2    7634\n",
       "1    3836\n",
       "0     577\n",
       "Name: LTV_Segment, dtype: int64"
      ]
     },
     "execution_count": 151,
     "metadata": {},
     "output_type": "execute_result"
    }
   ],
   "source": [
    "dataToPredict['LTV_Segment'].value_counts()"
   ]
  },
  {
   "cell_type": "code",
   "execution_count": 152,
   "id": "8fb53e9a",
   "metadata": {},
   "outputs": [],
   "source": [
    "result = pd.DataFrame()"
   ]
  },
  {
   "cell_type": "code",
   "execution_count": 153,
   "id": "6963eb00",
   "metadata": {},
   "outputs": [],
   "source": [
    "result['msno']=dataToPredict['msno']"
   ]
  },
  {
   "cell_type": "code",
   "execution_count": 154,
   "id": "18ae49f1",
   "metadata": {},
   "outputs": [],
   "source": [
    "dataToPredict = dataToPredict.drop(['msno','LTV_Segment','is_auto_renew'],axis=1)"
   ]
  },
  {
   "cell_type": "code",
   "execution_count": 155,
   "id": "6d3d67a8",
   "metadata": {},
   "outputs": [],
   "source": [
    "result['LTV'] = gbrt.predict(dataToPredict)"
   ]
  },
  {
   "cell_type": "code",
   "execution_count": 167,
   "id": "5aebf938",
   "metadata": {},
   "outputs": [],
   "source": [
    "prediction_of_probability = gbrt.predict_proba(dataToPredict)"
   ]
  },
  {
   "cell_type": "code",
   "execution_count": 168,
   "id": "2a367d4f",
   "metadata": {},
   "outputs": [],
   "source": [
    "result['Probability of Low LTV'] = prediction_of_probability[:,2]"
   ]
  },
  {
   "cell_type": "code",
   "execution_count": 169,
   "id": "04d06a27",
   "metadata": {},
   "outputs": [],
   "source": [
    "result['Probability of Mid LTV'] = prediction_of_probability[:,1]"
   ]
  },
  {
   "cell_type": "code",
   "execution_count": 170,
   "id": "bcc9f7de",
   "metadata": {},
   "outputs": [],
   "source": [
    "result['Probability of High LTV'] = prediction_of_probability[:,0]"
   ]
  },
  {
   "cell_type": "code",
   "execution_count": 171,
   "id": "ab66f8e8",
   "metadata": {},
   "outputs": [
    {
     "data": {
      "text/html": [
       "<div>\n",
       "<style scoped>\n",
       "    .dataframe tbody tr th:only-of-type {\n",
       "        vertical-align: middle;\n",
       "    }\n",
       "\n",
       "    .dataframe tbody tr th {\n",
       "        vertical-align: top;\n",
       "    }\n",
       "\n",
       "    .dataframe thead th {\n",
       "        text-align: right;\n",
       "    }\n",
       "</style>\n",
       "<table border=\"1\" class=\"dataframe\">\n",
       "  <thead>\n",
       "    <tr style=\"text-align: right;\">\n",
       "      <th></th>\n",
       "      <th>msno</th>\n",
       "      <th>LTV</th>\n",
       "      <th>Probability of Low LTV</th>\n",
       "      <th>Probability of Mid LTV</th>\n",
       "      <th>Probability of High LTV</th>\n",
       "    </tr>\n",
       "  </thead>\n",
       "  <tbody>\n",
       "    <tr>\n",
       "      <th>0</th>\n",
       "      <td>99</td>\n",
       "      <td>0</td>\n",
       "      <td>0.200486</td>\n",
       "      <td>0.045879</td>\n",
       "      <td>0.753635</td>\n",
       "    </tr>\n",
       "    <tr>\n",
       "      <th>1</th>\n",
       "      <td>456722</td>\n",
       "      <td>2</td>\n",
       "      <td>0.712776</td>\n",
       "      <td>0.284312</td>\n",
       "      <td>0.002912</td>\n",
       "    </tr>\n",
       "    <tr>\n",
       "      <th>2</th>\n",
       "      <td>29895</td>\n",
       "      <td>0</td>\n",
       "      <td>0.038594</td>\n",
       "      <td>0.015262</td>\n",
       "      <td>0.946145</td>\n",
       "    </tr>\n",
       "    <tr>\n",
       "      <th>3</th>\n",
       "      <td>37078</td>\n",
       "      <td>0</td>\n",
       "      <td>0.059551</td>\n",
       "      <td>0.036859</td>\n",
       "      <td>0.903590</td>\n",
       "    </tr>\n",
       "    <tr>\n",
       "      <th>4</th>\n",
       "      <td>76194</td>\n",
       "      <td>0</td>\n",
       "      <td>0.025544</td>\n",
       "      <td>0.015269</td>\n",
       "      <td>0.959187</td>\n",
       "    </tr>\n",
       "  </tbody>\n",
       "</table>\n",
       "</div>"
      ],
      "text/plain": [
       "     msno  LTV  Probability of Low LTV  Probability of Mid LTV  \\\n",
       "0      99    0                0.200486                0.045879   \n",
       "1  456722    2                0.712776                0.284312   \n",
       "2   29895    0                0.038594                0.015262   \n",
       "3   37078    0                0.059551                0.036859   \n",
       "4   76194    0                0.025544                0.015269   \n",
       "\n",
       "   Probability of High LTV  \n",
       "0                 0.753635  \n",
       "1                 0.002912  \n",
       "2                 0.946145  \n",
       "3                 0.903590  \n",
       "4                 0.959187  "
      ]
     },
     "execution_count": 171,
     "metadata": {},
     "output_type": "execute_result"
    }
   ],
   "source": [
    "result.head()"
   ]
  },
  {
   "cell_type": "code",
   "execution_count": 172,
   "id": "b602c3b2",
   "metadata": {},
   "outputs": [
    {
     "data": {
      "text/plain": [
       "(12047, 5)"
      ]
     },
     "execution_count": 172,
     "metadata": {},
     "output_type": "execute_result"
    }
   ],
   "source": [
    "result.shape"
   ]
  },
  {
   "cell_type": "code",
   "execution_count": 173,
   "id": "83593f7d",
   "metadata": {},
   "outputs": [],
   "source": [
    "churn_result = pd.read_csv('ResultDataset/churn_results.csv')"
   ]
  },
  {
   "cell_type": "code",
   "execution_count": 174,
   "id": "d99e6b6f",
   "metadata": {},
   "outputs": [
    {
     "data": {
      "text/plain": [
       "(36403, 4)"
      ]
     },
     "execution_count": 174,
     "metadata": {},
     "output_type": "execute_result"
    }
   ],
   "source": [
    "churn_result.shape"
   ]
  },
  {
   "cell_type": "code",
   "execution_count": 175,
   "id": "cc8506ee",
   "metadata": {},
   "outputs": [],
   "source": [
    "result_churn_ltv = pd.merge(churn_result, result, on='msno', how='inner')"
   ]
  },
  {
   "cell_type": "code",
   "execution_count": 176,
   "id": "e8263c2e",
   "metadata": {},
   "outputs": [
    {
     "data": {
      "text/plain": [
       "(495, 8)"
      ]
     },
     "execution_count": 176,
     "metadata": {},
     "output_type": "execute_result"
    }
   ],
   "source": [
    "result_churn_ltv.shape"
   ]
  },
  {
   "cell_type": "code",
   "execution_count": 177,
   "id": "63ad3998",
   "metadata": {},
   "outputs": [],
   "source": [
    "result_churn_ltv.to_csv('ResultDataset/result_churn_ltv.csv',index=False)"
   ]
  }
 ],
 "metadata": {
  "kernelspec": {
   "display_name": "Python 3 (ipykernel)",
   "language": "python",
   "name": "python3"
  },
  "language_info": {
   "codemirror_mode": {
    "name": "ipython",
    "version": 3
   },
   "file_extension": ".py",
   "mimetype": "text/x-python",
   "name": "python",
   "nbconvert_exporter": "python",
   "pygments_lexer": "ipython3",
   "version": "3.9.7"
  }
 },
 "nbformat": 4,
 "nbformat_minor": 5
}
