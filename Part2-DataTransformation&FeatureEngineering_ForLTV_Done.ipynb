{
 "cells": [
  {
   "cell_type": "markdown",
   "id": "b791c0dd",
   "metadata": {},
   "source": [
    "## Import Data and Libraries "
   ]
  },
  {
   "cell_type": "code",
   "execution_count": 1,
   "id": "e2ea9535",
   "metadata": {},
   "outputs": [],
   "source": [
    "import pandas as pd\n",
    "import numpy as np"
   ]
  },
  {
   "cell_type": "code",
   "execution_count": 2,
   "id": "965e8ec9",
   "metadata": {},
   "outputs": [],
   "source": [
    "transactions = pd.read_csv('Dataset/transactions_v2.csv')"
   ]
  },
  {
   "cell_type": "code",
   "execution_count": 3,
   "id": "d0a2e82c",
   "metadata": {},
   "outputs": [
    {
     "data": {
      "text/plain": [
       "(1431009, 9)"
      ]
     },
     "execution_count": 3,
     "metadata": {},
     "output_type": "execute_result"
    }
   ],
   "source": [
    "transactions.shape"
   ]
  },
  {
   "cell_type": "code",
   "execution_count": 4,
   "id": "2c8ca0d4",
   "metadata": {},
   "outputs": [
    {
     "data": {
      "text/plain": [
       "(1197050,)"
      ]
     },
     "execution_count": 4,
     "metadata": {},
     "output_type": "execute_result"
    }
   ],
   "source": [
    "transactions['msno'].unique().shape"
   ]
  },
  {
   "cell_type": "code",
   "execution_count": 5,
   "id": "8d4c4332",
   "metadata": {},
   "outputs": [],
   "source": [
    "train = pd.read_csv('Dataset/train_v2.csv')"
   ]
  },
  {
   "cell_type": "code",
   "execution_count": 6,
   "id": "ff38e45d",
   "metadata": {},
   "outputs": [
    {
     "data": {
      "text/plain": [
       "(970960, 2)"
      ]
     },
     "execution_count": 6,
     "metadata": {},
     "output_type": "execute_result"
    }
   ],
   "source": [
    "train.shape"
   ]
  },
  {
   "cell_type": "code",
   "execution_count": 7,
   "id": "9a12aaa2",
   "metadata": {},
   "outputs": [],
   "source": [
    "from sklearn.preprocessing import LabelEncoder #encoder package of sklearn\n",
    "le = LabelEncoder() #le variable has been assigned a labelencoder function\n",
    "\n",
    "transactions['msno'] = le.fit_transform(transactions['msno'].astype(str))\n",
    "train['msno'] = le.fit_transform(train['msno'].astype(str))"
   ]
  },
  {
   "cell_type": "code",
   "execution_count": 8,
   "id": "adbb3a5e",
   "metadata": {},
   "outputs": [],
   "source": [
    "trial_join = pd.merge(train, transactions, on='msno', how='inner')"
   ]
  },
  {
   "cell_type": "code",
   "execution_count": 9,
   "id": "f052ac30",
   "metadata": {},
   "outputs": [
    {
     "data": {
      "text/plain": [
       "(1161173, 10)"
      ]
     },
     "execution_count": 9,
     "metadata": {},
     "output_type": "execute_result"
    }
   ],
   "source": [
    "trial_join.shape"
   ]
  },
  {
   "cell_type": "code",
   "execution_count": 10,
   "id": "e1b63694",
   "metadata": {},
   "outputs": [],
   "source": [
    "df = trial_join"
   ]
  },
  {
   "cell_type": "code",
   "execution_count": 11,
   "id": "17fcdcad",
   "metadata": {},
   "outputs": [],
   "source": [
    "from datetime import datetime, date"
   ]
  },
  {
   "cell_type": "code",
   "execution_count": 12,
   "id": "56b77407",
   "metadata": {},
   "outputs": [],
   "source": [
    "df['transaction_date'] = df['transaction_date'].astype(str)      "
   ]
  },
  {
   "cell_type": "code",
   "execution_count": 13,
   "id": "14e2a8d8",
   "metadata": {},
   "outputs": [],
   "source": [
    "df['day'] = df['transaction_date'].str.slice(6,8,1)\n",
    "df['month'] = df['transaction_date'].str.slice(4,6,1)\n",
    "df['year'] = df['transaction_date'].str.slice(0,4,1)\n",
    "df['trans_date'] = pd.to_datetime(df[['day', 'month', 'year']])"
   ]
  },
  {
   "cell_type": "code",
   "execution_count": 14,
   "id": "9ff4056f",
   "metadata": {},
   "outputs": [],
   "source": [
    "df=df.drop(['day','year','month'],axis=1)"
   ]
  },
  {
   "cell_type": "markdown",
   "id": "d74b2c3e",
   "metadata": {},
   "source": [
    "## Creating New Dataframes for LTV "
   ]
  },
  {
   "cell_type": "code",
   "execution_count": 15,
   "id": "6cc480a2",
   "metadata": {},
   "outputs": [],
   "source": [
    "import datetime as dft\n",
    "df_ltv = df[(df.trans_date >= dft.datetime(2017,3,1)) & (df.trans_date < dft.datetime(2017,3,31))].reset_index(drop=True)"
   ]
  },
  {
   "cell_type": "code",
   "execution_count": 16,
   "id": "5d5c4643",
   "metadata": {},
   "outputs": [
    {
     "data": {
      "text/plain": [
       "(711530, 11)"
      ]
     },
     "execution_count": 16,
     "metadata": {},
     "output_type": "execute_result"
    }
   ],
   "source": [
    "df_ltv.shape"
   ]
  },
  {
   "cell_type": "code",
   "execution_count": 17,
   "id": "8e15c66c",
   "metadata": {},
   "outputs": [
    {
     "data": {
      "text/plain": [
       "(682449,)"
      ]
     },
     "execution_count": 17,
     "metadata": {},
     "output_type": "execute_result"
    }
   ],
   "source": [
    "df_ltv['msno'].value_counts().shape"
   ]
  },
  {
   "cell_type": "code",
   "execution_count": 22,
   "id": "0979a7bf",
   "metadata": {},
   "outputs": [
    {
     "data": {
      "text/html": [
       "<div>\n",
       "<style scoped>\n",
       "    .dataframe tbody tr th:only-of-type {\n",
       "        vertical-align: middle;\n",
       "    }\n",
       "\n",
       "    .dataframe tbody tr th {\n",
       "        vertical-align: top;\n",
       "    }\n",
       "\n",
       "    .dataframe thead th {\n",
       "        text-align: right;\n",
       "    }\n",
       "</style>\n",
       "<table border=\"1\" class=\"dataframe\">\n",
       "  <thead>\n",
       "    <tr style=\"text-align: right;\">\n",
       "      <th></th>\n",
       "      <th>msno</th>\n",
       "      <th>is_churn</th>\n",
       "      <th>payment_method_id</th>\n",
       "      <th>payment_plan_days</th>\n",
       "      <th>plan_list_price</th>\n",
       "      <th>actual_amount_paid</th>\n",
       "      <th>is_auto_renew</th>\n",
       "      <th>transaction_date</th>\n",
       "      <th>membership_expire_date</th>\n",
       "      <th>is_cancel</th>\n",
       "      <th>trans_date</th>\n",
       "    </tr>\n",
       "  </thead>\n",
       "  <tbody>\n",
       "    <tr>\n",
       "      <th>0</th>\n",
       "      <td>961455</td>\n",
       "      <td>1</td>\n",
       "      <td>41</td>\n",
       "      <td>30</td>\n",
       "      <td>100</td>\n",
       "      <td>100</td>\n",
       "      <td>1</td>\n",
       "      <td>20170311</td>\n",
       "      <td>20170411</td>\n",
       "      <td>0</td>\n",
       "      <td>2017-03-11</td>\n",
       "    </tr>\n",
       "    <tr>\n",
       "      <th>1</th>\n",
       "      <td>162509</td>\n",
       "      <td>1</td>\n",
       "      <td>37</td>\n",
       "      <td>30</td>\n",
       "      <td>149</td>\n",
       "      <td>149</td>\n",
       "      <td>1</td>\n",
       "      <td>20170303</td>\n",
       "      <td>20170405</td>\n",
       "      <td>0</td>\n",
       "      <td>2017-03-03</td>\n",
       "    </tr>\n",
       "    <tr>\n",
       "      <th>2</th>\n",
       "      <td>335494</td>\n",
       "      <td>1</td>\n",
       "      <td>38</td>\n",
       "      <td>30</td>\n",
       "      <td>149</td>\n",
       "      <td>149</td>\n",
       "      <td>0</td>\n",
       "      <td>20170303</td>\n",
       "      <td>20170402</td>\n",
       "      <td>0</td>\n",
       "      <td>2017-03-03</td>\n",
       "    </tr>\n",
       "    <tr>\n",
       "      <th>3</th>\n",
       "      <td>736830</td>\n",
       "      <td>1</td>\n",
       "      <td>38</td>\n",
       "      <td>30</td>\n",
       "      <td>149</td>\n",
       "      <td>149</td>\n",
       "      <td>0</td>\n",
       "      <td>20170305</td>\n",
       "      <td>20170404</td>\n",
       "      <td>0</td>\n",
       "      <td>2017-03-05</td>\n",
       "    </tr>\n",
       "    <tr>\n",
       "      <th>4</th>\n",
       "      <td>771492</td>\n",
       "      <td>1</td>\n",
       "      <td>37</td>\n",
       "      <td>30</td>\n",
       "      <td>149</td>\n",
       "      <td>149</td>\n",
       "      <td>1</td>\n",
       "      <td>20170302</td>\n",
       "      <td>20170402</td>\n",
       "      <td>0</td>\n",
       "      <td>2017-03-02</td>\n",
       "    </tr>\n",
       "  </tbody>\n",
       "</table>\n",
       "</div>"
      ],
      "text/plain": [
       "     msno  is_churn  payment_method_id  payment_plan_days  plan_list_price  \\\n",
       "0  961455         1                 41                 30              100   \n",
       "1  162509         1                 37                 30              149   \n",
       "2  335494         1                 38                 30              149   \n",
       "3  736830         1                 38                 30              149   \n",
       "4  771492         1                 37                 30              149   \n",
       "\n",
       "   actual_amount_paid  is_auto_renew transaction_date  membership_expire_date  \\\n",
       "0                 100              1         20170311                20170411   \n",
       "1                 149              1         20170303                20170405   \n",
       "2                 149              0         20170303                20170402   \n",
       "3                 149              0         20170305                20170404   \n",
       "4                 149              1         20170302                20170402   \n",
       "\n",
       "   is_cancel trans_date  \n",
       "0          0 2017-03-11  \n",
       "1          0 2017-03-03  \n",
       "2          0 2017-03-03  \n",
       "3          0 2017-03-05  \n",
       "4          0 2017-03-02  "
      ]
     },
     "execution_count": 22,
     "metadata": {},
     "output_type": "execute_result"
    }
   ],
   "source": [
    "df_ltv.head()"
   ]
  },
  {
   "cell_type": "code",
   "execution_count": 35,
   "id": "3e7566a9",
   "metadata": {},
   "outputs": [],
   "source": [
    "df_train_ltv = df[(df.trans_date < dft.datetime(2017,2,28))].reset_index(drop=True)"
   ]
  },
  {
   "cell_type": "code",
   "execution_count": 36,
   "id": "1a750164",
   "metadata": {},
   "outputs": [
    {
     "data": {
      "text/plain": [
       "(227493, 11)"
      ]
     },
     "execution_count": 36,
     "metadata": {},
     "output_type": "execute_result"
    }
   ],
   "source": [
    "df_train_ltv.shape"
   ]
  },
  {
   "cell_type": "code",
   "execution_count": 37,
   "id": "5b2b84cf",
   "metadata": {},
   "outputs": [
    {
     "data": {
      "text/plain": [
       "(149120,)"
      ]
     },
     "execution_count": 37,
     "metadata": {},
     "output_type": "execute_result"
    }
   ],
   "source": [
    "df_train_ltv['msno'].value_counts().shape"
   ]
  },
  {
   "cell_type": "code",
   "execution_count": 38,
   "id": "65053381",
   "metadata": {},
   "outputs": [
    {
     "data": {
      "text/html": [
       "<div>\n",
       "<style scoped>\n",
       "    .dataframe tbody tr th:only-of-type {\n",
       "        vertical-align: middle;\n",
       "    }\n",
       "\n",
       "    .dataframe tbody tr th {\n",
       "        vertical-align: top;\n",
       "    }\n",
       "\n",
       "    .dataframe thead th {\n",
       "        text-align: right;\n",
       "    }\n",
       "</style>\n",
       "<table border=\"1\" class=\"dataframe\">\n",
       "  <thead>\n",
       "    <tr style=\"text-align: right;\">\n",
       "      <th></th>\n",
       "      <th>msno</th>\n",
       "      <th>is_churn</th>\n",
       "      <th>payment_method_id</th>\n",
       "      <th>payment_plan_days</th>\n",
       "      <th>plan_list_price</th>\n",
       "      <th>actual_amount_paid</th>\n",
       "      <th>is_auto_renew</th>\n",
       "      <th>transaction_date</th>\n",
       "      <th>membership_expire_date</th>\n",
       "      <th>is_cancel</th>\n",
       "      <th>trans_date</th>\n",
       "    </tr>\n",
       "  </thead>\n",
       "  <tbody>\n",
       "    <tr>\n",
       "      <th>0</th>\n",
       "      <td>891096</td>\n",
       "      <td>1</td>\n",
       "      <td>22</td>\n",
       "      <td>410</td>\n",
       "      <td>1788</td>\n",
       "      <td>1788</td>\n",
       "      <td>0</td>\n",
       "      <td>20160804</td>\n",
       "      <td>20170918</td>\n",
       "      <td>0</td>\n",
       "      <td>2016-08-04</td>\n",
       "    </tr>\n",
       "    <tr>\n",
       "      <th>1</th>\n",
       "      <td>652319</td>\n",
       "      <td>1</td>\n",
       "      <td>32</td>\n",
       "      <td>410</td>\n",
       "      <td>1788</td>\n",
       "      <td>1788</td>\n",
       "      <td>0</td>\n",
       "      <td>20160421</td>\n",
       "      <td>20170608</td>\n",
       "      <td>0</td>\n",
       "      <td>2016-04-21</td>\n",
       "    </tr>\n",
       "    <tr>\n",
       "      <th>2</th>\n",
       "      <td>867188</td>\n",
       "      <td>1</td>\n",
       "      <td>41</td>\n",
       "      <td>30</td>\n",
       "      <td>99</td>\n",
       "      <td>99</td>\n",
       "      <td>1</td>\n",
       "      <td>20170207</td>\n",
       "      <td>20170702</td>\n",
       "      <td>0</td>\n",
       "      <td>2017-02-07</td>\n",
       "    </tr>\n",
       "    <tr>\n",
       "      <th>3</th>\n",
       "      <td>867188</td>\n",
       "      <td>1</td>\n",
       "      <td>41</td>\n",
       "      <td>30</td>\n",
       "      <td>99</td>\n",
       "      <td>99</td>\n",
       "      <td>1</td>\n",
       "      <td>20161107</td>\n",
       "      <td>20170403</td>\n",
       "      <td>0</td>\n",
       "      <td>2016-11-07</td>\n",
       "    </tr>\n",
       "    <tr>\n",
       "      <th>4</th>\n",
       "      <td>867188</td>\n",
       "      <td>1</td>\n",
       "      <td>41</td>\n",
       "      <td>30</td>\n",
       "      <td>99</td>\n",
       "      <td>99</td>\n",
       "      <td>1</td>\n",
       "      <td>20170107</td>\n",
       "      <td>20170604</td>\n",
       "      <td>0</td>\n",
       "      <td>2017-01-07</td>\n",
       "    </tr>\n",
       "  </tbody>\n",
       "</table>\n",
       "</div>"
      ],
      "text/plain": [
       "     msno  is_churn  payment_method_id  payment_plan_days  plan_list_price  \\\n",
       "0  891096         1                 22                410             1788   \n",
       "1  652319         1                 32                410             1788   \n",
       "2  867188         1                 41                 30               99   \n",
       "3  867188         1                 41                 30               99   \n",
       "4  867188         1                 41                 30               99   \n",
       "\n",
       "   actual_amount_paid  is_auto_renew transaction_date  membership_expire_date  \\\n",
       "0                1788              0         20160804                20170918   \n",
       "1                1788              0         20160421                20170608   \n",
       "2                  99              1         20170207                20170702   \n",
       "3                  99              1         20161107                20170403   \n",
       "4                  99              1         20170107                20170604   \n",
       "\n",
       "   is_cancel trans_date  \n",
       "0          0 2016-08-04  \n",
       "1          0 2016-04-21  \n",
       "2          0 2017-02-07  \n",
       "3          0 2016-11-07  \n",
       "4          0 2017-01-07  "
      ]
     },
     "execution_count": 38,
     "metadata": {},
     "output_type": "execute_result"
    }
   ],
   "source": [
    "df_train_ltv.head()"
   ]
  },
  {
   "cell_type": "code",
   "execution_count": 40,
   "id": "33e6ac93",
   "metadata": {},
   "outputs": [],
   "source": [
    "df_ltv_train_just_revenue = df_train_ltv.groupby(\"msno\")[\"actual_amount_paid\"].sum()"
   ]
  },
  {
   "cell_type": "code",
   "execution_count": 41,
   "id": "0b83f2e9",
   "metadata": {},
   "outputs": [],
   "source": [
    "df_ltv_train_just_count_subs = df_train_ltv.groupby(\"msno\")[\"payment_plan_days\"].sum()"
   ]
  },
  {
   "cell_type": "code",
   "execution_count": 42,
   "id": "9886943c",
   "metadata": {},
   "outputs": [],
   "source": [
    "import datetime as dft\n",
    "a = dft.datetime(2017,4,1)"
   ]
  },
  {
   "cell_type": "code",
   "execution_count": 43,
   "id": "3774026f",
   "metadata": {},
   "outputs": [],
   "source": [
    "df_train_ltv['Days_Diff'] = ( a - df_train_ltv['trans_date']).dt.days"
   ]
  },
  {
   "cell_type": "code",
   "execution_count": 44,
   "id": "8ef1c58e",
   "metadata": {},
   "outputs": [],
   "source": [
    "df_ltv_train_just_recency = df_train_ltv.groupby(\"msno\")[\"Days_Diff\"].min()"
   ]
  },
  {
   "cell_type": "code",
   "execution_count": 45,
   "id": "80c81c3a",
   "metadata": {},
   "outputs": [],
   "source": [
    "user_rfm_1 = pd.merge(df_ltv_train_just_revenue, df_ltv_train_just_recency, on='msno', how='inner')"
   ]
  },
  {
   "cell_type": "code",
   "execution_count": 46,
   "id": "1722e704",
   "metadata": {},
   "outputs": [],
   "source": [
    "user_rfm = pd.merge(user_rfm_1, df_ltv_train_just_count_subs, on='msno', how='inner')"
   ]
  },
  {
   "cell_type": "code",
   "execution_count": 47,
   "id": "8a0b7cb7",
   "metadata": {},
   "outputs": [],
   "source": [
    "user_rfm.rename(columns = {'actual_amount_paid':'Monetary', 'Days_Diff':'Recency','payment_plan_days':'Frequency'}, inplace = True)"
   ]
  },
  {
   "cell_type": "code",
   "execution_count": 49,
   "id": "dcd67958",
   "metadata": {},
   "outputs": [],
   "source": [
    "auto_renew = df_train_ltv.groupby(\"msno\")[\"is_auto_renew\"].max()"
   ]
  },
  {
   "cell_type": "code",
   "execution_count": 50,
   "id": "ada370cb",
   "metadata": {},
   "outputs": [],
   "source": [
    "user_summary = pd.merge(user_rfm, auto_renew, on='msno', how='inner')"
   ]
  },
  {
   "cell_type": "code",
   "execution_count": 51,
   "id": "00db8ca8",
   "metadata": {},
   "outputs": [],
   "source": [
    "user_summary_for_ltv_train = user_summary"
   ]
  },
  {
   "cell_type": "code",
   "execution_count": 52,
   "id": "557dc1fb",
   "metadata": {},
   "outputs": [
    {
     "data": {
      "text/html": [
       "<div>\n",
       "<style scoped>\n",
       "    .dataframe tbody tr th:only-of-type {\n",
       "        vertical-align: middle;\n",
       "    }\n",
       "\n",
       "    .dataframe tbody tr th {\n",
       "        vertical-align: top;\n",
       "    }\n",
       "\n",
       "    .dataframe thead th {\n",
       "        text-align: right;\n",
       "    }\n",
       "</style>\n",
       "<table border=\"1\" class=\"dataframe\">\n",
       "  <thead>\n",
       "    <tr style=\"text-align: right;\">\n",
       "      <th></th>\n",
       "      <th>Monetary</th>\n",
       "      <th>Recency</th>\n",
       "      <th>Frequency</th>\n",
       "      <th>is_auto_renew</th>\n",
       "    </tr>\n",
       "    <tr>\n",
       "      <th>msno</th>\n",
       "      <th></th>\n",
       "      <th></th>\n",
       "      <th></th>\n",
       "      <th></th>\n",
       "    </tr>\n",
       "  </thead>\n",
       "  <tbody>\n",
       "    <tr>\n",
       "      <th>0</th>\n",
       "      <td>1599</td>\n",
       "      <td>160</td>\n",
       "      <td>395</td>\n",
       "      <td>0</td>\n",
       "    </tr>\n",
       "    <tr>\n",
       "      <th>7</th>\n",
       "      <td>1788</td>\n",
       "      <td>271</td>\n",
       "      <td>410</td>\n",
       "      <td>0</td>\n",
       "    </tr>\n",
       "    <tr>\n",
       "      <th>23</th>\n",
       "      <td>1788</td>\n",
       "      <td>71</td>\n",
       "      <td>410</td>\n",
       "      <td>0</td>\n",
       "    </tr>\n",
       "    <tr>\n",
       "      <th>27</th>\n",
       "      <td>894</td>\n",
       "      <td>186</td>\n",
       "      <td>195</td>\n",
       "      <td>0</td>\n",
       "    </tr>\n",
       "    <tr>\n",
       "      <th>35</th>\n",
       "      <td>298</td>\n",
       "      <td>60</td>\n",
       "      <td>90</td>\n",
       "      <td>0</td>\n",
       "    </tr>\n",
       "    <tr>\n",
       "      <th>...</th>\n",
       "      <td>...</td>\n",
       "      <td>...</td>\n",
       "      <td>...</td>\n",
       "      <td>...</td>\n",
       "    </tr>\n",
       "    <tr>\n",
       "      <th>970938</th>\n",
       "      <td>2094</td>\n",
       "      <td>58</td>\n",
       "      <td>562</td>\n",
       "      <td>0</td>\n",
       "    </tr>\n",
       "    <tr>\n",
       "      <th>970941</th>\n",
       "      <td>1788</td>\n",
       "      <td>250</td>\n",
       "      <td>410</td>\n",
       "      <td>0</td>\n",
       "    </tr>\n",
       "    <tr>\n",
       "      <th>970942</th>\n",
       "      <td>1788</td>\n",
       "      <td>244</td>\n",
       "      <td>410</td>\n",
       "      <td>0</td>\n",
       "    </tr>\n",
       "    <tr>\n",
       "      <th>970952</th>\n",
       "      <td>99</td>\n",
       "      <td>40</td>\n",
       "      <td>30</td>\n",
       "      <td>1</td>\n",
       "    </tr>\n",
       "    <tr>\n",
       "      <th>970955</th>\n",
       "      <td>149</td>\n",
       "      <td>60</td>\n",
       "      <td>30</td>\n",
       "      <td>1</td>\n",
       "    </tr>\n",
       "  </tbody>\n",
       "</table>\n",
       "<p>149120 rows × 4 columns</p>\n",
       "</div>"
      ],
      "text/plain": [
       "        Monetary  Recency  Frequency  is_auto_renew\n",
       "msno                                               \n",
       "0           1599      160        395              0\n",
       "7           1788      271        410              0\n",
       "23          1788       71        410              0\n",
       "27           894      186        195              0\n",
       "35           298       60         90              0\n",
       "...          ...      ...        ...            ...\n",
       "970938      2094       58        562              0\n",
       "970941      1788      250        410              0\n",
       "970942      1788      244        410              0\n",
       "970952        99       40         30              1\n",
       "970955       149       60         30              1\n",
       "\n",
       "[149120 rows x 4 columns]"
      ]
     },
     "execution_count": 52,
     "metadata": {},
     "output_type": "execute_result"
    }
   ],
   "source": [
    "user_summary_for_ltv_train"
   ]
  },
  {
   "cell_type": "code",
   "execution_count": null,
   "id": "f7b105d1",
   "metadata": {},
   "outputs": [],
   "source": [
    "df_ltv"
   ]
  },
  {
   "cell_type": "code",
   "execution_count": 53,
   "id": "375fe690",
   "metadata": {},
   "outputs": [],
   "source": [
    "df_ltv['discount']=df_ltv['plan_list_price']-df_ltv['actual_amount_paid']"
   ]
  },
  {
   "cell_type": "code",
   "execution_count": 54,
   "id": "2ac24040",
   "metadata": {},
   "outputs": [
    {
     "data": {
      "text/html": [
       "<div>\n",
       "<style scoped>\n",
       "    .dataframe tbody tr th:only-of-type {\n",
       "        vertical-align: middle;\n",
       "    }\n",
       "\n",
       "    .dataframe tbody tr th {\n",
       "        vertical-align: top;\n",
       "    }\n",
       "\n",
       "    .dataframe thead th {\n",
       "        text-align: right;\n",
       "    }\n",
       "</style>\n",
       "<table border=\"1\" class=\"dataframe\">\n",
       "  <thead>\n",
       "    <tr style=\"text-align: right;\">\n",
       "      <th></th>\n",
       "      <th>msno</th>\n",
       "      <th>is_churn</th>\n",
       "      <th>payment_method_id</th>\n",
       "      <th>payment_plan_days</th>\n",
       "      <th>plan_list_price</th>\n",
       "      <th>actual_amount_paid</th>\n",
       "      <th>is_auto_renew</th>\n",
       "      <th>transaction_date</th>\n",
       "      <th>membership_expire_date</th>\n",
       "      <th>is_cancel</th>\n",
       "      <th>trans_date</th>\n",
       "      <th>Days_Diff</th>\n",
       "      <th>discount</th>\n",
       "    </tr>\n",
       "  </thead>\n",
       "  <tbody>\n",
       "    <tr>\n",
       "      <th>0</th>\n",
       "      <td>961455</td>\n",
       "      <td>1</td>\n",
       "      <td>41</td>\n",
       "      <td>30</td>\n",
       "      <td>100</td>\n",
       "      <td>100</td>\n",
       "      <td>1</td>\n",
       "      <td>20170311</td>\n",
       "      <td>20170411</td>\n",
       "      <td>0</td>\n",
       "      <td>2017-03-11</td>\n",
       "      <td>21</td>\n",
       "      <td>0</td>\n",
       "    </tr>\n",
       "    <tr>\n",
       "      <th>1</th>\n",
       "      <td>162509</td>\n",
       "      <td>1</td>\n",
       "      <td>37</td>\n",
       "      <td>30</td>\n",
       "      <td>149</td>\n",
       "      <td>149</td>\n",
       "      <td>1</td>\n",
       "      <td>20170303</td>\n",
       "      <td>20170405</td>\n",
       "      <td>0</td>\n",
       "      <td>2017-03-03</td>\n",
       "      <td>29</td>\n",
       "      <td>0</td>\n",
       "    </tr>\n",
       "    <tr>\n",
       "      <th>2</th>\n",
       "      <td>335494</td>\n",
       "      <td>1</td>\n",
       "      <td>38</td>\n",
       "      <td>30</td>\n",
       "      <td>149</td>\n",
       "      <td>149</td>\n",
       "      <td>0</td>\n",
       "      <td>20170303</td>\n",
       "      <td>20170402</td>\n",
       "      <td>0</td>\n",
       "      <td>2017-03-03</td>\n",
       "      <td>29</td>\n",
       "      <td>0</td>\n",
       "    </tr>\n",
       "    <tr>\n",
       "      <th>3</th>\n",
       "      <td>736830</td>\n",
       "      <td>1</td>\n",
       "      <td>38</td>\n",
       "      <td>30</td>\n",
       "      <td>149</td>\n",
       "      <td>149</td>\n",
       "      <td>0</td>\n",
       "      <td>20170305</td>\n",
       "      <td>20170404</td>\n",
       "      <td>0</td>\n",
       "      <td>2017-03-05</td>\n",
       "      <td>27</td>\n",
       "      <td>0</td>\n",
       "    </tr>\n",
       "    <tr>\n",
       "      <th>4</th>\n",
       "      <td>771492</td>\n",
       "      <td>1</td>\n",
       "      <td>37</td>\n",
       "      <td>30</td>\n",
       "      <td>149</td>\n",
       "      <td>149</td>\n",
       "      <td>1</td>\n",
       "      <td>20170302</td>\n",
       "      <td>20170402</td>\n",
       "      <td>0</td>\n",
       "      <td>2017-03-02</td>\n",
       "      <td>30</td>\n",
       "      <td>0</td>\n",
       "    </tr>\n",
       "    <tr>\n",
       "      <th>...</th>\n",
       "      <td>...</td>\n",
       "      <td>...</td>\n",
       "      <td>...</td>\n",
       "      <td>...</td>\n",
       "      <td>...</td>\n",
       "      <td>...</td>\n",
       "      <td>...</td>\n",
       "      <td>...</td>\n",
       "      <td>...</td>\n",
       "      <td>...</td>\n",
       "      <td>...</td>\n",
       "      <td>...</td>\n",
       "      <td>...</td>\n",
       "    </tr>\n",
       "    <tr>\n",
       "      <th>711525</th>\n",
       "      <td>645624</td>\n",
       "      <td>0</td>\n",
       "      <td>37</td>\n",
       "      <td>30</td>\n",
       "      <td>149</td>\n",
       "      <td>149</td>\n",
       "      <td>1</td>\n",
       "      <td>20170319</td>\n",
       "      <td>20170418</td>\n",
       "      <td>0</td>\n",
       "      <td>2017-03-19</td>\n",
       "      <td>13</td>\n",
       "      <td>0</td>\n",
       "    </tr>\n",
       "    <tr>\n",
       "      <th>711526</th>\n",
       "      <td>22156</td>\n",
       "      <td>0</td>\n",
       "      <td>41</td>\n",
       "      <td>30</td>\n",
       "      <td>149</td>\n",
       "      <td>149</td>\n",
       "      <td>1</td>\n",
       "      <td>20170325</td>\n",
       "      <td>20170426</td>\n",
       "      <td>0</td>\n",
       "      <td>2017-03-25</td>\n",
       "      <td>7</td>\n",
       "      <td>0</td>\n",
       "    </tr>\n",
       "    <tr>\n",
       "      <th>711527</th>\n",
       "      <td>457614</td>\n",
       "      <td>0</td>\n",
       "      <td>41</td>\n",
       "      <td>30</td>\n",
       "      <td>99</td>\n",
       "      <td>99</td>\n",
       "      <td>1</td>\n",
       "      <td>20170307</td>\n",
       "      <td>20170407</td>\n",
       "      <td>0</td>\n",
       "      <td>2017-03-07</td>\n",
       "      <td>25</td>\n",
       "      <td>0</td>\n",
       "    </tr>\n",
       "    <tr>\n",
       "      <th>711528</th>\n",
       "      <td>706976</td>\n",
       "      <td>0</td>\n",
       "      <td>41</td>\n",
       "      <td>30</td>\n",
       "      <td>149</td>\n",
       "      <td>149</td>\n",
       "      <td>1</td>\n",
       "      <td>20170313</td>\n",
       "      <td>20170413</td>\n",
       "      <td>0</td>\n",
       "      <td>2017-03-13</td>\n",
       "      <td>19</td>\n",
       "      <td>0</td>\n",
       "    </tr>\n",
       "    <tr>\n",
       "      <th>711529</th>\n",
       "      <td>793227</td>\n",
       "      <td>0</td>\n",
       "      <td>30</td>\n",
       "      <td>30</td>\n",
       "      <td>129</td>\n",
       "      <td>129</td>\n",
       "      <td>1</td>\n",
       "      <td>20170312</td>\n",
       "      <td>20170411</td>\n",
       "      <td>0</td>\n",
       "      <td>2017-03-12</td>\n",
       "      <td>20</td>\n",
       "      <td>0</td>\n",
       "    </tr>\n",
       "  </tbody>\n",
       "</table>\n",
       "<p>711530 rows × 13 columns</p>\n",
       "</div>"
      ],
      "text/plain": [
       "          msno  is_churn  payment_method_id  payment_plan_days  \\\n",
       "0       961455         1                 41                 30   \n",
       "1       162509         1                 37                 30   \n",
       "2       335494         1                 38                 30   \n",
       "3       736830         1                 38                 30   \n",
       "4       771492         1                 37                 30   \n",
       "...        ...       ...                ...                ...   \n",
       "711525  645624         0                 37                 30   \n",
       "711526   22156         0                 41                 30   \n",
       "711527  457614         0                 41                 30   \n",
       "711528  706976         0                 41                 30   \n",
       "711529  793227         0                 30                 30   \n",
       "\n",
       "        plan_list_price  actual_amount_paid  is_auto_renew transaction_date  \\\n",
       "0                   100                 100              1         20170311   \n",
       "1                   149                 149              1         20170303   \n",
       "2                   149                 149              0         20170303   \n",
       "3                   149                 149              0         20170305   \n",
       "4                   149                 149              1         20170302   \n",
       "...                 ...                 ...            ...              ...   \n",
       "711525              149                 149              1         20170319   \n",
       "711526              149                 149              1         20170325   \n",
       "711527               99                  99              1         20170307   \n",
       "711528              149                 149              1         20170313   \n",
       "711529              129                 129              1         20170312   \n",
       "\n",
       "        membership_expire_date  is_cancel trans_date  Days_Diff  discount  \n",
       "0                     20170411          0 2017-03-11         21         0  \n",
       "1                     20170405          0 2017-03-03         29         0  \n",
       "2                     20170402          0 2017-03-03         29         0  \n",
       "3                     20170404          0 2017-03-05         27         0  \n",
       "4                     20170402          0 2017-03-02         30         0  \n",
       "...                        ...        ...        ...        ...       ...  \n",
       "711525                20170418          0 2017-03-19         13         0  \n",
       "711526                20170426          0 2017-03-25          7         0  \n",
       "711527                20170407          0 2017-03-07         25         0  \n",
       "711528                20170413          0 2017-03-13         19         0  \n",
       "711529                20170411          0 2017-03-12         20         0  \n",
       "\n",
       "[711530 rows x 13 columns]"
      ]
     },
     "execution_count": 54,
     "metadata": {},
     "output_type": "execute_result"
    }
   ],
   "source": [
    "df_ltv"
   ]
  },
  {
   "cell_type": "code",
   "execution_count": 55,
   "id": "80c06b94",
   "metadata": {},
   "outputs": [],
   "source": [
    "df_ltv['lastMonthLTV']=df_ltv['actual_amount_paid']-df_ltv['discount']"
   ]
  },
  {
   "cell_type": "code",
   "execution_count": 56,
   "id": "0bb2e2be",
   "metadata": {},
   "outputs": [
    {
     "data": {
      "text/html": [
       "<div>\n",
       "<style scoped>\n",
       "    .dataframe tbody tr th:only-of-type {\n",
       "        vertical-align: middle;\n",
       "    }\n",
       "\n",
       "    .dataframe tbody tr th {\n",
       "        vertical-align: top;\n",
       "    }\n",
       "\n",
       "    .dataframe thead th {\n",
       "        text-align: right;\n",
       "    }\n",
       "</style>\n",
       "<table border=\"1\" class=\"dataframe\">\n",
       "  <thead>\n",
       "    <tr style=\"text-align: right;\">\n",
       "      <th></th>\n",
       "      <th>msno</th>\n",
       "      <th>is_churn</th>\n",
       "      <th>payment_method_id</th>\n",
       "      <th>payment_plan_days</th>\n",
       "      <th>plan_list_price</th>\n",
       "      <th>actual_amount_paid</th>\n",
       "      <th>is_auto_renew</th>\n",
       "      <th>transaction_date</th>\n",
       "      <th>membership_expire_date</th>\n",
       "      <th>is_cancel</th>\n",
       "      <th>trans_date</th>\n",
       "      <th>Days_Diff</th>\n",
       "      <th>discount</th>\n",
       "      <th>lastMonthLTV</th>\n",
       "    </tr>\n",
       "  </thead>\n",
       "  <tbody>\n",
       "    <tr>\n",
       "      <th>0</th>\n",
       "      <td>961455</td>\n",
       "      <td>1</td>\n",
       "      <td>41</td>\n",
       "      <td>30</td>\n",
       "      <td>100</td>\n",
       "      <td>100</td>\n",
       "      <td>1</td>\n",
       "      <td>20170311</td>\n",
       "      <td>20170411</td>\n",
       "      <td>0</td>\n",
       "      <td>2017-03-11</td>\n",
       "      <td>21</td>\n",
       "      <td>0</td>\n",
       "      <td>100</td>\n",
       "    </tr>\n",
       "    <tr>\n",
       "      <th>1</th>\n",
       "      <td>162509</td>\n",
       "      <td>1</td>\n",
       "      <td>37</td>\n",
       "      <td>30</td>\n",
       "      <td>149</td>\n",
       "      <td>149</td>\n",
       "      <td>1</td>\n",
       "      <td>20170303</td>\n",
       "      <td>20170405</td>\n",
       "      <td>0</td>\n",
       "      <td>2017-03-03</td>\n",
       "      <td>29</td>\n",
       "      <td>0</td>\n",
       "      <td>149</td>\n",
       "    </tr>\n",
       "    <tr>\n",
       "      <th>2</th>\n",
       "      <td>335494</td>\n",
       "      <td>1</td>\n",
       "      <td>38</td>\n",
       "      <td>30</td>\n",
       "      <td>149</td>\n",
       "      <td>149</td>\n",
       "      <td>0</td>\n",
       "      <td>20170303</td>\n",
       "      <td>20170402</td>\n",
       "      <td>0</td>\n",
       "      <td>2017-03-03</td>\n",
       "      <td>29</td>\n",
       "      <td>0</td>\n",
       "      <td>149</td>\n",
       "    </tr>\n",
       "    <tr>\n",
       "      <th>3</th>\n",
       "      <td>736830</td>\n",
       "      <td>1</td>\n",
       "      <td>38</td>\n",
       "      <td>30</td>\n",
       "      <td>149</td>\n",
       "      <td>149</td>\n",
       "      <td>0</td>\n",
       "      <td>20170305</td>\n",
       "      <td>20170404</td>\n",
       "      <td>0</td>\n",
       "      <td>2017-03-05</td>\n",
       "      <td>27</td>\n",
       "      <td>0</td>\n",
       "      <td>149</td>\n",
       "    </tr>\n",
       "    <tr>\n",
       "      <th>4</th>\n",
       "      <td>771492</td>\n",
       "      <td>1</td>\n",
       "      <td>37</td>\n",
       "      <td>30</td>\n",
       "      <td>149</td>\n",
       "      <td>149</td>\n",
       "      <td>1</td>\n",
       "      <td>20170302</td>\n",
       "      <td>20170402</td>\n",
       "      <td>0</td>\n",
       "      <td>2017-03-02</td>\n",
       "      <td>30</td>\n",
       "      <td>0</td>\n",
       "      <td>149</td>\n",
       "    </tr>\n",
       "  </tbody>\n",
       "</table>\n",
       "</div>"
      ],
      "text/plain": [
       "     msno  is_churn  payment_method_id  payment_plan_days  plan_list_price  \\\n",
       "0  961455         1                 41                 30              100   \n",
       "1  162509         1                 37                 30              149   \n",
       "2  335494         1                 38                 30              149   \n",
       "3  736830         1                 38                 30              149   \n",
       "4  771492         1                 37                 30              149   \n",
       "\n",
       "   actual_amount_paid  is_auto_renew transaction_date  membership_expire_date  \\\n",
       "0                 100              1         20170311                20170411   \n",
       "1                 149              1         20170303                20170405   \n",
       "2                 149              0         20170303                20170402   \n",
       "3                 149              0         20170305                20170404   \n",
       "4                 149              1         20170302                20170402   \n",
       "\n",
       "   is_cancel trans_date  Days_Diff  discount  lastMonthLTV  \n",
       "0          0 2017-03-11         21         0           100  \n",
       "1          0 2017-03-03         29         0           149  \n",
       "2          0 2017-03-03         29         0           149  \n",
       "3          0 2017-03-05         27         0           149  \n",
       "4          0 2017-03-02         30         0           149  "
      ]
     },
     "execution_count": 56,
     "metadata": {},
     "output_type": "execute_result"
    }
   ],
   "source": [
    "df_ltv.head()"
   ]
  },
  {
   "cell_type": "code",
   "execution_count": 57,
   "id": "4743c2da",
   "metadata": {},
   "outputs": [],
   "source": [
    "is_dis = df_ltv.groupby(\"msno\")[\"lastMonthLTV\"].sum()"
   ]
  },
  {
   "cell_type": "code",
   "execution_count": 58,
   "id": "cbb82fd6",
   "metadata": {},
   "outputs": [
    {
     "data": {
      "text/plain": [
       "msno\n",
       "1          99\n",
       "3         149\n",
       "4         149\n",
       "8         149\n",
       "9         149\n",
       "         ... \n",
       "970953    149\n",
       "970954     99\n",
       "970957    129\n",
       "970958     99\n",
       "970959    149\n",
       "Name: lastMonthLTV, Length: 682449, dtype: int64"
      ]
     },
     "execution_count": 58,
     "metadata": {},
     "output_type": "execute_result"
    }
   ],
   "source": [
    "is_dis"
   ]
  },
  {
   "cell_type": "code",
   "execution_count": 59,
   "id": "f9e039f5",
   "metadata": {},
   "outputs": [],
   "source": [
    "user_summary_ltv = pd.merge(user_summary_for_ltv_train, is_dis, on='msno', how='inner')"
   ]
  },
  {
   "cell_type": "code",
   "execution_count": 67,
   "id": "d9b07554",
   "metadata": {},
   "outputs": [
    {
     "data": {
      "text/html": [
       "<div>\n",
       "<style scoped>\n",
       "    .dataframe tbody tr th:only-of-type {\n",
       "        vertical-align: middle;\n",
       "    }\n",
       "\n",
       "    .dataframe tbody tr th {\n",
       "        vertical-align: top;\n",
       "    }\n",
       "\n",
       "    .dataframe thead th {\n",
       "        text-align: right;\n",
       "    }\n",
       "</style>\n",
       "<table border=\"1\" class=\"dataframe\">\n",
       "  <thead>\n",
       "    <tr style=\"text-align: right;\">\n",
       "      <th></th>\n",
       "      <th>Monetary</th>\n",
       "      <th>Recency</th>\n",
       "      <th>Frequency</th>\n",
       "      <th>is_auto_renew</th>\n",
       "      <th>lastMonthLTV</th>\n",
       "    </tr>\n",
       "    <tr>\n",
       "      <th>msno</th>\n",
       "      <th></th>\n",
       "      <th></th>\n",
       "      <th></th>\n",
       "      <th></th>\n",
       "      <th></th>\n",
       "    </tr>\n",
       "  </thead>\n",
       "  <tbody>\n",
       "    <tr>\n",
       "      <th>99</th>\n",
       "      <td>1788</td>\n",
       "      <td>43</td>\n",
       "      <td>410</td>\n",
       "      <td>0</td>\n",
       "      <td>1200</td>\n",
       "    </tr>\n",
       "    <tr>\n",
       "      <th>193</th>\n",
       "      <td>99</td>\n",
       "      <td>416</td>\n",
       "      <td>30</td>\n",
       "      <td>1</td>\n",
       "      <td>99</td>\n",
       "    </tr>\n",
       "    <tr>\n",
       "      <th>209</th>\n",
       "      <td>5382</td>\n",
       "      <td>479</td>\n",
       "      <td>990</td>\n",
       "      <td>1</td>\n",
       "      <td>129</td>\n",
       "    </tr>\n",
       "    <tr>\n",
       "      <th>236</th>\n",
       "      <td>3078</td>\n",
       "      <td>466</td>\n",
       "      <td>660</td>\n",
       "      <td>1</td>\n",
       "      <td>248</td>\n",
       "    </tr>\n",
       "    <tr>\n",
       "      <th>343</th>\n",
       "      <td>180</td>\n",
       "      <td>52</td>\n",
       "      <td>30</td>\n",
       "      <td>1</td>\n",
       "      <td>180</td>\n",
       "    </tr>\n",
       "  </tbody>\n",
       "</table>\n",
       "</div>"
      ],
      "text/plain": [
       "      Monetary  Recency  Frequency  is_auto_renew  lastMonthLTV\n",
       "msno                                                           \n",
       "99        1788       43        410              0          1200\n",
       "193         99      416         30              1            99\n",
       "209       5382      479        990              1           129\n",
       "236       3078      466        660              1           248\n",
       "343        180       52         30              1           180"
      ]
     },
     "execution_count": 67,
     "metadata": {},
     "output_type": "execute_result"
    }
   ],
   "source": [
    "user_summary_ltv.head()"
   ]
  },
  {
   "cell_type": "code",
   "execution_count": 68,
   "id": "63ca0220",
   "metadata": {},
   "outputs": [],
   "source": [
    "user_summary_ltv.reset_index(level=0, inplace=True)"
   ]
  },
  {
   "cell_type": "code",
   "execution_count": 69,
   "id": "0eb26788",
   "metadata": {},
   "outputs": [
    {
     "data": {
      "text/plain": [
       "(12047, 6)"
      ]
     },
     "execution_count": 69,
     "metadata": {},
     "output_type": "execute_result"
    }
   ],
   "source": [
    "user_summary_ltv.shape"
   ]
  },
  {
   "cell_type": "code",
   "execution_count": 70,
   "id": "b7da5ec0",
   "metadata": {},
   "outputs": [],
   "source": [
    "user_summary_ltv.to_csv('TransformedDataset/transformed_user_summary_ltv.csv',index=False)"
   ]
  }
 ],
 "metadata": {
  "kernelspec": {
   "display_name": "Python 3 (ipykernel)",
   "language": "python",
   "name": "python3"
  },
  "language_info": {
   "codemirror_mode": {
    "name": "ipython",
    "version": 3
   },
   "file_extension": ".py",
   "mimetype": "text/x-python",
   "name": "python",
   "nbconvert_exporter": "python",
   "pygments_lexer": "ipython3",
   "version": "3.9.7"
  }
 },
 "nbformat": 4,
 "nbformat_minor": 5
}
