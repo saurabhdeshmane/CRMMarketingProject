{
 "cells": [
  {
   "cell_type": "code",
   "execution_count": 1,
   "id": "e0ddb741",
   "metadata": {},
   "outputs": [],
   "source": [
    "import numpy as np\n",
    "import pandas as pd"
   ]
  },
  {
   "cell_type": "code",
   "execution_count": 11,
   "id": "dcb14421",
   "metadata": {},
   "outputs": [],
   "source": [
    "songs_train = pd.read_csv('Dataset/train.csv')"
   ]
  },
  {
   "cell_type": "code",
   "execution_count": 12,
   "id": "cb3c11e5",
   "metadata": {},
   "outputs": [],
   "source": [
    "train = pd.read_csv('Dataset/train_v2.csv')"
   ]
  },
  {
   "cell_type": "code",
   "execution_count": 13,
   "id": "8fe204ce",
   "metadata": {},
   "outputs": [],
   "source": [
    "songs = pd.read_csv('Dataset/songs.csv')"
   ]
  },
  {
   "cell_type": "code",
   "execution_count": 14,
   "id": "0ad376e0",
   "metadata": {},
   "outputs": [],
   "source": [
    "from sklearn.preprocessing import LabelEncoder #encoder package of sklearn\n",
    "le = LabelEncoder() #le variable has been assigned a labelencoder function\n",
    "\n",
    "songs_train['msno'] = le.fit_transform(songs_train['msno'].astype(str))\n",
    "train['msno'] = le.fit_transform(train['msno'].astype(str))\n",
    "songs['song_id'] = le.fit_transform(songs['song_id'].astype(str))\n",
    "songs_train['song_id'] = le.fit_transform(songs_train['song_id'].astype(str))"
   ]
  },
  {
   "cell_type": "code",
   "execution_count": 15,
   "id": "66c7d934",
   "metadata": {},
   "outputs": [],
   "source": [
    "train_songs_train = pd.merge(train, songs_train, on='msno', how='inner')"
   ]
  },
  {
   "cell_type": "code",
   "execution_count": 16,
   "id": "6a1a99a6",
   "metadata": {},
   "outputs": [
    {
     "data": {
      "text/plain": [
       "30755"
      ]
     },
     "execution_count": 16,
     "metadata": {},
     "output_type": "execute_result"
    }
   ],
   "source": [
    "len(train_songs_train['msno'].unique())"
   ]
  },
  {
   "cell_type": "code",
   "execution_count": 17,
   "id": "b91c3624",
   "metadata": {},
   "outputs": [
    {
     "data": {
      "text/plain": [
       "359966"
      ]
     },
     "execution_count": 17,
     "metadata": {},
     "output_type": "execute_result"
    }
   ],
   "source": [
    "len(train_songs_train['song_id'].unique())"
   ]
  },
  {
   "cell_type": "code",
   "execution_count": 18,
   "id": "02734039",
   "metadata": {},
   "outputs": [],
   "source": [
    "train_songs_train_songs= pd.merge(train_songs_train, songs, on='song_id', how='inner')"
   ]
  },
  {
   "cell_type": "code",
   "execution_count": 19,
   "id": "859a612e",
   "metadata": {},
   "outputs": [
    {
     "data": {
      "text/plain": [
       "359966"
      ]
     },
     "execution_count": 19,
     "metadata": {},
     "output_type": "execute_result"
    }
   ],
   "source": [
    "len(train_songs_train_songs['song_id'].unique())"
   ]
  },
  {
   "cell_type": "code",
   "execution_count": 20,
   "id": "e9f96c11",
   "metadata": {},
   "outputs": [
    {
     "data": {
      "text/plain": [
       "30755"
      ]
     },
     "execution_count": 20,
     "metadata": {},
     "output_type": "execute_result"
    }
   ],
   "source": [
    "len(train_songs_train_songs['msno'].unique())"
   ]
  },
  {
   "cell_type": "code",
   "execution_count": 21,
   "id": "70964331",
   "metadata": {},
   "outputs": [],
   "source": [
    "train_songs_train_songs=train_songs_train_songs.drop(columns = ['is_churn','source_system_tab','source_screen_name','source_type','target','song_length'],axis=1)"
   ]
  },
  {
   "cell_type": "code",
   "execution_count": 22,
   "id": "dacdc713",
   "metadata": {},
   "outputs": [],
   "source": [
    "train_songs_train_songs=train_songs_train_songs.drop(columns = ['composer','lyricist'],axis=1)"
   ]
  },
  {
   "cell_type": "code",
   "execution_count": 23,
   "id": "8bdfc5c3",
   "metadata": {},
   "outputs": [],
   "source": [
    "train_songs_train_songs=train_songs_train_songs.dropna()"
   ]
  },
  {
   "cell_type": "code",
   "execution_count": 24,
   "id": "f2e6e73d",
   "metadata": {},
   "outputs": [
    {
     "data": {
      "text/plain": [
       "msno           0\n",
       "song_id        0\n",
       "genre_ids      0\n",
       "artist_name    0\n",
       "language       0\n",
       "dtype: int64"
      ]
     },
     "execution_count": 24,
     "metadata": {},
     "output_type": "execute_result"
    }
   ],
   "source": [
    "train_songs_train_songs.isna().sum()"
   ]
  },
  {
   "cell_type": "code",
   "execution_count": 25,
   "id": "7b3e891c",
   "metadata": {},
   "outputs": [
    {
     "data": {
      "text/plain": [
       "30724"
      ]
     },
     "execution_count": 25,
     "metadata": {},
     "output_type": "execute_result"
    }
   ],
   "source": [
    "len(train_songs_train_songs['msno'].unique())"
   ]
  },
  {
   "cell_type": "code",
   "execution_count": 26,
   "id": "cd6879d9",
   "metadata": {},
   "outputs": [
    {
     "data": {
      "text/plain": [
       "345380"
      ]
     },
     "execution_count": 26,
     "metadata": {},
     "output_type": "execute_result"
    }
   ],
   "source": [
    "len(train_songs_train_songs['song_id'].unique())"
   ]
  },
  {
   "cell_type": "code",
   "execution_count": 27,
   "id": "8196c4bd",
   "metadata": {},
   "outputs": [],
   "source": [
    "train_songs_train_songs.to_csv('TransformedDataset/user_song_recommendation.csv',index=False)"
   ]
  },
  {
   "cell_type": "code",
   "execution_count": 3,
   "id": "9d81458d",
   "metadata": {},
   "outputs": [],
   "source": [
    "result_plan_uplift = pd.read_csv('ResultDataset/result_plan_uplift.csv')"
   ]
  },
  {
   "cell_type": "code",
   "execution_count": 4,
   "id": "32216f55",
   "metadata": {},
   "outputs": [
    {
     "data": {
      "text/html": [
       "<div>\n",
       "<style scoped>\n",
       "    .dataframe tbody tr th:only-of-type {\n",
       "        vertical-align: middle;\n",
       "    }\n",
       "\n",
       "    .dataframe tbody tr th {\n",
       "        vertical-align: top;\n",
       "    }\n",
       "\n",
       "    .dataframe thead th {\n",
       "        text-align: right;\n",
       "    }\n",
       "</style>\n",
       "<table border=\"1\" class=\"dataframe\">\n",
       "  <thead>\n",
       "    <tr style=\"text-align: right;\">\n",
       "      <th></th>\n",
       "      <th>msno</th>\n",
       "      <th>Plan</th>\n",
       "      <th>Yearly</th>\n",
       "      <th>ThreeMonths</th>\n",
       "      <th>SixMonths</th>\n",
       "      <th>Monthly</th>\n",
       "      <th>Target</th>\n",
       "      <th>CN</th>\n",
       "      <th>CR</th>\n",
       "      <th>TN</th>\n",
       "      <th>TR</th>\n",
       "      <th>uplift_score</th>\n",
       "    </tr>\n",
       "  </thead>\n",
       "  <tbody>\n",
       "    <tr>\n",
       "      <th>0</th>\n",
       "      <td>187</td>\n",
       "      <td>Yearly</td>\n",
       "      <td>1.000000e+00</td>\n",
       "      <td>5.378309e-16</td>\n",
       "      <td>9.618449e-12</td>\n",
       "      <td>7.478511e-15</td>\n",
       "      <td>1</td>\n",
       "      <td>0.111599</td>\n",
       "      <td>0.648138</td>\n",
       "      <td>0.110409</td>\n",
       "      <td>0.129854</td>\n",
       "      <td>-0.517093</td>\n",
       "    </tr>\n",
       "    <tr>\n",
       "      <th>1</th>\n",
       "      <td>501</td>\n",
       "      <td>Yearly</td>\n",
       "      <td>1.000000e+00</td>\n",
       "      <td>4.544101e-15</td>\n",
       "      <td>2.663593e-11</td>\n",
       "      <td>3.309442e-15</td>\n",
       "      <td>1</td>\n",
       "      <td>0.113499</td>\n",
       "      <td>0.659172</td>\n",
       "      <td>0.112289</td>\n",
       "      <td>0.115041</td>\n",
       "      <td>-0.542920</td>\n",
       "    </tr>\n",
       "    <tr>\n",
       "      <th>2</th>\n",
       "      <td>2184</td>\n",
       "      <td>Yearly</td>\n",
       "      <td>1.000000e+00</td>\n",
       "      <td>3.824104e-15</td>\n",
       "      <td>1.331874e-11</td>\n",
       "      <td>7.226672e-15</td>\n",
       "      <td>1</td>\n",
       "      <td>0.113508</td>\n",
       "      <td>0.659224</td>\n",
       "      <td>0.112297</td>\n",
       "      <td>0.114970</td>\n",
       "      <td>-0.543043</td>\n",
       "    </tr>\n",
       "    <tr>\n",
       "      <th>3</th>\n",
       "      <td>3550</td>\n",
       "      <td>Yearly</td>\n",
       "      <td>9.999996e-01</td>\n",
       "      <td>4.831649e-13</td>\n",
       "      <td>3.813251e-07</td>\n",
       "      <td>1.262527e-14</td>\n",
       "      <td>1</td>\n",
       "      <td>0.111599</td>\n",
       "      <td>0.648138</td>\n",
       "      <td>0.110409</td>\n",
       "      <td>0.129854</td>\n",
       "      <td>-0.517093</td>\n",
       "    </tr>\n",
       "    <tr>\n",
       "      <th>4</th>\n",
       "      <td>4465</td>\n",
       "      <td>Yearly</td>\n",
       "      <td>9.999996e-01</td>\n",
       "      <td>6.073017e-13</td>\n",
       "      <td>3.804050e-07</td>\n",
       "      <td>1.100728e-14</td>\n",
       "      <td>1</td>\n",
       "      <td>0.108525</td>\n",
       "      <td>0.624826</td>\n",
       "      <td>0.107367</td>\n",
       "      <td>0.159283</td>\n",
       "      <td>-0.464385</td>\n",
       "    </tr>\n",
       "    <tr>\n",
       "      <th>...</th>\n",
       "      <td>...</td>\n",
       "      <td>...</td>\n",
       "      <td>...</td>\n",
       "      <td>...</td>\n",
       "      <td>...</td>\n",
       "      <td>...</td>\n",
       "      <td>...</td>\n",
       "      <td>...</td>\n",
       "      <td>...</td>\n",
       "      <td>...</td>\n",
       "      <td>...</td>\n",
       "      <td>...</td>\n",
       "    </tr>\n",
       "    <tr>\n",
       "      <th>36333</th>\n",
       "      <td>91458</td>\n",
       "      <td>Monthly</td>\n",
       "      <td>3.887811e-20</td>\n",
       "      <td>1.512591e-20</td>\n",
       "      <td>2.686897e-20</td>\n",
       "      <td>1.000000e+00</td>\n",
       "      <td>1</td>\n",
       "      <td>0.113915</td>\n",
       "      <td>0.658950</td>\n",
       "      <td>0.113594</td>\n",
       "      <td>0.113541</td>\n",
       "      <td>-0.545088</td>\n",
       "    </tr>\n",
       "    <tr>\n",
       "      <th>36334</th>\n",
       "      <td>91469</td>\n",
       "      <td>Monthly</td>\n",
       "      <td>3.887811e-20</td>\n",
       "      <td>1.512591e-20</td>\n",
       "      <td>2.686897e-20</td>\n",
       "      <td>1.000000e+00</td>\n",
       "      <td>1</td>\n",
       "      <td>0.113915</td>\n",
       "      <td>0.658950</td>\n",
       "      <td>0.113594</td>\n",
       "      <td>0.113541</td>\n",
       "      <td>-0.545088</td>\n",
       "    </tr>\n",
       "    <tr>\n",
       "      <th>36335</th>\n",
       "      <td>92223</td>\n",
       "      <td>Monthly</td>\n",
       "      <td>3.887811e-20</td>\n",
       "      <td>1.512591e-20</td>\n",
       "      <td>2.686897e-20</td>\n",
       "      <td>1.000000e+00</td>\n",
       "      <td>1</td>\n",
       "      <td>0.113915</td>\n",
       "      <td>0.658950</td>\n",
       "      <td>0.113594</td>\n",
       "      <td>0.113541</td>\n",
       "      <td>-0.545088</td>\n",
       "    </tr>\n",
       "    <tr>\n",
       "      <th>36336</th>\n",
       "      <td>95992</td>\n",
       "      <td>Monthly</td>\n",
       "      <td>3.887811e-20</td>\n",
       "      <td>1.512591e-20</td>\n",
       "      <td>2.686897e-20</td>\n",
       "      <td>1.000000e+00</td>\n",
       "      <td>1</td>\n",
       "      <td>0.113648</td>\n",
       "      <td>0.659751</td>\n",
       "      <td>0.113327</td>\n",
       "      <td>0.113274</td>\n",
       "      <td>-0.546156</td>\n",
       "    </tr>\n",
       "    <tr>\n",
       "      <th>36337</th>\n",
       "      <td>96920</td>\n",
       "      <td>Monthly</td>\n",
       "      <td>3.887811e-20</td>\n",
       "      <td>1.512591e-20</td>\n",
       "      <td>2.686897e-20</td>\n",
       "      <td>1.000000e+00</td>\n",
       "      <td>1</td>\n",
       "      <td>0.134998</td>\n",
       "      <td>0.595760</td>\n",
       "      <td>0.134688</td>\n",
       "      <td>0.134554</td>\n",
       "      <td>-0.460896</td>\n",
       "    </tr>\n",
       "  </tbody>\n",
       "</table>\n",
       "<p>36338 rows × 12 columns</p>\n",
       "</div>"
      ],
      "text/plain": [
       "        msno     Plan        Yearly   ThreeMonths     SixMonths       Monthly  \\\n",
       "0        187   Yearly  1.000000e+00  5.378309e-16  9.618449e-12  7.478511e-15   \n",
       "1        501   Yearly  1.000000e+00  4.544101e-15  2.663593e-11  3.309442e-15   \n",
       "2       2184   Yearly  1.000000e+00  3.824104e-15  1.331874e-11  7.226672e-15   \n",
       "3       3550   Yearly  9.999996e-01  4.831649e-13  3.813251e-07  1.262527e-14   \n",
       "4       4465   Yearly  9.999996e-01  6.073017e-13  3.804050e-07  1.100728e-14   \n",
       "...      ...      ...           ...           ...           ...           ...   \n",
       "36333  91458  Monthly  3.887811e-20  1.512591e-20  2.686897e-20  1.000000e+00   \n",
       "36334  91469  Monthly  3.887811e-20  1.512591e-20  2.686897e-20  1.000000e+00   \n",
       "36335  92223  Monthly  3.887811e-20  1.512591e-20  2.686897e-20  1.000000e+00   \n",
       "36336  95992  Monthly  3.887811e-20  1.512591e-20  2.686897e-20  1.000000e+00   \n",
       "36337  96920  Monthly  3.887811e-20  1.512591e-20  2.686897e-20  1.000000e+00   \n",
       "\n",
       "       Target        CN        CR        TN        TR  uplift_score  \n",
       "0           1  0.111599  0.648138  0.110409  0.129854     -0.517093  \n",
       "1           1  0.113499  0.659172  0.112289  0.115041     -0.542920  \n",
       "2           1  0.113508  0.659224  0.112297  0.114970     -0.543043  \n",
       "3           1  0.111599  0.648138  0.110409  0.129854     -0.517093  \n",
       "4           1  0.108525  0.624826  0.107367  0.159283     -0.464385  \n",
       "...       ...       ...       ...       ...       ...           ...  \n",
       "36333       1  0.113915  0.658950  0.113594  0.113541     -0.545088  \n",
       "36334       1  0.113915  0.658950  0.113594  0.113541     -0.545088  \n",
       "36335       1  0.113915  0.658950  0.113594  0.113541     -0.545088  \n",
       "36336       1  0.113648  0.659751  0.113327  0.113274     -0.546156  \n",
       "36337       1  0.134998  0.595760  0.134688  0.134554     -0.460896  \n",
       "\n",
       "[36338 rows x 12 columns]"
      ]
     },
     "execution_count": 4,
     "metadata": {},
     "output_type": "execute_result"
    }
   ],
   "source": [
    "result_plan_uplift"
   ]
  },
  {
   "cell_type": "code",
   "execution_count": 5,
   "id": "a19a8696",
   "metadata": {},
   "outputs": [],
   "source": [
    "result_recommendation = pd.read_csv('ResultDataset/result_recommendation.csv')"
   ]
  },
  {
   "cell_type": "code",
   "execution_count": 6,
   "id": "da420622",
   "metadata": {},
   "outputs": [
    {
     "data": {
      "text/html": [
       "<div>\n",
       "<style scoped>\n",
       "    .dataframe tbody tr th:only-of-type {\n",
       "        vertical-align: middle;\n",
       "    }\n",
       "\n",
       "    .dataframe tbody tr th {\n",
       "        vertical-align: top;\n",
       "    }\n",
       "\n",
       "    .dataframe thead th {\n",
       "        text-align: right;\n",
       "    }\n",
       "</style>\n",
       "<table border=\"1\" class=\"dataframe\">\n",
       "  <thead>\n",
       "    <tr style=\"text-align: right;\">\n",
       "      <th></th>\n",
       "      <th>index</th>\n",
       "      <th>artist_name</th>\n",
       "      <th>genre_ids</th>\n",
       "      <th>msno</th>\n",
       "      <th>song_id</th>\n",
       "    </tr>\n",
       "  </thead>\n",
       "  <tbody>\n",
       "    <tr>\n",
       "      <th>0</th>\n",
       "      <td>0</td>\n",
       "      <td>Various Artists</td>\n",
       "      <td>958</td>\n",
       "      <td>17118.0</td>\n",
       "      <td>212013.0</td>\n",
       "    </tr>\n",
       "    <tr>\n",
       "      <th>1</th>\n",
       "      <td>1</td>\n",
       "      <td>Brazilian Girls</td>\n",
       "      <td>465</td>\n",
       "      <td>17118.0</td>\n",
       "      <td>251338.0</td>\n",
       "    </tr>\n",
       "    <tr>\n",
       "      <th>2</th>\n",
       "      <td>2</td>\n",
       "      <td>Joshua Hyslop</td>\n",
       "      <td>822</td>\n",
       "      <td>17118.0</td>\n",
       "      <td>154868.0</td>\n",
       "    </tr>\n",
       "    <tr>\n",
       "      <th>3</th>\n",
       "      <td>3</td>\n",
       "      <td>Da Lench Mob</td>\n",
       "      <td>1259</td>\n",
       "      <td>17118.0</td>\n",
       "      <td>205605.0</td>\n",
       "    </tr>\n",
       "    <tr>\n",
       "      <th>4</th>\n",
       "      <td>4</td>\n",
       "      <td>Minnie Riperton</td>\n",
       "      <td>139|125|109</td>\n",
       "      <td>17118.0</td>\n",
       "      <td>7693.0</td>\n",
       "    </tr>\n",
       "  </tbody>\n",
       "</table>\n",
       "</div>"
      ],
      "text/plain": [
       "   index      artist_name    genre_ids     msno   song_id\n",
       "0      0  Various Artists          958  17118.0  212013.0\n",
       "1      1  Brazilian Girls          465  17118.0  251338.0\n",
       "2      2    Joshua Hyslop          822  17118.0  154868.0\n",
       "3      3     Da Lench Mob         1259  17118.0  205605.0\n",
       "4      4  Minnie Riperton  139|125|109  17118.0    7693.0"
      ]
     },
     "execution_count": 6,
     "metadata": {},
     "output_type": "execute_result"
    }
   ],
   "source": [
    "result_recommendation.head()"
   ]
  },
  {
   "cell_type": "code",
   "execution_count": 7,
   "id": "f85c1f0f",
   "metadata": {},
   "outputs": [],
   "source": [
    "result_plan_uplift_recommendation = pd.merge(result_plan_uplift, result_recommendation, on='msno', how='inner')"
   ]
  },
  {
   "cell_type": "code",
   "execution_count": 8,
   "id": "4b126478",
   "metadata": {},
   "outputs": [
    {
     "data": {
      "text/plain": [
       "(90490, 16)"
      ]
     },
     "execution_count": 8,
     "metadata": {},
     "output_type": "execute_result"
    }
   ],
   "source": [
    "result_plan_uplift_recommendation.shape"
   ]
  },
  {
   "cell_type": "code",
   "execution_count": 9,
   "id": "81300c1f",
   "metadata": {},
   "outputs": [],
   "source": [
    "result_plan_uplift_recommendation.to_csv('ResultDataset/result_plan_uplift_recommendation.csv')"
   ]
  }
 ],
 "metadata": {
  "kernelspec": {
   "display_name": "Python 3 (ipykernel)",
   "language": "python",
   "name": "python3"
  },
  "language_info": {
   "codemirror_mode": {
    "name": "ipython",
    "version": 3
   },
   "file_extension": ".py",
   "mimetype": "text/x-python",
   "name": "python",
   "nbconvert_exporter": "python",
   "pygments_lexer": "ipython3",
   "version": "3.9.7"
  }
 },
 "nbformat": 4,
 "nbformat_minor": 5
}
