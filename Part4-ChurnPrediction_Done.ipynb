{
 "cells": [
  {
   "cell_type": "markdown",
   "id": "27f786df",
   "metadata": {},
   "source": [
    "# Part 4 - Building Churn Prediction Model"
   ]
  },
  {
   "cell_type": "markdown",
   "id": "23fdaaa4",
   "metadata": {},
   "source": [
    "## Importing Data and Libraries "
   ]
  },
  {
   "cell_type": "code",
   "execution_count": 1,
   "id": "b233bc71",
   "metadata": {},
   "outputs": [],
   "source": [
    "# import libraries\n",
    "from datetime import datetime, timedelta\n",
    "import pandas as pd\n",
    "%matplotlib inline\n",
    "import matplotlib.pyplot as plt\n",
    "import numpy as np\n",
    "import seaborn as sns\n",
    "from __future__ import division"
   ]
  },
  {
   "cell_type": "code",
   "execution_count": 2,
   "id": "2f80b233",
   "metadata": {},
   "outputs": [],
   "source": [
    "data = pd.read_csv('TransformedDataset/transformed_user_summary_segemented_v2.csv')"
   ]
  },
  {
   "cell_type": "code",
   "execution_count": 3,
   "id": "6e00063c",
   "metadata": {},
   "outputs": [
    {
     "data": {
      "text/html": [
       "<div>\n",
       "<style scoped>\n",
       "    .dataframe tbody tr th:only-of-type {\n",
       "        vertical-align: middle;\n",
       "    }\n",
       "\n",
       "    .dataframe tbody tr th {\n",
       "        vertical-align: top;\n",
       "    }\n",
       "\n",
       "    .dataframe thead th {\n",
       "        text-align: right;\n",
       "    }\n",
       "</style>\n",
       "<table border=\"1\" class=\"dataframe\">\n",
       "  <thead>\n",
       "    <tr style=\"text-align: right;\">\n",
       "      <th></th>\n",
       "      <th>msno</th>\n",
       "      <th>Monetary</th>\n",
       "      <th>Recency</th>\n",
       "      <th>Frequency</th>\n",
       "      <th>is_auto_renew</th>\n",
       "      <th>is_discount</th>\n",
       "      <th>BestPlan</th>\n",
       "      <th>active_days_per_month</th>\n",
       "      <th>total_usage_time_per_month</th>\n",
       "      <th>total_unique_songs_played_per_month</th>\n",
       "      <th>...</th>\n",
       "      <th>Percent_Songs_Played_100</th>\n",
       "      <th>is_churn</th>\n",
       "      <th>RecencyCluster</th>\n",
       "      <th>FrequencyCluster</th>\n",
       "      <th>MonetaryCluster</th>\n",
       "      <th>SongsPlayedFrequencyCluster</th>\n",
       "      <th>OverallScore</th>\n",
       "      <th>Segment</th>\n",
       "      <th>Plan</th>\n",
       "      <th>drop</th>\n",
       "    </tr>\n",
       "  </thead>\n",
       "  <tbody>\n",
       "    <tr>\n",
       "      <th>0</th>\n",
       "      <td>187</td>\n",
       "      <td>1788</td>\n",
       "      <td>219</td>\n",
       "      <td>410</td>\n",
       "      <td>0</td>\n",
       "      <td>0</td>\n",
       "      <td>410</td>\n",
       "      <td>12</td>\n",
       "      <td>48210.151</td>\n",
       "      <td>364</td>\n",
       "      <td>...</td>\n",
       "      <td>23.739586</td>\n",
       "      <td>1</td>\n",
       "      <td>1</td>\n",
       "      <td>2</td>\n",
       "      <td>2</td>\n",
       "      <td>0</td>\n",
       "      <td>5</td>\n",
       "      <td>Mid-Value</td>\n",
       "      <td>Yearly</td>\n",
       "      <td>0</td>\n",
       "    </tr>\n",
       "    <tr>\n",
       "      <th>1</th>\n",
       "      <td>501</td>\n",
       "      <td>1788</td>\n",
       "      <td>263</td>\n",
       "      <td>410</td>\n",
       "      <td>0</td>\n",
       "      <td>0</td>\n",
       "      <td>410</td>\n",
       "      <td>12</td>\n",
       "      <td>50496.753</td>\n",
       "      <td>167</td>\n",
       "      <td>...</td>\n",
       "      <td>91.490592</td>\n",
       "      <td>1</td>\n",
       "      <td>1</td>\n",
       "      <td>2</td>\n",
       "      <td>2</td>\n",
       "      <td>0</td>\n",
       "      <td>5</td>\n",
       "      <td>Mid-Value</td>\n",
       "      <td>Yearly</td>\n",
       "      <td>0</td>\n",
       "    </tr>\n",
       "    <tr>\n",
       "      <th>2</th>\n",
       "      <td>2184</td>\n",
       "      <td>1788</td>\n",
       "      <td>239</td>\n",
       "      <td>410</td>\n",
       "      <td>0</td>\n",
       "      <td>0</td>\n",
       "      <td>410</td>\n",
       "      <td>14</td>\n",
       "      <td>36132.039</td>\n",
       "      <td>212</td>\n",
       "      <td>...</td>\n",
       "      <td>59.349542</td>\n",
       "      <td>1</td>\n",
       "      <td>1</td>\n",
       "      <td>2</td>\n",
       "      <td>2</td>\n",
       "      <td>0</td>\n",
       "      <td>5</td>\n",
       "      <td>Mid-Value</td>\n",
       "      <td>Yearly</td>\n",
       "      <td>0</td>\n",
       "    </tr>\n",
       "    <tr>\n",
       "      <th>3</th>\n",
       "      <td>3550</td>\n",
       "      <td>1788</td>\n",
       "      <td>210</td>\n",
       "      <td>410</td>\n",
       "      <td>0</td>\n",
       "      <td>0</td>\n",
       "      <td>410</td>\n",
       "      <td>13</td>\n",
       "      <td>42064.803</td>\n",
       "      <td>157</td>\n",
       "      <td>...</td>\n",
       "      <td>54.224399</td>\n",
       "      <td>1</td>\n",
       "      <td>1</td>\n",
       "      <td>2</td>\n",
       "      <td>2</td>\n",
       "      <td>0</td>\n",
       "      <td>5</td>\n",
       "      <td>Mid-Value</td>\n",
       "      <td>Yearly</td>\n",
       "      <td>0</td>\n",
       "    </tr>\n",
       "    <tr>\n",
       "      <th>4</th>\n",
       "      <td>4465</td>\n",
       "      <td>1788</td>\n",
       "      <td>278</td>\n",
       "      <td>410</td>\n",
       "      <td>0</td>\n",
       "      <td>0</td>\n",
       "      <td>410</td>\n",
       "      <td>18</td>\n",
       "      <td>65668.010</td>\n",
       "      <td>312</td>\n",
       "      <td>...</td>\n",
       "      <td>83.163338</td>\n",
       "      <td>1</td>\n",
       "      <td>1</td>\n",
       "      <td>2</td>\n",
       "      <td>2</td>\n",
       "      <td>0</td>\n",
       "      <td>5</td>\n",
       "      <td>Mid-Value</td>\n",
       "      <td>Yearly</td>\n",
       "      <td>0</td>\n",
       "    </tr>\n",
       "  </tbody>\n",
       "</table>\n",
       "<p>5 rows × 22 columns</p>\n",
       "</div>"
      ],
      "text/plain": [
       "   msno  Monetary  Recency  Frequency  is_auto_renew  is_discount  BestPlan  \\\n",
       "0   187      1788      219        410              0            0       410   \n",
       "1   501      1788      263        410              0            0       410   \n",
       "2  2184      1788      239        410              0            0       410   \n",
       "3  3550      1788      210        410              0            0       410   \n",
       "4  4465      1788      278        410              0            0       410   \n",
       "\n",
       "   active_days_per_month  total_usage_time_per_month  \\\n",
       "0                     12                   48210.151   \n",
       "1                     12                   50496.753   \n",
       "2                     14                   36132.039   \n",
       "3                     13                   42064.803   \n",
       "4                     18                   65668.010   \n",
       "\n",
       "   total_unique_songs_played_per_month  ...  Percent_Songs_Played_100  \\\n",
       "0                                  364  ...                 23.739586   \n",
       "1                                  167  ...                 91.490592   \n",
       "2                                  212  ...                 59.349542   \n",
       "3                                  157  ...                 54.224399   \n",
       "4                                  312  ...                 83.163338   \n",
       "\n",
       "   is_churn  RecencyCluster  FrequencyCluster  MonetaryCluster  \\\n",
       "0         1               1                 2                2   \n",
       "1         1               1                 2                2   \n",
       "2         1               1                 2                2   \n",
       "3         1               1                 2                2   \n",
       "4         1               1                 2                2   \n",
       "\n",
       "   SongsPlayedFrequencyCluster  OverallScore    Segment    Plan drop  \n",
       "0                            0             5  Mid-Value  Yearly    0  \n",
       "1                            0             5  Mid-Value  Yearly    0  \n",
       "2                            0             5  Mid-Value  Yearly    0  \n",
       "3                            0             5  Mid-Value  Yearly    0  \n",
       "4                            0             5  Mid-Value  Yearly    0  \n",
       "\n",
       "[5 rows x 22 columns]"
      ]
     },
     "execution_count": 3,
     "metadata": {},
     "output_type": "execute_result"
    }
   ],
   "source": [
    "data.head()"
   ]
  },
  {
   "cell_type": "code",
   "execution_count": 4,
   "id": "dd11f85d",
   "metadata": {},
   "outputs": [
    {
     "data": {
      "text/plain": [
       "(36403, 22)"
      ]
     },
     "execution_count": 4,
     "metadata": {},
     "output_type": "execute_result"
    }
   ],
   "source": [
    "data.shape"
   ]
  },
  {
   "cell_type": "markdown",
   "id": "fa4a46ba",
   "metadata": {},
   "source": [
    "## Label Encoding, Scaling and Test Train Split "
   ]
  },
  {
   "cell_type": "code",
   "execution_count": 5,
   "id": "68b780a0",
   "metadata": {},
   "outputs": [],
   "source": [
    "from  sklearn.model_selection  import  train_test_split \n",
    "X = data.drop('is_churn',axis=1)\n",
    "X = X.drop(['OverallScore','RecencyCluster','FrequencyCluster','MonetaryCluster','SongsPlayedFrequencyCluster','msno','BestPlan','Monetary','drop'],axis=1)\n",
    "y= data['is_churn']"
   ]
  },
  {
   "cell_type": "code",
   "execution_count": 6,
   "id": "60a639d9",
   "metadata": {},
   "outputs": [],
   "source": [
    "cols = X.columns"
   ]
  },
  {
   "cell_type": "code",
   "execution_count": 7,
   "id": "ed44eb71",
   "metadata": {},
   "outputs": [
    {
     "name": "stdout",
     "output_type": "stream",
     "text": [
      "Index(['Segment', 'Plan'], dtype='object')\n"
     ]
    }
   ],
   "source": [
    "objList = X.select_dtypes(include = \"object\").columns #\n",
    "print (objList)"
   ]
  },
  {
   "cell_type": "code",
   "execution_count": 8,
   "id": "b504b2ea",
   "metadata": {},
   "outputs": [
    {
     "name": "stdout",
     "output_type": "stream",
     "text": [
      "<class 'pandas.core.frame.DataFrame'>\n",
      "RangeIndex: 36403 entries, 0 to 36402\n",
      "Data columns (total 12 columns):\n",
      " #   Column                               Non-Null Count  Dtype  \n",
      "---  ------                               --------------  -----  \n",
      " 0   Recency                              36403 non-null  int64  \n",
      " 1   Frequency                            36403 non-null  int64  \n",
      " 2   is_auto_renew                        36403 non-null  int64  \n",
      " 3   is_discount                          36403 non-null  int64  \n",
      " 4   active_days_per_month                36403 non-null  int64  \n",
      " 5   total_usage_time_per_month           36403 non-null  float64\n",
      " 6   total_unique_songs_played_per_month  36403 non-null  int64  \n",
      " 7   Percent_Songs_Played_25              36403 non-null  float64\n",
      " 8   Percent_Songs_Played_50              36403 non-null  float64\n",
      " 9   Percent_Songs_Played_100             36403 non-null  float64\n",
      " 10  Segment                              36403 non-null  int32  \n",
      " 11  Plan                                 36403 non-null  int32  \n",
      "dtypes: float64(4), int32(2), int64(6)\n",
      "memory usage: 3.1 MB\n",
      "None\n"
     ]
    }
   ],
   "source": [
    "from sklearn.preprocessing import LabelEncoder #encoder package of sklearn\n",
    "le = LabelEncoder() #le variable has been assigned a labelencoder function\n",
    "\n",
    "for Shiv in objList:\n",
    "    X[Shiv] = le.fit_transform(X[Shiv].astype(str))\n",
    "\n",
    "print (X.info())"
   ]
  },
  {
   "cell_type": "code",
   "execution_count": 9,
   "id": "0f00abe1",
   "metadata": {},
   "outputs": [],
   "source": [
    "from sklearn.preprocessing import StandardScaler\n",
    "X = StandardScaler().fit_transform(X)"
   ]
  },
  {
   "cell_type": "code",
   "execution_count": 10,
   "id": "d740dca2",
   "metadata": {},
   "outputs": [],
   "source": [
    "X = pd.DataFrame(X, columns=cols)"
   ]
  },
  {
   "cell_type": "code",
   "execution_count": 11,
   "id": "cd0dd896",
   "metadata": {},
   "outputs": [
    {
     "data": {
      "text/html": [
       "<div>\n",
       "<style scoped>\n",
       "    .dataframe tbody tr th:only-of-type {\n",
       "        vertical-align: middle;\n",
       "    }\n",
       "\n",
       "    .dataframe tbody tr th {\n",
       "        vertical-align: top;\n",
       "    }\n",
       "\n",
       "    .dataframe thead th {\n",
       "        text-align: right;\n",
       "    }\n",
       "</style>\n",
       "<table border=\"1\" class=\"dataframe\">\n",
       "  <thead>\n",
       "    <tr style=\"text-align: right;\">\n",
       "      <th></th>\n",
       "      <th>Recency</th>\n",
       "      <th>Frequency</th>\n",
       "      <th>is_auto_renew</th>\n",
       "      <th>is_discount</th>\n",
       "      <th>active_days_per_month</th>\n",
       "      <th>total_usage_time_per_month</th>\n",
       "      <th>total_unique_songs_played_per_month</th>\n",
       "      <th>Percent_Songs_Played_25</th>\n",
       "      <th>Percent_Songs_Played_50</th>\n",
       "      <th>Percent_Songs_Played_100</th>\n",
       "      <th>Segment</th>\n",
       "      <th>Plan</th>\n",
       "    </tr>\n",
       "  </thead>\n",
       "  <tbody>\n",
       "    <tr>\n",
       "      <th>0</th>\n",
       "      <td>5.562329</td>\n",
       "      <td>4.802633</td>\n",
       "      <td>-2.553376</td>\n",
       "      <td>-0.064108</td>\n",
       "      <td>0.389943</td>\n",
       "      <td>0.014170</td>\n",
       "      <td>0.524546</td>\n",
       "      <td>0.689825</td>\n",
       "      <td>2.378369</td>\n",
       "      <td>-1.627095</td>\n",
       "      <td>2.605203</td>\n",
       "      <td>5.811177</td>\n",
       "    </tr>\n",
       "    <tr>\n",
       "      <th>1</th>\n",
       "      <td>6.777825</td>\n",
       "      <td>4.802633</td>\n",
       "      <td>-2.553376</td>\n",
       "      <td>-0.064108</td>\n",
       "      <td>0.389943</td>\n",
       "      <td>0.037241</td>\n",
       "      <td>-0.059324</td>\n",
       "      <td>-0.878969</td>\n",
       "      <td>-0.562914</td>\n",
       "      <td>1.035511</td>\n",
       "      <td>2.605203</td>\n",
       "      <td>5.811177</td>\n",
       "    </tr>\n",
       "    <tr>\n",
       "      <th>2</th>\n",
       "      <td>6.114827</td>\n",
       "      <td>4.802633</td>\n",
       "      <td>-2.553376</td>\n",
       "      <td>-0.064108</td>\n",
       "      <td>0.645609</td>\n",
       "      <td>-0.107696</td>\n",
       "      <td>0.074047</td>\n",
       "      <td>0.299632</td>\n",
       "      <td>-0.190878</td>\n",
       "      <td>-0.227628</td>\n",
       "      <td>2.605203</td>\n",
       "      <td>5.811177</td>\n",
       "    </tr>\n",
       "    <tr>\n",
       "      <th>3</th>\n",
       "      <td>5.313705</td>\n",
       "      <td>4.802633</td>\n",
       "      <td>-2.553376</td>\n",
       "      <td>-0.064108</td>\n",
       "      <td>0.517776</td>\n",
       "      <td>-0.047836</td>\n",
       "      <td>-0.088962</td>\n",
       "      <td>0.109970</td>\n",
       "      <td>0.571018</td>\n",
       "      <td>-0.429046</td>\n",
       "      <td>2.605203</td>\n",
       "      <td>5.811177</td>\n",
       "    </tr>\n",
       "    <tr>\n",
       "      <th>4</th>\n",
       "      <td>7.192198</td>\n",
       "      <td>4.802633</td>\n",
       "      <td>-2.553376</td>\n",
       "      <td>-0.064108</td>\n",
       "      <td>1.156941</td>\n",
       "      <td>0.190317</td>\n",
       "      <td>0.370428</td>\n",
       "      <td>-0.630147</td>\n",
       "      <td>-0.347369</td>\n",
       "      <td>0.708251</td>\n",
       "      <td>2.605203</td>\n",
       "      <td>5.811177</td>\n",
       "    </tr>\n",
       "    <tr>\n",
       "      <th>...</th>\n",
       "      <td>...</td>\n",
       "      <td>...</td>\n",
       "      <td>...</td>\n",
       "      <td>...</td>\n",
       "      <td>...</td>\n",
       "      <td>...</td>\n",
       "      <td>...</td>\n",
       "      <td>...</td>\n",
       "      <td>...</td>\n",
       "      <td>...</td>\n",
       "      <td>...</td>\n",
       "      <td>...</td>\n",
       "    </tr>\n",
       "    <tr>\n",
       "      <th>36398</th>\n",
       "      <td>0.092600</td>\n",
       "      <td>-0.265055</td>\n",
       "      <td>0.391638</td>\n",
       "      <td>-0.064108</td>\n",
       "      <td>2.690938</td>\n",
       "      <td>8.188326</td>\n",
       "      <td>6.315823</td>\n",
       "      <td>-0.838569</td>\n",
       "      <td>-0.546714</td>\n",
       "      <td>1.020135</td>\n",
       "      <td>2.605203</td>\n",
       "      <td>-0.208265</td>\n",
       "    </tr>\n",
       "    <tr>\n",
       "      <th>36399</th>\n",
       "      <td>0.230725</td>\n",
       "      <td>-0.265055</td>\n",
       "      <td>0.391638</td>\n",
       "      <td>-0.064108</td>\n",
       "      <td>2.690938</td>\n",
       "      <td>8.988996</td>\n",
       "      <td>8.769855</td>\n",
       "      <td>-0.989183</td>\n",
       "      <td>-0.559805</td>\n",
       "      <td>1.202347</td>\n",
       "      <td>2.605203</td>\n",
       "      <td>-0.208265</td>\n",
       "    </tr>\n",
       "    <tr>\n",
       "      <th>36400</th>\n",
       "      <td>0.092600</td>\n",
       "      <td>-0.265055</td>\n",
       "      <td>0.391638</td>\n",
       "      <td>-0.064108</td>\n",
       "      <td>2.690938</td>\n",
       "      <td>8.545959</td>\n",
       "      <td>4.611635</td>\n",
       "      <td>-0.749388</td>\n",
       "      <td>-0.442543</td>\n",
       "      <td>0.923717</td>\n",
       "      <td>2.605203</td>\n",
       "      <td>-0.208265</td>\n",
       "    </tr>\n",
       "    <tr>\n",
       "      <th>36401</th>\n",
       "      <td>0.258350</td>\n",
       "      <td>-0.265055</td>\n",
       "      <td>0.391638</td>\n",
       "      <td>-0.064108</td>\n",
       "      <td>2.690938</td>\n",
       "      <td>7.822495</td>\n",
       "      <td>4.214485</td>\n",
       "      <td>-0.891642</td>\n",
       "      <td>-0.514353</td>\n",
       "      <td>1.057497</td>\n",
       "      <td>2.605203</td>\n",
       "      <td>-0.208265</td>\n",
       "    </tr>\n",
       "    <tr>\n",
       "      <th>36402</th>\n",
       "      <td>-0.432273</td>\n",
       "      <td>-0.265055</td>\n",
       "      <td>0.391638</td>\n",
       "      <td>-0.064108</td>\n",
       "      <td>2.818771</td>\n",
       "      <td>10.700307</td>\n",
       "      <td>2.578464</td>\n",
       "      <td>-0.729012</td>\n",
       "      <td>-0.092623</td>\n",
       "      <td>0.551047</td>\n",
       "      <td>2.605203</td>\n",
       "      <td>-0.208265</td>\n",
       "    </tr>\n",
       "  </tbody>\n",
       "</table>\n",
       "<p>36403 rows × 12 columns</p>\n",
       "</div>"
      ],
      "text/plain": [
       "        Recency  Frequency  is_auto_renew  is_discount  active_days_per_month  \\\n",
       "0      5.562329   4.802633      -2.553376    -0.064108               0.389943   \n",
       "1      6.777825   4.802633      -2.553376    -0.064108               0.389943   \n",
       "2      6.114827   4.802633      -2.553376    -0.064108               0.645609   \n",
       "3      5.313705   4.802633      -2.553376    -0.064108               0.517776   \n",
       "4      7.192198   4.802633      -2.553376    -0.064108               1.156941   \n",
       "...         ...        ...            ...          ...                    ...   \n",
       "36398  0.092600  -0.265055       0.391638    -0.064108               2.690938   \n",
       "36399  0.230725  -0.265055       0.391638    -0.064108               2.690938   \n",
       "36400  0.092600  -0.265055       0.391638    -0.064108               2.690938   \n",
       "36401  0.258350  -0.265055       0.391638    -0.064108               2.690938   \n",
       "36402 -0.432273  -0.265055       0.391638    -0.064108               2.818771   \n",
       "\n",
       "       total_usage_time_per_month  total_unique_songs_played_per_month  \\\n",
       "0                        0.014170                             0.524546   \n",
       "1                        0.037241                            -0.059324   \n",
       "2                       -0.107696                             0.074047   \n",
       "3                       -0.047836                            -0.088962   \n",
       "4                        0.190317                             0.370428   \n",
       "...                           ...                                  ...   \n",
       "36398                    8.188326                             6.315823   \n",
       "36399                    8.988996                             8.769855   \n",
       "36400                    8.545959                             4.611635   \n",
       "36401                    7.822495                             4.214485   \n",
       "36402                   10.700307                             2.578464   \n",
       "\n",
       "       Percent_Songs_Played_25  Percent_Songs_Played_50  \\\n",
       "0                     0.689825                 2.378369   \n",
       "1                    -0.878969                -0.562914   \n",
       "2                     0.299632                -0.190878   \n",
       "3                     0.109970                 0.571018   \n",
       "4                    -0.630147                -0.347369   \n",
       "...                        ...                      ...   \n",
       "36398                -0.838569                -0.546714   \n",
       "36399                -0.989183                -0.559805   \n",
       "36400                -0.749388                -0.442543   \n",
       "36401                -0.891642                -0.514353   \n",
       "36402                -0.729012                -0.092623   \n",
       "\n",
       "       Percent_Songs_Played_100   Segment      Plan  \n",
       "0                     -1.627095  2.605203  5.811177  \n",
       "1                      1.035511  2.605203  5.811177  \n",
       "2                     -0.227628  2.605203  5.811177  \n",
       "3                     -0.429046  2.605203  5.811177  \n",
       "4                      0.708251  2.605203  5.811177  \n",
       "...                         ...       ...       ...  \n",
       "36398                  1.020135  2.605203 -0.208265  \n",
       "36399                  1.202347  2.605203 -0.208265  \n",
       "36400                  0.923717  2.605203 -0.208265  \n",
       "36401                  1.057497  2.605203 -0.208265  \n",
       "36402                  0.551047  2.605203 -0.208265  \n",
       "\n",
       "[36403 rows x 12 columns]"
      ]
     },
     "execution_count": 11,
     "metadata": {},
     "output_type": "execute_result"
    }
   ],
   "source": [
    "X"
   ]
  },
  {
   "cell_type": "code",
   "execution_count": 12,
   "id": "12a1ff70",
   "metadata": {},
   "outputs": [],
   "source": [
    "X_train, X_test, y_train, y_test = train_test_split(X, y, test_size=0.2, random_state=42,stratify=y)"
   ]
  },
  {
   "cell_type": "code",
   "execution_count": 13,
   "id": "f947e77e",
   "metadata": {},
   "outputs": [],
   "source": [
    "from imblearn.over_sampling import SMOTE\n",
    "sm = SMOTE()\n",
    "X_train, y_train = sm.fit_resample(X_train, y_train.ravel())"
   ]
  },
  {
   "cell_type": "markdown",
   "id": "69d95ce9",
   "metadata": {},
   "source": [
    "## Churn Prediction Model Training "
   ]
  },
  {
   "cell_type": "markdown",
   "id": "f9d1582f",
   "metadata": {},
   "source": [
    "### K Nearest Neighbors "
   ]
  },
  {
   "cell_type": "code",
   "execution_count": 14,
   "id": "ea9d1175",
   "metadata": {},
   "outputs": [
    {
     "name": "stdout",
     "output_type": "stream",
     "text": [
      "Accuracy on training set: 94.47\n",
      "Accuracy on testing set: 78.85\n"
     ]
    }
   ],
   "source": [
    "from sklearn.neighbors import KNeighborsClassifier\n",
    "knn = KNeighborsClassifier(n_neighbors=3)\n",
    "\n",
    "knn.fit(X_train,y_train) #training data and  has been provided to the algorithm\n",
    "\n",
    "knn.score(X_train,y_train)#the data we are passing will be considered for the accuracy\n",
    "\n",
    "\n",
    "print(\"Accuracy on training set: {:.2f}\".format(knn.score(X_train, y_train)*100))\n",
    "\n",
    "print(\"Accuracy on testing set: {:.2f}\".format(knn.score(X_test, y_test)*100))"
   ]
  },
  {
   "cell_type": "code",
   "execution_count": 15,
   "id": "0cb12f6f",
   "metadata": {},
   "outputs": [],
   "source": [
    "y_pred = knn.predict(X_test)"
   ]
  },
  {
   "cell_type": "code",
   "execution_count": 16,
   "id": "5e65c5e7",
   "metadata": {},
   "outputs": [
    {
     "data": {
      "image/png": "[encoded data removed]",
      "text/plain": [
       "<Figure size 432x288 with 2 Axes>"
      ]
     },
     "metadata": {
      "needs_background": "light"
     },
     "output_type": "display_data"
    }
   ],
   "source": [
    "from sklearn.metrics import confusion_matrix, ConfusionMatrixDisplay\n",
    "cm = confusion_matrix(y_test, y_pred, labels=knn.classes_)\n",
    "disp = ConfusionMatrixDisplay(confusion_matrix=cm, display_labels=knn.classes_)\n",
    "disp.plot()\n",
    "plt.show()"
   ]
  },
  {
   "cell_type": "code",
   "execution_count": 17,
   "id": "65a57d50",
   "metadata": {},
   "outputs": [
    {
     "data": {
      "text/plain": [
       "0.811107419189606"
      ]
     },
     "execution_count": 17,
     "metadata": {},
     "output_type": "execute_result"
    }
   ],
   "source": [
    "from sklearn.metrics import precision_score\n",
    "precision_score(y_test, y_pred, average='weighted')"
   ]
  },
  {
   "cell_type": "code",
   "execution_count": 18,
   "id": "4043d780",
   "metadata": {},
   "outputs": [
    {
     "data": {
      "text/plain": [
       "0.7884905919516549"
      ]
     },
     "execution_count": 18,
     "metadata": {},
     "output_type": "execute_result"
    }
   ],
   "source": [
    "from sklearn.metrics import recall_score\n",
    "recall_score(y_test, y_pred, average='weighted')"
   ]
  },
  {
   "cell_type": "code",
   "execution_count": 19,
   "id": "4ab1971b",
   "metadata": {},
   "outputs": [
    {
     "data": {
      "text/plain": [
       "0.7965626417595963"
      ]
     },
     "execution_count": 19,
     "metadata": {},
     "output_type": "execute_result"
    }
   ],
   "source": [
    "from sklearn.metrics import f1_score\n",
    "f1_score(y_test, y_pred, average='weighted')"
   ]
  },
  {
   "cell_type": "markdown",
   "id": "262739a1",
   "metadata": {},
   "source": [
    "### Decision Tree Classifier "
   ]
  },
  {
   "cell_type": "code",
   "execution_count": 20,
   "id": "2273cb44",
   "metadata": {},
   "outputs": [
    {
     "name": "stdout",
     "output_type": "stream",
     "text": [
      "Accuracy on training set: 0.917\n",
      "Accuracy on testing set: 0.899\n"
     ]
    }
   ],
   "source": [
    "from sklearn.tree import DecisionTreeClassifier\n",
    "tree = DecisionTreeClassifier(criterion=\"entropy\",max_depth=25)\n",
    "#tree = DecisionTreeClassifier()\n",
    "tree.fit(X_train, y_train)\n",
    "\n",
    "print(\"Accuracy on training set: {:.3f}\".format(tree.score(X_train, y_train)))\n",
    "\n",
    "print(\"Accuracy on testing set: {:.3f}\".format(tree.score(X_test, y_test)))"
   ]
  },
  {
   "cell_type": "code",
   "execution_count": 21,
   "id": "65b27bd9",
   "metadata": {},
   "outputs": [
    {
     "name": "stdout",
     "output_type": "stream",
     "text": [
      "Feature importances:\n",
      "[3.17989325e-01 7.26076895e-03 1.50962053e-03 5.32088787e-04\n",
      " 4.59294174e-01 9.77124200e-02 3.16825607e-02 2.55790483e-02\n",
      " 2.78755476e-02 2.98833703e-02 2.06644151e-04 4.74431866e-04]\n"
     ]
    },
    {
     "data": {
      "image/png": "[encoded data removed]",
      "text/plain": [
       "<Figure size 432x288 with 1 Axes>"
      ]
     },
     "metadata": {
      "needs_background": "light"
     },
     "output_type": "display_data"
    }
   ],
   "source": [
    "print(\"Feature importances:\\n{}\".format(tree.feature_importances_))\n",
    "import matplotlib.pyplot as plt\n",
    "def plot_feature_importances(model):\n",
    "    n_features = X_train.shape[1]\n",
    "    plt.barh(range(n_features), model.feature_importances_, align='center')\n",
    "    plt.yticks(np.arange(n_features), X_train.columns)\n",
    "    plt.xlabel(\"Feature importance\")\n",
    "    plt.ylabel(\"Feature\")\n",
    "plot_feature_importances(tree)"
   ]
  },
  {
   "cell_type": "code",
   "execution_count": 22,
   "id": "109c97c2",
   "metadata": {},
   "outputs": [],
   "source": [
    "y_pred = tree.predict(X_test)"
   ]
  },
  {
   "cell_type": "code",
   "execution_count": 23,
   "id": "b680f184",
   "metadata": {},
   "outputs": [
    {
     "data": {
      "image/png": "[encoded data removed]",
      "text/plain": [
       "<Figure size 432x288 with 2 Axes>"
      ]
     },
     "metadata": {
      "needs_background": "light"
     },
     "output_type": "display_data"
    }
   ],
   "source": [
    "from sklearn.metrics import confusion_matrix, ConfusionMatrixDisplay\n",
    "cm = confusion_matrix(y_test, y_pred, labels=knn.classes_)\n",
    "disp = ConfusionMatrixDisplay(confusion_matrix=cm, display_labels=tree.classes_)\n",
    "disp.plot()\n",
    "plt.show()"
   ]
  },
  {
   "cell_type": "markdown",
   "id": "0f8f08ea",
   "metadata": {},
   "source": [
    "### Random Forest Classifier "
   ]
  },
  {
   "cell_type": "code",
   "execution_count": 24,
   "id": "fee6f805",
   "metadata": {},
   "outputs": [
    {
     "name": "stdout",
     "output_type": "stream",
     "text": [
      "Accuracy on training set: 0.985\n",
      "Accuracy on test set: 0.906\n"
     ]
    }
   ],
   "source": [
    "from sklearn.ensemble import RandomForestClassifier\n",
    "\n",
    "forest = RandomForestClassifier(n_estimators= 6, max_depth=50)\n",
    "\n",
    "forest.fit(X_train, y_train)\n",
    "\n",
    "print(\"Accuracy on training set: {:.3f}\".format(forest.score(X_train, y_train)))\n",
    "\n",
    "print(\"Accuracy on test set: {:.3f}\".format(forest.score(X_test, y_test)))"
   ]
  },
  {
   "cell_type": "code",
   "execution_count": 25,
   "id": "e6a77f9d",
   "metadata": {},
   "outputs": [
    {
     "data": {
      "image/png": "[encoded data removed]",
      "text/plain": [
       "<Figure size 432x288 with 1 Axes>"
      ]
     },
     "metadata": {
      "needs_background": "light"
     },
     "output_type": "display_data"
    }
   ],
   "source": [
    "plot_feature_importances(forest)"
   ]
  },
  {
   "cell_type": "code",
   "execution_count": 26,
   "id": "10cbcf68",
   "metadata": {},
   "outputs": [],
   "source": [
    "y_pred = forest.predict(X_test)"
   ]
  },
  {
   "cell_type": "code",
   "execution_count": 27,
   "id": "a664616d",
   "metadata": {},
   "outputs": [
    {
     "data": {
      "image/png": "[encoded data removed]",
      "text/plain": [
       "<Figure size 432x288 with 2 Axes>"
      ]
     },
     "metadata": {
      "needs_background": "light"
     },
     "output_type": "display_data"
    }
   ],
   "source": [
    "from sklearn.metrics import confusion_matrix, ConfusionMatrixDisplay\n",
    "cm = confusion_matrix(y_test, y_pred, labels=forest.classes_)\n",
    "disp = ConfusionMatrixDisplay(confusion_matrix=cm, display_labels=forest.classes_)\n",
    "disp.plot()\n",
    "plt.show()"
   ]
  },
  {
   "cell_type": "markdown",
   "id": "79bcc31b",
   "metadata": {},
   "source": [
    "### Gradient Boosting Classifier "
   ]
  },
  {
   "cell_type": "code",
   "execution_count": 28,
   "id": "a6fc38e1",
   "metadata": {},
   "outputs": [
    {
     "name": "stdout",
     "output_type": "stream",
     "text": [
      "Accuracy on training set: 0.933\n",
      "GBRT Accuracy on test set: 0.926\n"
     ]
    }
   ],
   "source": [
    "from sklearn.ensemble import GradientBoostingClassifier\n",
    "gbrt = GradientBoostingClassifier(random_state=0,learning_rate=0.1,max_depth=7)\n",
    "\n",
    "gbrt.fit(X_train, y_train)\n",
    "\n",
    "print(\"Accuracy on training set: {:.3f}\".format(gbrt.score(X_train, y_train)))\n",
    "\n",
    "print(\"GBRT Accuracy on test set: {:.3f}\".format(gbrt.score(X_test, y_test)))"
   ]
  },
  {
   "cell_type": "code",
   "execution_count": 29,
   "id": "462ceeea",
   "metadata": {},
   "outputs": [
    {
     "data": {
      "image/png": "[encoded data removed]",
      "text/plain": [
       "<Figure size 432x288 with 1 Axes>"
      ]
     },
     "metadata": {
      "needs_background": "light"
     },
     "output_type": "display_data"
    }
   ],
   "source": [
    "plot_feature_importances(gbrt)"
   ]
  },
  {
   "cell_type": "code",
   "execution_count": 30,
   "id": "4952ba73",
   "metadata": {},
   "outputs": [],
   "source": [
    "y_pred = gbrt.predict(X_test)"
   ]
  },
  {
   "cell_type": "code",
   "execution_count": 31,
   "id": "598b306e",
   "metadata": {},
   "outputs": [
    {
     "data": {
      "image/png": "[encoded data removed]",
      "text/plain": [
       "<Figure size 432x288 with 2 Axes>"
      ]
     },
     "metadata": {
      "needs_background": "light"
     },
     "output_type": "display_data"
    }
   ],
   "source": [
    "from sklearn.metrics import confusion_matrix, ConfusionMatrixDisplay\n",
    "cm = confusion_matrix(y_test, y_pred, labels=forest.classes_)\n",
    "disp = ConfusionMatrixDisplay(confusion_matrix=cm, display_labels=forest.classes_)\n",
    "disp.plot()\n",
    "plt.show()"
   ]
  },
  {
   "cell_type": "markdown",
   "id": "5dcfb8ad",
   "metadata": {},
   "source": [
    "### XGBoost Classifier "
   ]
  },
  {
   "cell_type": "code",
   "execution_count": 32,
   "id": "656a6c37",
   "metadata": {},
   "outputs": [
    {
     "name": "stdout",
     "output_type": "stream",
     "text": [
      "Accuracy on training set: 0.921\n",
      "Accuracy on test set: 0.926\n"
     ]
    }
   ],
   "source": [
    "import xgboost as xgb\n",
    "xgclf= xgb.XGBClassifier(learning_rate=0.1)\n",
    "xgclf.fit(X_train, y_train)\n",
    "\n",
    "print(\"Accuracy on training set: {:.3f}\".format(xgclf.score(X_train, y_train)))\n",
    "\n",
    "print(\"Accuracy on test set: {:.3f}\".format(xgclf.score(X_test, y_test)))"
   ]
  },
  {
   "cell_type": "code",
   "execution_count": 33,
   "id": "8c5d4499",
   "metadata": {},
   "outputs": [
    {
     "data": {
      "image/png": "[encoded data removed]",
      "text/plain": [
       "<Figure size 432x288 with 1 Axes>"
      ]
     },
     "metadata": {
      "needs_background": "light"
     },
     "output_type": "display_data"
    }
   ],
   "source": [
    "plot_feature_importances(forest)"
   ]
  },
  {
   "cell_type": "code",
   "execution_count": 34,
   "id": "db8c8ae5",
   "metadata": {},
   "outputs": [],
   "source": [
    "y_pred = xgclf.predict(X_test)"
   ]
  },
  {
   "cell_type": "code",
   "execution_count": 35,
   "id": "9ee58187",
   "metadata": {},
   "outputs": [
    {
     "data": {
      "image/png": "[encoded data removed]",
      "text/plain": [
       "<Figure size 432x288 with 2 Axes>"
      ]
     },
     "metadata": {
      "needs_background": "light"
     },
     "output_type": "display_data"
    }
   ],
   "source": [
    "from sklearn.metrics import confusion_matrix, ConfusionMatrixDisplay\n",
    "cm = confusion_matrix(y_test, y_pred, labels=forest.classes_)\n",
    "disp = ConfusionMatrixDisplay(confusion_matrix=cm, display_labels=forest.classes_)\n",
    "disp.plot()\n",
    "plt.show()"
   ]
  },
  {
   "cell_type": "code",
   "execution_count": 36,
   "id": "b0b1654d",
   "metadata": {},
   "outputs": [],
   "source": [
    "pred_prob1 = knn.predict_proba(X_test)\n",
    "pred_prob2 = tree.predict_proba(X_test)\n",
    "pred_prob3 = forest.predict_proba(X_test)\n",
    "pred_prob4 = xgclf.predict_proba(X_test)"
   ]
  },
  {
   "cell_type": "code",
   "execution_count": 37,
   "id": "8840f292",
   "metadata": {},
   "outputs": [],
   "source": [
    "from sklearn.metrics import roc_curve\n",
    "\n",
    "# roc curve for models\n",
    "fpr1, tpr1, thresh1 = roc_curve(y_test, pred_prob1[:,1], pos_label=1)\n",
    "fpr2, tpr2, thresh2 = roc_curve(y_test, pred_prob2[:,1], pos_label=1)\n",
    "fpr3, tpr3, thresh3 = roc_curve(y_test, pred_prob3[:,1], pos_label=1)\n",
    "fpr4, tpr4, thresh4 = roc_curve(y_test, pred_prob4[:,1], pos_label=1)\n",
    "\n",
    "# roc curve for tpr = fpr \n",
    "random_probs = [0 for i in range(len(y_test))]\n",
    "p_fpr, p_tpr, _ = roc_curve(y_test, random_probs, pos_label=1)"
   ]
  },
  {
   "cell_type": "code",
   "execution_count": 38,
   "id": "cb64d127",
   "metadata": {},
   "outputs": [
    {
     "name": "stdout",
     "output_type": "stream",
     "text": [
      "0.7893997468758749 0.8255298507352478 0.8377380580919656 0.8429687907109902\n"
     ]
    }
   ],
   "source": [
    "from sklearn.metrics import roc_auc_score\n",
    "\n",
    "# auc scores\n",
    "auc_score1 = roc_auc_score(y_test, pred_prob1[:,1])\n",
    "auc_score2 = roc_auc_score(y_test, pred_prob2[:,1])\n",
    "auc_score3 = roc_auc_score(y_test, pred_prob3[:,1])\n",
    "auc_score4 = roc_auc_score(y_test, pred_prob4[:,1])\n",
    "\n",
    "print(auc_score1, auc_score2, auc_score3, auc_score4)"
   ]
  },
  {
   "cell_type": "code",
   "execution_count": 39,
   "id": "90e9e4ac",
   "metadata": {},
   "outputs": [
    {
     "data": {
      "image/png": "[encoded data removed]",
      "text/plain": [
       "<Figure size 576x396 with 1 Axes>"
      ]
     },
     "metadata": {},
     "output_type": "display_data"
    }
   ],
   "source": [
    "# matplotlib\n",
    "import matplotlib.pyplot as plt\n",
    "plt.style.use('seaborn')\n",
    "\n",
    "# plot roc curves\n",
    "plt.plot(fpr1, tpr1, linestyle='--',color='orange', label='KNN')\n",
    "plt.plot(fpr2, tpr2, linestyle='--',color='green', label='Decision Tree')\n",
    "plt.plot(fpr3, tpr3, linestyle='--',color='red', label='Random Forest Classifier')\n",
    "plt.plot(fpr4, tpr4, linestyle='--',color='yellow', label='XG Boost')\n",
    "plt.plot(p_fpr, p_tpr, linestyle='--', color='blue')\n",
    "# title\n",
    "plt.title('ROC curve')\n",
    "# x label\n",
    "plt.xlabel('False Positive Rate')\n",
    "# y label\n",
    "plt.ylabel('True Positive rate')\n",
    "\n",
    "plt.legend(loc='best')\n",
    "#plt.savefig('ROC',dpi=300)\n",
    "plt.show();"
   ]
  },
  {
   "cell_type": "markdown",
   "id": "1ba60aa1",
   "metadata": {},
   "source": [
    "### Exporting The Results "
   ]
  },
  {
   "cell_type": "code",
   "execution_count": 51,
   "id": "4fc8675a",
   "metadata": {},
   "outputs": [],
   "source": [
    "dataToPredict = data"
   ]
  },
  {
   "cell_type": "code",
   "execution_count": 52,
   "id": "b8d3ce0c",
   "metadata": {},
   "outputs": [
    {
     "data": {
      "text/html": [
       "<div>\n",
       "<style scoped>\n",
       "    .dataframe tbody tr th:only-of-type {\n",
       "        vertical-align: middle;\n",
       "    }\n",
       "\n",
       "    .dataframe tbody tr th {\n",
       "        vertical-align: top;\n",
       "    }\n",
       "\n",
       "    .dataframe thead th {\n",
       "        text-align: right;\n",
       "    }\n",
       "</style>\n",
       "<table border=\"1\" class=\"dataframe\">\n",
       "  <thead>\n",
       "    <tr style=\"text-align: right;\">\n",
       "      <th></th>\n",
       "      <th>msno</th>\n",
       "      <th>Monetary</th>\n",
       "      <th>Recency</th>\n",
       "      <th>Frequency</th>\n",
       "      <th>is_auto_renew</th>\n",
       "      <th>is_discount</th>\n",
       "      <th>BestPlan</th>\n",
       "      <th>active_days_per_month</th>\n",
       "      <th>total_usage_time_per_month</th>\n",
       "      <th>total_unique_songs_played_per_month</th>\n",
       "      <th>...</th>\n",
       "      <th>Percent_Songs_Played_100</th>\n",
       "      <th>is_churn</th>\n",
       "      <th>RecencyCluster</th>\n",
       "      <th>FrequencyCluster</th>\n",
       "      <th>MonetaryCluster</th>\n",
       "      <th>SongsPlayedFrequencyCluster</th>\n",
       "      <th>OverallScore</th>\n",
       "      <th>Segment</th>\n",
       "      <th>Plan</th>\n",
       "      <th>drop</th>\n",
       "    </tr>\n",
       "  </thead>\n",
       "  <tbody>\n",
       "    <tr>\n",
       "      <th>0</th>\n",
       "      <td>187</td>\n",
       "      <td>1788</td>\n",
       "      <td>219</td>\n",
       "      <td>410</td>\n",
       "      <td>0</td>\n",
       "      <td>0</td>\n",
       "      <td>410</td>\n",
       "      <td>12</td>\n",
       "      <td>48210.151</td>\n",
       "      <td>364</td>\n",
       "      <td>...</td>\n",
       "      <td>23.739586</td>\n",
       "      <td>1</td>\n",
       "      <td>1</td>\n",
       "      <td>2</td>\n",
       "      <td>2</td>\n",
       "      <td>0</td>\n",
       "      <td>5</td>\n",
       "      <td>Mid-Value</td>\n",
       "      <td>Yearly</td>\n",
       "      <td>0</td>\n",
       "    </tr>\n",
       "    <tr>\n",
       "      <th>1</th>\n",
       "      <td>501</td>\n",
       "      <td>1788</td>\n",
       "      <td>263</td>\n",
       "      <td>410</td>\n",
       "      <td>0</td>\n",
       "      <td>0</td>\n",
       "      <td>410</td>\n",
       "      <td>12</td>\n",
       "      <td>50496.753</td>\n",
       "      <td>167</td>\n",
       "      <td>...</td>\n",
       "      <td>91.490592</td>\n",
       "      <td>1</td>\n",
       "      <td>1</td>\n",
       "      <td>2</td>\n",
       "      <td>2</td>\n",
       "      <td>0</td>\n",
       "      <td>5</td>\n",
       "      <td>Mid-Value</td>\n",
       "      <td>Yearly</td>\n",
       "      <td>0</td>\n",
       "    </tr>\n",
       "    <tr>\n",
       "      <th>2</th>\n",
       "      <td>2184</td>\n",
       "      <td>1788</td>\n",
       "      <td>239</td>\n",
       "      <td>410</td>\n",
       "      <td>0</td>\n",
       "      <td>0</td>\n",
       "      <td>410</td>\n",
       "      <td>14</td>\n",
       "      <td>36132.039</td>\n",
       "      <td>212</td>\n",
       "      <td>...</td>\n",
       "      <td>59.349542</td>\n",
       "      <td>1</td>\n",
       "      <td>1</td>\n",
       "      <td>2</td>\n",
       "      <td>2</td>\n",
       "      <td>0</td>\n",
       "      <td>5</td>\n",
       "      <td>Mid-Value</td>\n",
       "      <td>Yearly</td>\n",
       "      <td>0</td>\n",
       "    </tr>\n",
       "    <tr>\n",
       "      <th>3</th>\n",
       "      <td>3550</td>\n",
       "      <td>1788</td>\n",
       "      <td>210</td>\n",
       "      <td>410</td>\n",
       "      <td>0</td>\n",
       "      <td>0</td>\n",
       "      <td>410</td>\n",
       "      <td>13</td>\n",
       "      <td>42064.803</td>\n",
       "      <td>157</td>\n",
       "      <td>...</td>\n",
       "      <td>54.224399</td>\n",
       "      <td>1</td>\n",
       "      <td>1</td>\n",
       "      <td>2</td>\n",
       "      <td>2</td>\n",
       "      <td>0</td>\n",
       "      <td>5</td>\n",
       "      <td>Mid-Value</td>\n",
       "      <td>Yearly</td>\n",
       "      <td>0</td>\n",
       "    </tr>\n",
       "    <tr>\n",
       "      <th>4</th>\n",
       "      <td>4465</td>\n",
       "      <td>1788</td>\n",
       "      <td>278</td>\n",
       "      <td>410</td>\n",
       "      <td>0</td>\n",
       "      <td>0</td>\n",
       "      <td>410</td>\n",
       "      <td>18</td>\n",
       "      <td>65668.010</td>\n",
       "      <td>312</td>\n",
       "      <td>...</td>\n",
       "      <td>83.163338</td>\n",
       "      <td>1</td>\n",
       "      <td>1</td>\n",
       "      <td>2</td>\n",
       "      <td>2</td>\n",
       "      <td>0</td>\n",
       "      <td>5</td>\n",
       "      <td>Mid-Value</td>\n",
       "      <td>Yearly</td>\n",
       "      <td>0</td>\n",
       "    </tr>\n",
       "  </tbody>\n",
       "</table>\n",
       "<p>5 rows × 22 columns</p>\n",
       "</div>"
      ],
      "text/plain": [
       "   msno  Monetary  Recency  Frequency  is_auto_renew  is_discount  BestPlan  \\\n",
       "0   187      1788      219        410              0            0       410   \n",
       "1   501      1788      263        410              0            0       410   \n",
       "2  2184      1788      239        410              0            0       410   \n",
       "3  3550      1788      210        410              0            0       410   \n",
       "4  4465      1788      278        410              0            0       410   \n",
       "\n",
       "   active_days_per_month  total_usage_time_per_month  \\\n",
       "0                     12                   48210.151   \n",
       "1                     12                   50496.753   \n",
       "2                     14                   36132.039   \n",
       "3                     13                   42064.803   \n",
       "4                     18                   65668.010   \n",
       "\n",
       "   total_unique_songs_played_per_month  ...  Percent_Songs_Played_100  \\\n",
       "0                                  364  ...                 23.739586   \n",
       "1                                  167  ...                 91.490592   \n",
       "2                                  212  ...                 59.349542   \n",
       "3                                  157  ...                 54.224399   \n",
       "4                                  312  ...                 83.163338   \n",
       "\n",
       "   is_churn  RecencyCluster  FrequencyCluster  MonetaryCluster  \\\n",
       "0         1               1                 2                2   \n",
       "1         1               1                 2                2   \n",
       "2         1               1                 2                2   \n",
       "3         1               1                 2                2   \n",
       "4         1               1                 2                2   \n",
       "\n",
       "   SongsPlayedFrequencyCluster  OverallScore    Segment    Plan drop  \n",
       "0                            0             5  Mid-Value  Yearly    0  \n",
       "1                            0             5  Mid-Value  Yearly    0  \n",
       "2                            0             5  Mid-Value  Yearly    0  \n",
       "3                            0             5  Mid-Value  Yearly    0  \n",
       "4                            0             5  Mid-Value  Yearly    0  \n",
       "\n",
       "[5 rows x 22 columns]"
      ]
     },
     "execution_count": 52,
     "metadata": {},
     "output_type": "execute_result"
    }
   ],
   "source": [
    "dataToPredict.head()"
   ]
  },
  {
   "cell_type": "code",
   "execution_count": 54,
   "id": "2da4e883",
   "metadata": {},
   "outputs": [],
   "source": [
    "dataToPredict = dataToPredict.drop(['OverallScore','RecencyCluster','FrequencyCluster','MonetaryCluster','SongsPlayedFrequencyCluster','BestPlan','Monetary','drop','is_churn'],axis=1)"
   ]
  },
  {
   "cell_type": "code",
   "execution_count": 55,
   "id": "dbc7715f",
   "metadata": {},
   "outputs": [],
   "source": [
    "result = pd.DataFrame()"
   ]
  },
  {
   "cell_type": "code",
   "execution_count": 56,
   "id": "4bc3fa67",
   "metadata": {},
   "outputs": [],
   "source": [
    "result['msno']=dataToPredict['msno']"
   ]
  },
  {
   "cell_type": "code",
   "execution_count": 57,
   "id": "32161604",
   "metadata": {},
   "outputs": [],
   "source": [
    "dataToPredict = dataToPredict.drop(['msno'],axis=1)"
   ]
  },
  {
   "cell_type": "code",
   "execution_count": 59,
   "id": "9a53d4cb",
   "metadata": {},
   "outputs": [
    {
     "name": "stdout",
     "output_type": "stream",
     "text": [
      "Index(['Segment', 'Plan'], dtype='object')\n"
     ]
    }
   ],
   "source": [
    "objList = dataToPredict.select_dtypes(include = \"object\").columns #\n",
    "print (objList)"
   ]
  },
  {
   "cell_type": "code",
   "execution_count": 60,
   "id": "af3b3c06",
   "metadata": {},
   "outputs": [
    {
     "name": "stdout",
     "output_type": "stream",
     "text": [
      "<class 'pandas.core.frame.DataFrame'>\n",
      "RangeIndex: 36403 entries, 0 to 36402\n",
      "Data columns (total 12 columns):\n",
      " #   Column                               Non-Null Count  Dtype  \n",
      "---  ------                               --------------  -----  \n",
      " 0   Recency                              36403 non-null  int64  \n",
      " 1   Frequency                            36403 non-null  int64  \n",
      " 2   is_auto_renew                        36403 non-null  int64  \n",
      " 3   is_discount                          36403 non-null  int64  \n",
      " 4   active_days_per_month                36403 non-null  int64  \n",
      " 5   total_usage_time_per_month           36403 non-null  float64\n",
      " 6   total_unique_songs_played_per_month  36403 non-null  int64  \n",
      " 7   Percent_Songs_Played_25              36403 non-null  float64\n",
      " 8   Percent_Songs_Played_50              36403 non-null  float64\n",
      " 9   Percent_Songs_Played_100             36403 non-null  float64\n",
      " 10  Segment                              36403 non-null  int32  \n",
      " 11  Plan                                 36403 non-null  int32  \n",
      "dtypes: float64(4), int32(2), int64(6)\n",
      "memory usage: 3.1 MB\n",
      "None\n"
     ]
    }
   ],
   "source": [
    "from sklearn.preprocessing import LabelEncoder #encoder package of sklearn\n",
    "le = LabelEncoder() #le variable has been assigned a labelencoder function\n",
    "\n",
    "for Shiv in objList:\n",
    "    dataToPredict[Shiv] = le.fit_transform(dataToPredict[Shiv].astype(str))\n",
    "\n",
    "print (dataToPredict.info())"
   ]
  },
  {
   "cell_type": "code",
   "execution_count": 61,
   "id": "ee13f5a7",
   "metadata": {},
   "outputs": [],
   "source": [
    "from sklearn.preprocessing import StandardScaler\n",
    "dataToPredict = StandardScaler().fit_transform(dataToPredict)"
   ]
  },
  {
   "cell_type": "code",
   "execution_count": 62,
   "id": "78dda0b7",
   "metadata": {},
   "outputs": [],
   "source": [
    "result['Churn'] = xgclf.predict(dataToPredict)"
   ]
  },
  {
   "cell_type": "code",
   "execution_count": 63,
   "id": "0d5d96eb",
   "metadata": {},
   "outputs": [],
   "source": [
    "prediction_of_probability = xgclf.predict_proba(dataToPredict)"
   ]
  },
  {
   "cell_type": "code",
   "execution_count": 64,
   "id": "cce17eaf",
   "metadata": {},
   "outputs": [],
   "source": [
    "result['Probability of Churn = Yes'] = prediction_of_probability[:,1]"
   ]
  },
  {
   "cell_type": "code",
   "execution_count": 65,
   "id": "1cf2e853",
   "metadata": {},
   "outputs": [],
   "source": [
    "result['Probability of Churn = No'] = prediction_of_probability[:,0]"
   ]
  },
  {
   "cell_type": "code",
   "execution_count": 66,
   "id": "bac76f73",
   "metadata": {},
   "outputs": [
    {
     "data": {
      "text/html": [
       "<div>\n",
       "<style scoped>\n",
       "    .dataframe tbody tr th:only-of-type {\n",
       "        vertical-align: middle;\n",
       "    }\n",
       "\n",
       "    .dataframe tbody tr th {\n",
       "        vertical-align: top;\n",
       "    }\n",
       "\n",
       "    .dataframe thead th {\n",
       "        text-align: right;\n",
       "    }\n",
       "</style>\n",
       "<table border=\"1\" class=\"dataframe\">\n",
       "  <thead>\n",
       "    <tr style=\"text-align: right;\">\n",
       "      <th></th>\n",
       "      <th>msno</th>\n",
       "      <th>Churn</th>\n",
       "      <th>Probability of Churn = Yes</th>\n",
       "      <th>Probability of Churn = No</th>\n",
       "    </tr>\n",
       "  </thead>\n",
       "  <tbody>\n",
       "    <tr>\n",
       "      <th>0</th>\n",
       "      <td>187</td>\n",
       "      <td>1</td>\n",
       "      <td>0.997562</td>\n",
       "      <td>0.002438</td>\n",
       "    </tr>\n",
       "    <tr>\n",
       "      <th>1</th>\n",
       "      <td>501</td>\n",
       "      <td>1</td>\n",
       "      <td>0.998025</td>\n",
       "      <td>0.001975</td>\n",
       "    </tr>\n",
       "    <tr>\n",
       "      <th>2</th>\n",
       "      <td>2184</td>\n",
       "      <td>1</td>\n",
       "      <td>0.998371</td>\n",
       "      <td>0.001629</td>\n",
       "    </tr>\n",
       "    <tr>\n",
       "      <th>3</th>\n",
       "      <td>3550</td>\n",
       "      <td>1</td>\n",
       "      <td>0.998022</td>\n",
       "      <td>0.001978</td>\n",
       "    </tr>\n",
       "    <tr>\n",
       "      <th>4</th>\n",
       "      <td>4465</td>\n",
       "      <td>1</td>\n",
       "      <td>0.999445</td>\n",
       "      <td>0.000555</td>\n",
       "    </tr>\n",
       "  </tbody>\n",
       "</table>\n",
       "</div>"
      ],
      "text/plain": [
       "   msno  Churn  Probability of Churn = Yes  Probability of Churn = No\n",
       "0   187      1                    0.997562                   0.002438\n",
       "1   501      1                    0.998025                   0.001975\n",
       "2  2184      1                    0.998371                   0.001629\n",
       "3  3550      1                    0.998022                   0.001978\n",
       "4  4465      1                    0.999445                   0.000555"
      ]
     },
     "execution_count": 66,
     "metadata": {},
     "output_type": "execute_result"
    }
   ],
   "source": [
    "result.head()"
   ]
  },
  {
   "cell_type": "code",
   "execution_count": 67,
   "id": "a0b23a6d",
   "metadata": {},
   "outputs": [
    {
     "data": {
      "text/plain": [
       "array([0.9975618 , 0.9980248 , 0.9983707 , ..., 0.99967945, 0.9954509 ,\n",
       "       0.9997305 ], dtype=float32)"
      ]
     },
     "execution_count": 67,
     "metadata": {},
     "output_type": "execute_result"
    }
   ],
   "source": [
    "result['Probability of Churn = Yes'].unique()"
   ]
  },
  {
   "cell_type": "code",
   "execution_count": 68,
   "id": "00a1c06a",
   "metadata": {},
   "outputs": [],
   "source": [
    "result.to_csv('ResultDataset/churn_results.csv',index=False)"
   ]
  }
 ],
 "metadata": {
  "kernelspec": {
   "display_name": "Python 3 (ipykernel)",
   "language": "python",
   "name": "python3"
  },
  "language_info": {
   "codemirror_mode": {
    "name": "ipython",
    "version": 3
   },
   "file_extension": ".py",
   "mimetype": "text/x-python",
   "name": "python",
   "nbconvert_exporter": "python",
   "pygments_lexer": "ipython3",
   "version": "3.9.7"
  }
 },
 "nbformat": 4,
 "nbformat_minor": 5
}
